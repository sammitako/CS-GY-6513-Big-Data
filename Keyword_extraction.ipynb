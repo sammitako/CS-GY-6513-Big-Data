{
  "cells": [
    {
      "cell_type": "markdown",
      "metadata": {
        "id": "view-in-github",
        "colab_type": "text"
      },
      "source": [
        "<a href=\"https://colab.research.google.com/github/sammitako/CS-GY-6513-Big-Data/blob/master/Keyword_extraction.ipynb\" target=\"_parent\"><img src=\"https://colab.research.google.com/assets/colab-badge.svg\" alt=\"Open In Colab\"/></a>"
      ]
    },
    {
      "cell_type": "code",
      "source": [
        "# Mount google drive\n",
        "from google.colab import drive\n",
        "drive.mount('/content/drive')"
      ],
      "metadata": {
        "colab": {
          "base_uri": "https://localhost:8080/"
        },
        "id": "vKGCKY0rfPyE",
        "outputId": "494ceaaa-250f-4609-bfe8-5f11190575a7"
      },
      "id": "vKGCKY0rfPyE",
      "execution_count": null,
      "outputs": [
        {
          "output_type": "stream",
          "name": "stdout",
          "text": [
            "Drive already mounted at /content/drive; to attempt to forcibly remount, call drive.mount(\"/content/drive\", force_remount=True).\n"
          ]
        }
      ]
    },
    {
      "cell_type": "code",
      "source": [
        "!pip install taxonerd"
      ],
      "metadata": {
        "id": "bdMrGIKufW9r"
      },
      "id": "bdMrGIKufW9r",
      "execution_count": null,
      "outputs": []
    },
    {
      "cell_type": "code",
      "source": [
        "!pip install --upgrade spacy"
      ],
      "metadata": {
        "id": "7wW90EN0fZBG"
      },
      "id": "7wW90EN0fZBG",
      "execution_count": null,
      "outputs": []
    },
    {
      "cell_type": "code",
      "source": [
        "!pip install https://github.com/nleguillarme/taxonerd/releases/download/v1.5.0/en_core_eco_biobert-1.0.2.tar.gz"
      ],
      "metadata": {
        "id": "clGijhNrfY9e"
      },
      "id": "clGijhNrfY9e",
      "execution_count": null,
      "outputs": []
    },
    {
      "cell_type": "code",
      "source": [
        "!pip install fuzzywuzzy"
      ],
      "metadata": {
        "id": "_v8SoX3JfY6T"
      },
      "id": "_v8SoX3JfY6T",
      "execution_count": null,
      "outputs": []
    },
    {
      "cell_type": "code",
      "source": [
        "!pip install python-Levenshtein"
      ],
      "metadata": {
        "id": "fLcsGnBxfY3i"
      },
      "id": "fLcsGnBxfY3i",
      "execution_count": null,
      "outputs": []
    },
    {
      "cell_type": "code",
      "execution_count": null,
      "id": "adbddcdf",
      "metadata": {
        "id": "adbddcdf"
      },
      "outputs": [],
      "source": [
        "# import libraries\n",
        "import spacy\n",
        "import csv\n",
        "import pandas as pd\n",
        "import numpy as np\n",
        "from rapidfuzz import fuzz\n",
        "from rapidfuzz import process\n",
        "import matplotlib.pyplot as plt\n",
        "import matplotlib.pyplot as plt\n",
        "import re\n",
        "from collections import Counter\n",
        "from taxonerd import TaxoNERD"
      ]
    },
    {
      "cell_type": "markdown",
      "source": [
        "\n",
        "# Selecting the column for species extraction.\n",
        ">Upon analyzing the data, we discovered that the 'name', 'title', and 'product' columns contain identical data in the field. Therefore, we chose the 'product' column as it has the longest average text length."
      ],
      "metadata": {
        "id": "tj209jjehaJ3"
      },
      "id": "tj209jjehaJ3"
    },
    {
      "cell_type": "code",
      "execution_count": null,
      "id": "d6d33e39",
      "metadata": {
        "id": "d6d33e39"
      },
      "outputs": [],
      "source": [
        "df = pd.read_csv('/content/drive/MyDrive/BigData/TeamNotebook/data/preprocessed_data_file_geography_price_removed_outliers.csv')\n",
        "df.info()"
      ]
    },
    {
      "cell_type": "code",
      "execution_count": null,
      "id": "f62d4711",
      "metadata": {
        "id": "f62d4711"
      },
      "outputs": [],
      "source": [
        "avg_length_product = df['product_fingerprint'].apply(lambda x: len(str(x))).mean()\n",
        "avg_length_name = df['name_fingerprint'].apply(lambda x: len(str(x))).mean()\n",
        "avg_length_title = df['title_fingerprint'].apply(lambda x: len(str(x))).mean()\n",
        "\n",
        "avg_lengths = {\n",
        "    'product_fingerprint': avg_length_product,\n",
        "    'name_fingerprint': avg_length_name,\n",
        "    'title_fingerprint': avg_length_title\n",
        "}\n",
        "\n",
        "# Find the column with the longest average text length\n",
        "column_with_longest_avg = max(avg_lengths, key=avg_lengths.get)\n",
        "print(f\"The column with the longest average text length is: {column_with_longest_avg} with an average length of {avg_lengths[column_with_longest_avg]}\")"
      ]
    },
    {
      "cell_type": "markdown",
      "source": [
        "*Drop* the columns 'name', 'title', 'product', and 'description' from DataFrame and then rename the `*_fingerprint` columns to just the base column names (like 'name')"
      ],
      "metadata": {
        "id": "ypYRgDSDhxbq"
      },
      "id": "ypYRgDSDhxbq"
    },
    {
      "cell_type": "code",
      "execution_count": null,
      "id": "9a2d88dd",
      "metadata": {
        "id": "9a2d88dd",
        "outputId": "16f8d772-7fd1-41b9-d402-7c2b7c2ce933"
      },
      "outputs": [
        {
          "data": {
            "text/plain": [
              "17433"
            ]
          },
          "execution_count": 235,
          "metadata": {},
          "output_type": "execute_result"
        }
      ],
      "source": [
        "df = df.drop(columns=['name', 'title', 'product', 'description'])\n",
        "\n",
        "df = df.rename(columns={\n",
        "    'name_fingerprint': 'name',\n",
        "    'title_fingerprint': 'title',\n",
        "    'product_fingerprint': 'product',\n",
        "    'description_fingerprint': 'description'\n",
        "})\n",
        "\n",
        "# Reordering the columns\n",
        "columns_first = ['name', 'title', 'product', 'description']\n",
        "remaining_columns = [col for col in df.columns if col not in columns_first]\n",
        "new_column_order = columns_first + remaining_columns\n",
        "df = df[new_column_order]\n",
        "df.head()"
      ]
    },
    {
      "cell_type": "markdown",
      "source": [
        "# Data pre-processing: Removing duplicates"
      ],
      "metadata": {
        "id": "K5bHelzXh2uZ"
      },
      "id": "K5bHelzXh2uZ"
    },
    {
      "cell_type": "code",
      "execution_count": null,
      "id": "f40de8e6",
      "metadata": {
        "id": "f40de8e6"
      },
      "outputs": [],
      "source": [
        "# product_fingerprint column.\n",
        "df['product']"
      ]
    },
    {
      "cell_type": "code",
      "execution_count": null,
      "id": "9a87a6fb",
      "metadata": {
        "id": "9a87a6fb",
        "outputId": "9dc5ab4b-abc1-44d8-9a65-3f08f168b433"
      },
      "outputs": [
        {
          "data": {
            "text/plain": [
              "name       17269\n",
              "product    17414\n",
              "title      17414\n",
              "dtype: int64"
            ]
          },
          "execution_count": 237,
          "metadata": {},
          "output_type": "execute_result"
        }
      ],
      "source": [
        "# The unique values that have duplicates\n",
        "duplicate_values = df.loc[df['product'].duplicated(keep='first'), 'product'].unique()\n",
        "\n",
        "print(len(duplicate_values))"
      ]
    },
    {
      "cell_type": "code",
      "source": [
        "print(duplicate_values[0])"
      ],
      "metadata": {
        "id": "OPbd6rvIiE2N"
      },
      "id": "OPbd6rvIiE2N",
      "execution_count": null,
      "outputs": []
    },
    {
      "cell_type": "code",
      "source": [
        "first_duplicate_value = duplicate_values[0]\n",
        "rows_with_first_duplicate = df[df['product'] == first_duplicate_value]\n",
        "\n",
        "rows_with_first_duplicate"
      ],
      "metadata": {
        "id": "nEfjkcjtiEnt"
      },
      "id": "nEfjkcjtiEnt",
      "execution_count": null,
      "outputs": []
    },
    {
      "cell_type": "markdown",
      "source": [
        "We observed that the same advertisements are posted on different URLs. Upon examination, we noted that the 'name', 'title', and 'product' are the same; however, the descriptions vary:\n",
        "\n",
        "- Remove duplicate rows where 'name', 'title', and 'product' are the same.\n",
        "- Remove duplicate rows where the description is the same."
      ],
      "metadata": {
        "id": "Ml2ywT0niOzs"
      },
      "id": "Ml2ywT0niOzs"
    },
    {
      "cell_type": "code",
      "source": [
        "# Step 1\n",
        "df = df.drop_duplicates(subset=['name', 'title', 'product'])\n",
        "\n",
        "# Step 2\n",
        "df = df.drop_duplicates(subset=['description'])"
      ],
      "metadata": {
        "id": "FKZXZVatiQWh"
      },
      "id": "FKZXZVatiQWh",
      "execution_count": null,
      "outputs": []
    },
    {
      "cell_type": "code",
      "source": [
        "# name, title, product: 51610 -> 17433 (-34177)\n",
        "# description: 51306 -> 17432 (-33874)\n",
        "df.info()"
      ],
      "metadata": {
        "id": "CBSjmC3ZiQJ5"
      },
      "id": "CBSjmC3ZiQJ5",
      "execution_count": null,
      "outputs": []
    },
    {
      "cell_type": "code",
      "source": [
        "# product_fingerprint column.\n",
        "df.head(10)"
      ],
      "metadata": {
        "id": "rpw8jarViP_e"
      },
      "id": "rpw8jarViP_e",
      "execution_count": null,
      "outputs": []
    },
    {
      "cell_type": "code",
      "source": [
        "final_file_path = '/content/drive/MyDrive/BigData/TeamNotebook/data/final_cleaned_data.csv'\n",
        "df.to_csv(final_file_path, index=False)"
      ],
      "metadata": {
        "id": "OpuyiJmnjAPH"
      },
      "id": "OpuyiJmnjAPH",
      "execution_count": null,
      "outputs": []
    },
    {
      "cell_type": "markdown",
      "source": [
        "# Data pre-proceesing: Removing rows not related to wildlife trafficking."
      ],
      "metadata": {
        "id": "eBIdezIMiQ3l"
      },
      "id": "eBIdezIMiQ3l"
    },
    {
      "cell_type": "markdown",
      "id": "84e53481",
      "metadata": {
        "id": "84e53481"
      },
      "source": [
        "### We remove rows where the product description indicates that it might not be related to wildlife trading.\n",
        ">From the dataset, we remove rows that have terms such as 'faux' and 'replica' in the product column which implies that the product is not a real animal or an animal body part. More examples: 'peluche' translates to stuffed toy, so we will remove those entries too."
      ]
    },
    {
      "cell_type": "code",
      "execution_count": null,
      "id": "8cd5dba6",
      "metadata": {
        "id": "8cd5dba6"
      },
      "outputs": [],
      "source": [
        "non_animal_product_list = ['faux','replica','toolbox','hardback','toy','figure','tool','book','peluche','juguete']"
      ]
    },
    {
      "cell_type": "code",
      "execution_count": null,
      "id": "50842516",
      "metadata": {
        "id": "50842516"
      },
      "outputs": [],
      "source": [
        "df = df[~df['product'].str.contains('|'.join(non_animal_product_list), na=False)]"
      ]
    },
    {
      "cell_type": "code",
      "execution_count": null,
      "id": "ab40520d",
      "metadata": {
        "id": "ab40520d",
        "outputId": "94b77321-d298-4b41-c1dd-84a34bc4c6bd"
      },
      "outputs": [
        {
          "data": {
            "text/plain": [
              "16234"
            ]
          },
          "execution_count": 240,
          "metadata": {},
          "output_type": "execute_result"
        }
      ],
      "source": [
        "df.shape[0]"
      ]
    },
    {
      "cell_type": "markdown",
      "id": "734e7bed",
      "metadata": {
        "id": "734e7bed"
      },
      "source": [
        ">Approximately 1000 entries are removed from the dataset."
      ]
    },
    {
      "cell_type": "markdown",
      "id": "5c6ad848",
      "metadata": {
        "id": "5c6ad848"
      },
      "source": [
        "### Retain rows that contains certain common keywords.\n",
        ">In contrary to the previous approach, we can also assume that an ad listing is related to wildlife trafficking if the product column contain certain keywords. We load the pre-defined most common keywords from the 'common_kws.txt' file and retain those ad listings which have any matching keywords from the file."
      ]
    },
    {
      "cell_type": "code",
      "execution_count": null,
      "id": "987fa2b2",
      "metadata": {
        "id": "987fa2b2"
      },
      "outputs": [],
      "source": [
        "# Load the most common keywords and form a set of common words.\n",
        "common_kws =  set(open('common_kws.txt').read().lower().split())"
      ]
    },
    {
      "cell_type": "code",
      "execution_count": null,
      "id": "710ca431",
      "metadata": {
        "id": "710ca431",
        "outputId": "eb51323e-de37-4fa2-eb5a-6b17007ea5a0"
      },
      "outputs": [
        {
          "name": "stdout",
          "output_type": "stream",
          "text": [
            "{'alligator', 'reptile', 'bird', 'ivy', 'tooth', 'snake', 'claw', 'feet', 'falcon', 'colored', 'feather', 'ivorine', 'carcass', 'cheetah', 'shark', 'sparrowhawk', 'okimono', 'elephant', 'primate', 'bovine', 'schreger', 'graining', 'teeth', 'skeleton', 'ox', 'turtle', 'crocodile', 'leopard', 'goshawk', 'lizard', 'bone', 'trophy', 'antique', 'scale', 'tiger', 'meat', 'python', 'tortoise', 'lynx', 'lines', 'skull', 'taxidermy', 'bile', 'birds', 'otter', 'ocelot', 'of', 'parrot', 'pelt', 'patina', 'chinese', 'carved', 'cites', 'hide', 'leather', 'fake', 'cobra', 'natural', 'owl', 'varanus', 'caviar', 'carving', 'macaw', 'live', 'lemur', 'rhinoceros', 'material', 'foot', 'macaque', 'cow', 'pangolin', 'paw', 'bear', 'excotic', 'monkey', 'fur', 'clam', 'scrimshaw', 'oil', 'tusk', 'horn', 'chimpanzee', 'pet', 'shatoosh', 'eagle', 'boa', 'skin', 'wildlife', 'shell', 'ivory', 'deep', 'hair', 'faux', 'gorilla', 'cross-hatch', 'egg', 'lion', 'grain', 'netsuke', 'coloured', 'prey'}\n"
          ]
        }
      ],
      "source": [
        "print(common_kws)"
      ]
    },
    {
      "cell_type": "code",
      "execution_count": null,
      "id": "5fb04faa",
      "metadata": {
        "id": "5fb04faa"
      },
      "outputs": [],
      "source": [
        "# Retain the rows that contain any matching common keywords.\n",
        "df = df[df['product'].str.contains('|'.join(common_kws), na=False)]"
      ]
    },
    {
      "cell_type": "code",
      "execution_count": null,
      "id": "47be1147",
      "metadata": {
        "id": "47be1147",
        "outputId": "4a47b6b2-3b77-4d60-c671-5bc8147d5535"
      },
      "outputs": [
        {
          "data": {
            "text/html": [
              "<div>\n",
              "<style scoped>\n",
              "    .dataframe tbody tr th:only-of-type {\n",
              "        vertical-align: middle;\n",
              "    }\n",
              "\n",
              "    .dataframe tbody tr th {\n",
              "        vertical-align: top;\n",
              "    }\n",
              "\n",
              "    .dataframe thead th {\n",
              "        text-align: right;\n",
              "    }\n",
              "</style>\n",
              "<table border=\"1\" class=\"dataframe\">\n",
              "  <thead>\n",
              "    <tr style=\"text-align: right;\">\n",
              "      <th></th>\n",
              "      <th>name</th>\n",
              "      <th>title</th>\n",
              "      <th>product</th>\n",
              "      <th>description</th>\n",
              "      <th>domain</th>\n",
              "      <th>country</th>\n",
              "      <th>label_product</th>\n",
              "      <th>price</th>\n",
              "      <th>currency</th>\n",
              "      <th>production_date</th>\n",
              "      <th>image</th>\n",
              "      <th>url</th>\n",
              "      <th>location</th>\n",
              "      <th>domain_country_code</th>\n",
              "      <th>domain_country</th>\n",
              "      <th>normalized_price_usd</th>\n",
              "    </tr>\n",
              "  </thead>\n",
              "  <tbody>\n",
              "    <tr>\n",
              "      <th>0</th>\n",
              "      <td>adventures and bones color ebay hailstones hal...</td>\n",
              "      <td>adventures and bones color ebay hailstones hal...</td>\n",
              "      <td>adventures and bones color ebay hailstones hal...</td>\n",
              "      <td>adventures and at best bones color deals ebay ...</td>\n",
              "      <td>ebay.com.au</td>\n",
              "      <td>Australia</td>\n",
              "      <td>an animal body part</td>\n",
              "      <td>22.25</td>\n",
              "      <td>AUD</td>\n",
              "      <td>NaN</td>\n",
              "      <td>https://images.awesomebooks.com/images/books/r...</td>\n",
              "      <td>https://www.ebay.com.au/itm/384104329587?amdat...</td>\n",
              "      <td>NaN</td>\n",
              "      <td>au</td>\n",
              "      <td>Australia</td>\n",
              "      <td>34</td>\n",
              "    </tr>\n",
              "    <tr>\n",
              "      <th>1</th>\n",
              "      <td>contortus ebay hill miocene physogaleus shark ...</td>\n",
              "      <td>contortus ebay hill miocene physogaleus shark ...</td>\n",
              "      <td>contortus ebay hill miocene physogaleus shark ...</td>\n",
              "      <td>and at best contortus deals delivery ebay find...</td>\n",
              "      <td>ebay.co.uk</td>\n",
              "      <td>United Kingdom</td>\n",
              "      <td>an animal body part</td>\n",
              "      <td>12.63</td>\n",
              "      <td>GBP</td>\n",
              "      <td>NaN</td>\n",
              "      <td>https://i.ebayimg.com/images/g/x~gAAOSwtsVZkch...</td>\n",
              "      <td>https://www.ebay.co.uk/itm/222613331802</td>\n",
              "      <td>NaN</td>\n",
              "      <td>uk</td>\n",
              "      <td>United Kingdom</td>\n",
              "      <td>10</td>\n",
              "    </tr>\n",
              "    <tr>\n",
              "      <th>2</th>\n",
              "      <td>azaz contortus ebay hill physogaleus sharktooth</td>\n",
              "      <td>azaz contortus ebay hill physogaleus sharktooth</td>\n",
              "      <td>azaz contortus ebay hill physogaleus sharktooth</td>\n",
              "      <td>and at azaz best contortus deals ebay find for...</td>\n",
              "      <td>ebay.com</td>\n",
              "      <td>NaN</td>\n",
              "      <td>an animal body part</td>\n",
              "      <td>111.39</td>\n",
              "      <td>CNY</td>\n",
              "      <td>NaN</td>\n",
              "      <td>https://i.ebayimg.com/images/g/x~gAAOSwtsVZkch...</td>\n",
              "      <td>https://www.ebay.com/itm/222613331802?_ul=CN</td>\n",
              "      <td>NaN</td>\n",
              "      <td>com</td>\n",
              "      <td>NaN</td>\n",
              "      <td>790</td>\n",
              "    </tr>\n",
              "    <tr>\n",
              "      <th>5</th>\n",
              "      <td>almofada brinquedo d de ebay estereo gato peca...</td>\n",
              "      <td>almofada brinquedo d de ebay estereo gato peca...</td>\n",
              "      <td>almofada brinquedo d de ebay estereo gato peca...</td>\n",
              "      <td>almofada and at best brinquedo d de deals ebay...</td>\n",
              "      <td>ebay.com</td>\n",
              "      <td>NaN</td>\n",
              "      <td>an animal body part</td>\n",
              "      <td>74.43</td>\n",
              "      <td>EUR</td>\n",
              "      <td>NaN</td>\n",
              "      <td>https://i.ebayimg.com/images/g/CQkAAOSwbtFlGxO...</td>\n",
              "      <td>https://www.ebay.com/itm/155807567987?_ul=PT</td>\n",
              "      <td>NaN</td>\n",
              "      <td>com</td>\n",
              "      <td>NaN</td>\n",
              "      <td>68</td>\n",
              "    </tr>\n",
              "    <tr>\n",
              "      <th>7</th>\n",
              "      <td>black crafts decorations dining ebay feathers ...</td>\n",
              "      <td>black crafts decorations dining ebay feathers ...</td>\n",
              "      <td>black crafts decorations dining ebay feathers ...</td>\n",
              "      <td>and at best black crafts deals decorations del...</td>\n",
              "      <td>ebay.co.uk</td>\n",
              "      <td>United Kingdom</td>\n",
              "      <td>an animal body part</td>\n",
              "      <td>9.58</td>\n",
              "      <td>GBP</td>\n",
              "      <td>NaN</td>\n",
              "      <td>https://i.ebayimg.com/images/g/Q1IAAOSws29lGwl...</td>\n",
              "      <td>https://www.ebay.co.uk/itm/314864391496?amdata...</td>\n",
              "      <td>NaN</td>\n",
              "      <td>uk</td>\n",
              "      <td>United Kingdom</td>\n",
              "      <td>8</td>\n",
              "    </tr>\n",
              "  </tbody>\n",
              "</table>\n",
              "</div>"
            ],
            "text/plain": [
              "                                                name  \\\n",
              "0  adventures and bones color ebay hailstones hal...   \n",
              "1  contortus ebay hill miocene physogaleus shark ...   \n",
              "2    azaz contortus ebay hill physogaleus sharktooth   \n",
              "5  almofada brinquedo d de ebay estereo gato peca...   \n",
              "7  black crafts decorations dining ebay feathers ...   \n",
              "\n",
              "                                               title  \\\n",
              "0  adventures and bones color ebay hailstones hal...   \n",
              "1  contortus ebay hill miocene physogaleus shark ...   \n",
              "2    azaz contortus ebay hill physogaleus sharktooth   \n",
              "5  almofada brinquedo d de ebay estereo gato peca...   \n",
              "7  black crafts decorations dining ebay feathers ...   \n",
              "\n",
              "                                             product  \\\n",
              "0  adventures and bones color ebay hailstones hal...   \n",
              "1  contortus ebay hill miocene physogaleus shark ...   \n",
              "2    azaz contortus ebay hill physogaleus sharktooth   \n",
              "5  almofada brinquedo d de ebay estereo gato peca...   \n",
              "7  black crafts decorations dining ebay feathers ...   \n",
              "\n",
              "                                         description       domain  \\\n",
              "0  adventures and at best bones color deals ebay ...  ebay.com.au   \n",
              "1  and at best contortus deals delivery ebay find...   ebay.co.uk   \n",
              "2  and at azaz best contortus deals ebay find for...     ebay.com   \n",
              "5  almofada and at best brinquedo d de deals ebay...     ebay.com   \n",
              "7  and at best black crafts deals decorations del...   ebay.co.uk   \n",
              "\n",
              "          country        label_product   price currency production_date  \\\n",
              "0       Australia  an animal body part   22.25      AUD             NaN   \n",
              "1  United Kingdom  an animal body part   12.63      GBP             NaN   \n",
              "2             NaN  an animal body part  111.39      CNY             NaN   \n",
              "5             NaN  an animal body part   74.43      EUR             NaN   \n",
              "7  United Kingdom  an animal body part    9.58      GBP             NaN   \n",
              "\n",
              "                                               image  \\\n",
              "0  https://images.awesomebooks.com/images/books/r...   \n",
              "1  https://i.ebayimg.com/images/g/x~gAAOSwtsVZkch...   \n",
              "2  https://i.ebayimg.com/images/g/x~gAAOSwtsVZkch...   \n",
              "5  https://i.ebayimg.com/images/g/CQkAAOSwbtFlGxO...   \n",
              "7  https://i.ebayimg.com/images/g/Q1IAAOSws29lGwl...   \n",
              "\n",
              "                                                 url location  \\\n",
              "0  https://www.ebay.com.au/itm/384104329587?amdat...      NaN   \n",
              "1            https://www.ebay.co.uk/itm/222613331802      NaN   \n",
              "2       https://www.ebay.com/itm/222613331802?_ul=CN      NaN   \n",
              "5       https://www.ebay.com/itm/155807567987?_ul=PT      NaN   \n",
              "7  https://www.ebay.co.uk/itm/314864391496?amdata...      NaN   \n",
              "\n",
              "  domain_country_code  domain_country  normalized_price_usd  \n",
              "0                  au       Australia                    34  \n",
              "1                  uk  United Kingdom                    10  \n",
              "2                 com             NaN                   790  \n",
              "5                 com             NaN                    68  \n",
              "7                  uk  United Kingdom                     8  "
            ]
          },
          "execution_count": 244,
          "metadata": {},
          "output_type": "execute_result"
        }
      ],
      "source": [
        "df.head(5)"
      ]
    },
    {
      "cell_type": "code",
      "execution_count": null,
      "id": "3890d676",
      "metadata": {
        "id": "3890d676",
        "outputId": "227cd548-5d95-48cc-bec0-0cbfd29fa67a"
      },
      "outputs": [
        {
          "data": {
            "text/plain": [
              "8667"
            ]
          },
          "execution_count": 245,
          "metadata": {},
          "output_type": "execute_result"
        }
      ],
      "source": [
        "df.shape[0]"
      ]
    },
    {
      "cell_type": "markdown",
      "id": "a242b782",
      "metadata": {
        "id": "a242b782"
      },
      "source": [
        "When considering rows that contains any of the common keywords, the data is further reduced to about 8600 entries."
      ]
    },
    {
      "cell_type": "markdown",
      "id": "0173463f",
      "metadata": {
        "id": "0173463f"
      },
      "source": [
        "## Data pre-processing - 'product' column for species extraction.\n",
        "To extract the species from each row, we tokenize the product column in an attempt to find relevant keywords. But the column contains a lot of text, most of which are irrelevant to the species name. By removing these words, we remove the low-level information from the product description in order to give more focus to the species name."
      ]
    },
    {
      "cell_type": "markdown",
      "id": "c3757b70",
      "metadata": {
        "id": "c3757b70"
      },
      "source": [
        "### Removing stopwords, numerals and other irreleavant words.\n",
        "Stopwords are the most common words in any language (ex. articles, prepositions, pronouns, conjunctions, etc) and does not add much information to the text. Examples of a few stop words in English are “the”, “a”, “an”, “so”, “what”.\n",
        ">We will also remove numerals, verbs, and other words which are not relavant to species name.\n",
        ">The removal of such words will not have any negative consequences for our task. It reduces the number of tokens and leads to a more accurate species extraction."
      ]
    },
    {
      "cell_type": "code",
      "execution_count": null,
      "id": "cb967ff9",
      "metadata": {
        "id": "cb967ff9",
        "outputId": "4a30d3e2-8413-4950-85e2-be5f3bb2f07c"
      },
      "outputs": [
        {
          "data": {
            "text/plain": [
              "0     adventures and bones color ebay hailstones hal...\n",
              "1     contortus ebay hill miocene physogaleus shark ...\n",
              "2       azaz contortus ebay hill physogaleus sharktooth\n",
              "5     almofada brinquedo d de ebay estereo gato peca...\n",
              "7     black crafts decorations dining ebay feathers ...\n",
              "8     black centerpiece ebay feathers large ostrich ...\n",
              "9     assorted colors craft crown ebay feathers larg...\n",
              "10    assorted black colors craft decoration ebay fe...\n",
              "11    black colored craft decoration ebay feathers o...\n",
              "12    black decoration decorations ebay feathers gol...\n",
              "Name: product, dtype: object"
            ]
          },
          "execution_count": 246,
          "metadata": {},
          "output_type": "execute_result"
        }
      ],
      "source": [
        "# product column.\n",
        "df['product'].head(10)"
      ]
    },
    {
      "cell_type": "code",
      "execution_count": null,
      "id": "74a828be",
      "metadata": {
        "id": "74a828be"
      },
      "outputs": [],
      "source": [
        "import spacy"
      ]
    },
    {
      "cell_type": "code",
      "execution_count": null,
      "id": "ea16f89a",
      "metadata": {
        "id": "ea16f89a"
      },
      "outputs": [],
      "source": [
        "# Loading the english language small model of spacy\n",
        "en = spacy.load(\"en_core_web_sm\")"
      ]
    },
    {
      "cell_type": "markdown",
      "id": "dd33d09a",
      "metadata": {
        "id": "dd33d09a"
      },
      "source": [
        "Spacy is used to tokenize text and after tokenization, it can parse and tag a given Doc.\n",
        "The trained pipeline enables spaCy to make predictions of which tag or label most likely applies in this context."
      ]
    },
    {
      "cell_type": "code",
      "execution_count": null,
      "id": "5abc6525",
      "metadata": {
        "id": "5abc6525",
        "outputId": "5e896cd3-7b41-4ed6-ee0c-f9175c1aacec"
      },
      "outputs": [
        {
          "data": {
            "text/plain": [
              "'contortus ebay hill miocene physogaleus shark sharktooth tiger tooth'"
            ]
          },
          "execution_count": 249,
          "metadata": {},
          "output_type": "execute_result"
        }
      ],
      "source": [
        "df['product'].head(10).iloc[1]"
      ]
    },
    {
      "cell_type": "code",
      "execution_count": null,
      "id": "41d50fd6",
      "metadata": {
        "id": "41d50fd6",
        "outputId": "049edc80-08c5-4b5f-f128-1e2cd6940bf4"
      },
      "outputs": [
        {
          "name": "stdout",
          "output_type": "stream",
          "text": [
            "contortus PROPN\n",
            "ebay PROPN\n",
            "hill PROPN\n",
            "miocene PROPN\n",
            "physogaleus PROPN\n",
            "shark PROPN\n",
            "sharktooth NOUN\n",
            "tiger NOUN\n",
            "tooth NOUN\n"
          ]
        }
      ],
      "source": [
        "# Example of using spaCy to tokenize and tag a Doc.\n",
        "original_text = \"contortus ebay hill miocene physogaleus shark sharktooth tiger tooth\"\n",
        "doc = en(original_text.lower())\n",
        "for token in doc:\n",
        "    print(token.text, token.pos_)"
      ]
    },
    {
      "cell_type": "code",
      "execution_count": null,
      "id": "33d60b2c",
      "metadata": {
        "id": "33d60b2c"
      },
      "outputs": [],
      "source": [
        "# Only nouns, proper nouns and adjectives will be retained from the text.\n",
        "def retain_words_with_tags(text):\n",
        "    result = []\n",
        "    pos_tags = ['PROPN', 'NOUN', 'ADJ']\n",
        "    doc = en(text.lower())\n",
        "\n",
        "    words = [token.text for token in doc if token.pos_ in pos_tags]\n",
        "\n",
        "    result = ' '.join(words)\n",
        "\n",
        "    return result"
      ]
    },
    {
      "cell_type": "code",
      "execution_count": null,
      "id": "70d51412",
      "metadata": {
        "id": "70d51412",
        "outputId": "2223ae03-79f2-4623-e522-8f7751c5f878"
      },
      "outputs": [
        {
          "name": "stdout",
          "output_type": "stream",
          "text": [
            "adornment ears ebay fox hair headband headdress plush props suit wolf\n"
          ]
        }
      ],
      "source": [
        "# Another example.\n",
        "original_text = \"adornment ears ebay fox hair headband headdress plush props sets suit tail wolf\"\n",
        "filtered_text = retain_words_with_tags(original_text)\n",
        "print(filtered_text)"
      ]
    },
    {
      "cell_type": "code",
      "execution_count": null,
      "id": "00f75a8f",
      "metadata": {
        "id": "00f75a8f",
        "outputId": "89973b0b-db70-4009-9dbb-459a2b1ccb94"
      },
      "outputs": [
        {
          "name": "stdout",
          "output_type": "stream",
          "text": [
            "3rd example sentence nouns cat dog\n"
          ]
        }
      ],
      "source": [
        "# Example of using spaCy to retain PROPN, NOUN and ADJ tags.\n",
        "original_text = \"This is the 3rd example sentence with nouns like cat and dog.\"\n",
        "filtered_text = retain_words_with_tags(original_text)\n",
        "print(filtered_text)"
      ]
    },
    {
      "cell_type": "markdown",
      "id": "fa8cb4d9",
      "metadata": {
        "id": "fa8cb4d9"
      },
      "source": [
        "We will populate a new column 'product_cleaned' that will be used to retain keywords for species extraction."
      ]
    },
    {
      "cell_type": "code",
      "execution_count": null,
      "id": "d9785efe",
      "metadata": {
        "id": "d9785efe"
      },
      "outputs": [],
      "source": [
        "df['product_cleaned'] = df['product'].apply(retain_words_with_tags)"
      ]
    },
    {
      "cell_type": "code",
      "execution_count": null,
      "id": "40765ebd",
      "metadata": {
        "id": "40765ebd",
        "outputId": "41f4026a-bede-476a-dfbf-8072c6e58bce"
      },
      "outputs": [
        {
          "data": {
            "text/plain": [
              "0     adventures bones color ebay hailstones mary on...\n",
              "1     contortus ebay hill miocene physogaleus shark ...\n",
              "2       azaz contortus ebay hill physogaleus sharktooth\n",
              "5     almofada brinquedo ebay estereo gato peca pelu...\n",
              "7     black crafts decorations ebay feathers federn ...\n",
              "8     black centerpiece ebay feathers large ostrich ...\n",
              "9     colors craft crown ebay feathers large ostrich...\n",
              "10      black colors craft decoration ebay feathers pcs\n",
              "11    black colored craft decoration ebay feathers p...\n",
              "12    black decoration decorations ebay feathers gol...\n",
              "Name: product_cleaned, dtype: object"
            ]
          },
          "execution_count": 255,
          "metadata": {},
          "output_type": "execute_result"
        }
      ],
      "source": [
        "# cleaned product column after retaining PROPN, NOUN and ADJ tags.\n",
        "df['product_cleaned'].head(10)"
      ]
    },
    {
      "cell_type": "markdown",
      "id": "489e624b",
      "metadata": {
        "id": "489e624b"
      },
      "source": [
        "# Species extraction from the product column using String similarity and Matching."
      ]
    },
    {
      "cell_type": "markdown",
      "id": "d7364a0d",
      "metadata": {
        "id": "d7364a0d"
      },
      "source": [
        "## Fuzzy String Matching\n",
        "We will use rapidfuzzy, a python library for comparing text based on the similarity of strings. The library uses Levenshtein distance to calculate the difference between two strings. It is an alternative to the fuzzywuzzy library and provides fast and efficient string matching and fuzzy string matching functions.\n",
        "\n",
        "Partial Ratio: It finds the ratio similarity measure between the shorter string and every substring of length m of the longer string, and returns the maximum of those similarity measures. Basically, it searches for the optimal alignment of the shorter string in the longer string and returns the fuzz.ratio for this alignment.\n",
        "\n",
        "The extractOne function returns a tuple containing the best matching string and its similarity score. The similarity score is computed using the token set ratio as specified in the parameters.\n"
      ]
    },
    {
      "cell_type": "code",
      "execution_count": null,
      "id": "8ecba69b",
      "metadata": {
        "id": "8ecba69b",
        "outputId": "9a46b1d6-7f98-423e-8878-7c9a33ceae69"
      },
      "outputs": [
        {
          "name": "stdout",
          "output_type": "stream",
          "text": [
            "black centerpiece ebay feathers large ostrich pcs wedding white\n"
          ]
        }
      ],
      "source": [
        "# Example of using rapidfuzz string matching.\n",
        "example_text = df['product'].head(10).iloc[5]\n",
        "print(example_text)"
      ]
    },
    {
      "cell_type": "code",
      "execution_count": null,
      "id": "f7132148",
      "metadata": {
        "id": "f7132148",
        "outputId": "616da3e1-7879-4ed5-b442-f785121d990c"
      },
      "outputs": [
        {
          "data": {
            "text/plain": [
              "100.0"
            ]
          },
          "execution_count": 338,
          "metadata": {},
          "output_type": "execute_result"
        }
      ],
      "source": [
        "fuzz.partial_ratio(example_text, \"ostrich\")"
      ]
    },
    {
      "cell_type": "code",
      "execution_count": null,
      "id": "b6ab802d",
      "metadata": {
        "id": "b6ab802d",
        "outputId": "2cfc15d9-0275-4ee7-9c2b-03d7d0e132e7"
      },
      "outputs": [
        {
          "data": {
            "text/plain": [
              "('ostrich', 100.0, 5143)"
            ]
          },
          "execution_count": 340,
          "metadata": {},
          "output_type": "execute_result"
        }
      ],
      "source": [
        "process.extractOne(example_text, animal_list, scorer=fuzz.partial_ratio)"
      ]
    },
    {
      "cell_type": "markdown",
      "id": "9e3c759d",
      "metadata": {
        "id": "9e3c759d"
      },
      "source": [
        ">The 'final_animal_list.csv' file contains 8130 entries of animal species names. It contains normalized Specific species name and also their General names and we will use the Specific names to form a list of animals.\n",
        "We will check if our dataset contains any of the animals listed here.\n",
        "Using similarity search, we will compare the long text in the 'product_cleaned' column and find if any part of that text matches with anything in the animal list."
      ]
    },
    {
      "cell_type": "code",
      "execution_count": null,
      "id": "dc936c13",
      "metadata": {
        "id": "dc936c13",
        "outputId": "b8b7856c-dd58-4692-e101-53971f2082dd"
      },
      "outputs": [
        {
          "name": "stdout",
          "output_type": "stream",
          "text": [
            "<class 'pandas.core.frame.DataFrame'>\n",
            "RangeIndex: 8130 entries, 0 to 8129\n",
            "Data columns (total 4 columns):\n",
            " #   Column                     Non-Null Count  Dtype \n",
            "---  ------                     --------------  ----- \n",
            " 0   Distribution Country       8047 non-null   object\n",
            " 1   Specific Names             8130 non-null   object\n",
            " 2   Specific Names Normalized  8130 non-null   object\n",
            " 3   General Names Normalized   8130 non-null   object\n",
            "dtypes: object(4)\n",
            "memory usage: 254.2+ KB\n"
          ]
        }
      ],
      "source": [
        "animal_list_df = pd.read_csv('/content/drive/MyDrive/BigData/TeamNotebook/data/final_animal_list.csv')\n",
        "animal_list_df.info()"
      ]
    },
    {
      "cell_type": "code",
      "execution_count": null,
      "id": "a2b66ace",
      "metadata": {
        "id": "a2b66ace",
        "outputId": "37fcf9a5-60b2-4bec-fbba-362b04bbe781"
      },
      "outputs": [
        {
          "data": {
            "text/html": [
              "<div>\n",
              "<style scoped>\n",
              "    .dataframe tbody tr th:only-of-type {\n",
              "        vertical-align: middle;\n",
              "    }\n",
              "\n",
              "    .dataframe tbody tr th {\n",
              "        vertical-align: top;\n",
              "    }\n",
              "\n",
              "    .dataframe thead th {\n",
              "        text-align: right;\n",
              "    }\n",
              "</style>\n",
              "<table border=\"1\" class=\"dataframe\">\n",
              "  <thead>\n",
              "    <tr style=\"text-align: right;\">\n",
              "      <th></th>\n",
              "      <th>Distribution Country</th>\n",
              "      <th>Specific Names</th>\n",
              "      <th>Specific Names Normalized</th>\n",
              "      <th>General Names Normalized</th>\n",
              "    </tr>\n",
              "  </thead>\n",
              "  <tbody>\n",
              "    <tr>\n",
              "      <th>0</th>\n",
              "      <td>Angola, Botswana, Central African Republic, Dj...</td>\n",
              "      <td>Aardwolf</td>\n",
              "      <td>aardwolf</td>\n",
              "      <td>aardwolf</td>\n",
              "    </tr>\n",
              "    <tr>\n",
              "      <th>1</th>\n",
              "      <td>Bahamas</td>\n",
              "      <td>Abaco Island Boa</td>\n",
              "      <td>abaco island boa</td>\n",
              "      <td>boa</td>\n",
              "    </tr>\n",
              "    <tr>\n",
              "      <th>2</th>\n",
              "      <td>Australia, Christmas Island, Indonesia, Maurit...</td>\n",
              "      <td>Abbott's Booby</td>\n",
              "      <td>abbotts booby</td>\n",
              "      <td>booby</td>\n",
              "    </tr>\n",
              "    <tr>\n",
              "      <th>3</th>\n",
              "      <td>Madagascar, Seychelles</td>\n",
              "      <td>Abbott's Day Gecko</td>\n",
              "      <td>abbotts day gecko</td>\n",
              "      <td>gecko</td>\n",
              "    </tr>\n",
              "    <tr>\n",
              "      <th>4</th>\n",
              "      <td>Italy</td>\n",
              "      <td>Abruzzo Chamois</td>\n",
              "      <td>abruzzo chamois</td>\n",
              "      <td>chamois</td>\n",
              "    </tr>\n",
              "  </tbody>\n",
              "</table>\n",
              "</div>"
            ],
            "text/plain": [
              "                                Distribution Country      Specific Names  \\\n",
              "0  Angola, Botswana, Central African Republic, Dj...            Aardwolf   \n",
              "1                                            Bahamas    Abaco Island Boa   \n",
              "2  Australia, Christmas Island, Indonesia, Maurit...      Abbott's Booby   \n",
              "3                             Madagascar, Seychelles  Abbott's Day Gecko   \n",
              "4                                              Italy     Abruzzo Chamois   \n",
              "\n",
              "  Specific Names Normalized General Names Normalized  \n",
              "0                  aardwolf                 aardwolf  \n",
              "1          abaco island boa                      boa  \n",
              "2             abbotts booby                    booby  \n",
              "3         abbotts day gecko                    gecko  \n",
              "4           abruzzo chamois                  chamois  "
            ]
          },
          "execution_count": 335,
          "metadata": {},
          "output_type": "execute_result"
        }
      ],
      "source": [
        "animal_list_df.head()"
      ]
    },
    {
      "cell_type": "code",
      "execution_count": null,
      "id": "26954d5e",
      "metadata": {
        "id": "26954d5e"
      },
      "outputs": [],
      "source": [
        "animal_list = animal_list_df['Specific Names Normalized'].tolist()"
      ]
    },
    {
      "cell_type": "code",
      "execution_count": null,
      "id": "62196652",
      "metadata": {
        "id": "62196652"
      },
      "outputs": [],
      "source": [
        "animal_list"
      ]
    },
    {
      "cell_type": "code",
      "execution_count": null,
      "id": "c253ac62",
      "metadata": {
        "id": "c253ac62"
      },
      "outputs": [],
      "source": [
        "# Check if any part of the text matches with items in the search_list\n",
        "def find_best_match(text, search_list):\n",
        "    best_match, score, index = process.extractOne(text, search_list, scorer=fuzz.token_set_ratio)\n",
        "    threshold = 90\n",
        "    if score >= threshold:\n",
        "        return best_match\n",
        "    else:\n",
        "        return None"
      ]
    },
    {
      "cell_type": "markdown",
      "id": "06abee83",
      "metadata": {
        "id": "06abee83"
      },
      "source": [
        "The 'find_best_match' function returns the best match if any part of the text has a token_set_ratio greater than 95 with any item in the search list. The 'product_cleaned' might have more than one potential match, but we will consider the best match out of all the potential matches. The threshold is set to 95 as we are trying to find the exact spacies name."
      ]
    },
    {
      "cell_type": "code",
      "execution_count": null,
      "id": "a64717b8",
      "metadata": {
        "id": "a64717b8"
      },
      "outputs": [],
      "source": [
        "# Apply the similarity search function to the 'product_cleaned' column\n",
        "df['species'] = df['product_cleaned'].apply(lambda x: find_best_match(x, animal_list))"
      ]
    },
    {
      "cell_type": "code",
      "execution_count": null,
      "id": "0f9c06f3",
      "metadata": {
        "id": "0f9c06f3",
        "outputId": "f954e8c0-171f-408f-e7f0-a0b04f3ae3f6"
      },
      "outputs": [
        {
          "data": {
            "text/html": [
              "<div>\n",
              "<style scoped>\n",
              "    .dataframe tbody tr th:only-of-type {\n",
              "        vertical-align: middle;\n",
              "    }\n",
              "\n",
              "    .dataframe tbody tr th {\n",
              "        vertical-align: top;\n",
              "    }\n",
              "\n",
              "    .dataframe thead th {\n",
              "        text-align: right;\n",
              "    }\n",
              "</style>\n",
              "<table border=\"1\" class=\"dataframe\">\n",
              "  <thead>\n",
              "    <tr style=\"text-align: right;\">\n",
              "      <th></th>\n",
              "      <th>product_cleaned</th>\n",
              "      <th>species</th>\n",
              "    </tr>\n",
              "  </thead>\n",
              "  <tbody>\n",
              "    <tr>\n",
              "      <th>0</th>\n",
              "      <td>adventures bones color ebay hailstones mary on...</td>\n",
              "      <td>None</td>\n",
              "    </tr>\n",
              "    <tr>\n",
              "      <th>1</th>\n",
              "      <td>contortus ebay hill miocene physogaleus shark ...</td>\n",
              "      <td>tiger</td>\n",
              "    </tr>\n",
              "    <tr>\n",
              "      <th>2</th>\n",
              "      <td>azaz contortus ebay hill physogaleus sharktooth</td>\n",
              "      <td>None</td>\n",
              "    </tr>\n",
              "    <tr>\n",
              "      <th>5</th>\n",
              "      <td>almofada brinquedo ebay estereo gato peca pelu...</td>\n",
              "      <td>None</td>\n",
              "    </tr>\n",
              "    <tr>\n",
              "      <th>7</th>\n",
              "      <td>black crafts decorations ebay feathers federn ...</td>\n",
              "      <td>ostrich</td>\n",
              "    </tr>\n",
              "  </tbody>\n",
              "</table>\n",
              "</div>"
            ],
            "text/plain": [
              "                                     product_cleaned  species\n",
              "0  adventures bones color ebay hailstones mary on...     None\n",
              "1  contortus ebay hill miocene physogaleus shark ...    tiger\n",
              "2    azaz contortus ebay hill physogaleus sharktooth     None\n",
              "5  almofada brinquedo ebay estereo gato peca pelu...     None\n",
              "7  black crafts decorations ebay feathers federn ...  ostrich"
            ]
          },
          "execution_count": 349,
          "metadata": {},
          "output_type": "execute_result"
        }
      ],
      "source": [
        "df[['product_cleaned','species']].head()"
      ]
    },
    {
      "cell_type": "code",
      "execution_count": null,
      "id": "f451330b",
      "metadata": {
        "id": "f451330b",
        "outputId": "3a691c6e-142e-47c0-b938-5918f3149dad"
      },
      "outputs": [
        {
          "data": {
            "text/plain": [
              "5273"
            ]
          },
          "execution_count": 348,
          "metadata": {},
          "output_type": "execute_result"
        }
      ],
      "source": [
        "df['species'].notna().sum()"
      ]
    },
    {
      "cell_type": "markdown",
      "id": "5eab16a7",
      "metadata": {
        "id": "5eab16a7"
      },
      "source": [
        "We were able to find the species name for 5273 rows."
      ]
    },
    {
      "cell_type": "markdown",
      "id": "91a8ff0d",
      "metadata": {
        "id": "91a8ff0d"
      },
      "source": [
        "## Finding the most commonly traded animal species"
      ]
    },
    {
      "cell_type": "code",
      "execution_count": null,
      "id": "f5cdfd14",
      "metadata": {
        "id": "f5cdfd14",
        "outputId": "cbde8b61-7c54-4353-b11f-edd65ce3aa72"
      },
      "outputs": [
        {
          "name": "stdout",
          "output_type": "stream",
          "text": [
            "<class 'pandas.core.frame.DataFrame'>\n",
            "RangeIndex: 123 entries, 0 to 122\n",
            "Data columns (total 2 columns):\n",
            " #   Column   Non-Null Count  Dtype \n",
            "---  ------   --------------  ----- \n",
            " 0   species  123 non-null    object\n",
            " 1   count    123 non-null    int64 \n",
            "dtypes: int64(1), object(1)\n",
            "memory usage: 2.0+ KB\n"
          ]
        }
      ],
      "source": [
        "wildlife_count = df['species'].value_counts().reset_index()\n",
        "wildlife_count.columns = ['species', 'count']\n",
        "wildlife_count.info()"
      ]
    },
    {
      "cell_type": "code",
      "execution_count": null,
      "id": "8fa44c74",
      "metadata": {
        "id": "8fa44c74",
        "outputId": "566411c9-af55-4727-e773-2a121e478bbe"
      },
      "outputs": [
        {
          "data": {
            "text/html": [
              "<div>\n",
              "<style scoped>\n",
              "    .dataframe tbody tr th:only-of-type {\n",
              "        vertical-align: middle;\n",
              "    }\n",
              "\n",
              "    .dataframe tbody tr th {\n",
              "        vertical-align: top;\n",
              "    }\n",
              "\n",
              "    .dataframe thead th {\n",
              "        text-align: right;\n",
              "    }\n",
              "</style>\n",
              "<table border=\"1\" class=\"dataframe\">\n",
              "  <thead>\n",
              "    <tr style=\"text-align: right;\">\n",
              "      <th></th>\n",
              "      <th>species</th>\n",
              "      <th>count</th>\n",
              "    </tr>\n",
              "  </thead>\n",
              "  <tbody>\n",
              "    <tr>\n",
              "      <th>0</th>\n",
              "      <td>ostrich</td>\n",
              "      <td>1343</td>\n",
              "    </tr>\n",
              "    <tr>\n",
              "      <th>1</th>\n",
              "      <td>great white shark</td>\n",
              "      <td>1272</td>\n",
              "    </tr>\n",
              "    <tr>\n",
              "      <th>2</th>\n",
              "      <td>wolf</td>\n",
              "      <td>763</td>\n",
              "    </tr>\n",
              "    <tr>\n",
              "      <th>3</th>\n",
              "      <td>tiger</td>\n",
              "      <td>526</td>\n",
              "    </tr>\n",
              "    <tr>\n",
              "      <th>4</th>\n",
              "      <td>nile crocodile</td>\n",
              "      <td>445</td>\n",
              "    </tr>\n",
              "    <tr>\n",
              "      <th>5</th>\n",
              "      <td>blue shark</td>\n",
              "      <td>122</td>\n",
              "    </tr>\n",
              "    <tr>\n",
              "      <th>6</th>\n",
              "      <td>crocodiles</td>\n",
              "      <td>72</td>\n",
              "    </tr>\n",
              "    <tr>\n",
              "      <th>7</th>\n",
              "      <td>silky shark</td>\n",
              "      <td>59</td>\n",
              "    </tr>\n",
              "    <tr>\n",
              "      <th>8</th>\n",
              "      <td>white shark</td>\n",
              "      <td>57</td>\n",
              "    </tr>\n",
              "    <tr>\n",
              "      <th>9</th>\n",
              "      <td>bull shark</td>\n",
              "      <td>55</td>\n",
              "    </tr>\n",
              "  </tbody>\n",
              "</table>\n",
              "</div>"
            ],
            "text/plain": [
              "             species  count\n",
              "0            ostrich   1343\n",
              "1  great white shark   1272\n",
              "2               wolf    763\n",
              "3              tiger    526\n",
              "4     nile crocodile    445\n",
              "5         blue shark    122\n",
              "6         crocodiles     72\n",
              "7        silky shark     59\n",
              "8        white shark     57\n",
              "9         bull shark     55"
            ]
          },
          "execution_count": 353,
          "metadata": {},
          "output_type": "execute_result"
        }
      ],
      "source": [
        "wildlife_count.head(10)"
      ]
    },
    {
      "cell_type": "markdown",
      "id": "35f38682",
      "metadata": {
        "id": "35f38682"
      },
      "source": [
        "# Visulization of wildlife trade"
      ]
    },
    {
      "cell_type": "code",
      "execution_count": null,
      "id": "3c5d685a",
      "metadata": {
        "id": "3c5d685a",
        "outputId": "1d4d518f-27db-4b33-ae20-a1b3e9fd1568"
      },
      "outputs": [
        {
          "data": {
            "application/vnd.plotly.v1+json": {
              "config": {
                "plotlyServerURL": "https://plot.ly"
              },
              "data": [
                {
                  "domain": {
                    "x": [
                      0,
                      1
                    ],
                    "y": [
                      0,
                      1
                    ]
                  },
                  "hovertemplate": "species=%{label}<br>count=%{value}<extra></extra>",
                  "labels": [
                    "ostrich",
                    "great white shark",
                    "wolf",
                    "tiger",
                    "nile crocodile",
                    "blue shark",
                    "crocodiles",
                    "silky shark",
                    "white shark",
                    "bull shark"
                  ],
                  "legendgroup": "",
                  "name": "",
                  "showlegend": true,
                  "type": "pie",
                  "values": [
                    1343,
                    1272,
                    763,
                    526,
                    445,
                    122,
                    72,
                    59,
                    57,
                    55
                  ]
                }
              ],
              "layout": {
                "legend": {
                  "tracegroupgap": 0
                },
                "template": {
                  "data": {
                    "bar": [
                      {
                        "error_x": {
                          "color": "#2a3f5f"
                        },
                        "error_y": {
                          "color": "#2a3f5f"
                        },
                        "marker": {
                          "line": {
                            "color": "#E5ECF6",
                            "width": 0.5
                          },
                          "pattern": {
                            "fillmode": "overlay",
                            "size": 10,
                            "solidity": 0.2
                          }
                        },
                        "type": "bar"
                      }
                    ],
                    "barpolar": [
                      {
                        "marker": {
                          "line": {
                            "color": "#E5ECF6",
                            "width": 0.5
                          },
                          "pattern": {
                            "fillmode": "overlay",
                            "size": 10,
                            "solidity": 0.2
                          }
                        },
                        "type": "barpolar"
                      }
                    ],
                    "carpet": [
                      {
                        "aaxis": {
                          "endlinecolor": "#2a3f5f",
                          "gridcolor": "white",
                          "linecolor": "white",
                          "minorgridcolor": "white",
                          "startlinecolor": "#2a3f5f"
                        },
                        "baxis": {
                          "endlinecolor": "#2a3f5f",
                          "gridcolor": "white",
                          "linecolor": "white",
                          "minorgridcolor": "white",
                          "startlinecolor": "#2a3f5f"
                        },
                        "type": "carpet"
                      }
                    ],
                    "choropleth": [
                      {
                        "colorbar": {
                          "outlinewidth": 0,
                          "ticks": ""
                        },
                        "type": "choropleth"
                      }
                    ],
                    "contour": [
                      {
                        "colorbar": {
                          "outlinewidth": 0,
                          "ticks": ""
                        },
                        "colorscale": [
                          [
                            0,
                            "#0d0887"
                          ],
                          [
                            0.1111111111111111,
                            "#46039f"
                          ],
                          [
                            0.2222222222222222,
                            "#7201a8"
                          ],
                          [
                            0.3333333333333333,
                            "#9c179e"
                          ],
                          [
                            0.4444444444444444,
                            "#bd3786"
                          ],
                          [
                            0.5555555555555556,
                            "#d8576b"
                          ],
                          [
                            0.6666666666666666,
                            "#ed7953"
                          ],
                          [
                            0.7777777777777778,
                            "#fb9f3a"
                          ],
                          [
                            0.8888888888888888,
                            "#fdca26"
                          ],
                          [
                            1,
                            "#f0f921"
                          ]
                        ],
                        "type": "contour"
                      }
                    ],
                    "contourcarpet": [
                      {
                        "colorbar": {
                          "outlinewidth": 0,
                          "ticks": ""
                        },
                        "type": "contourcarpet"
                      }
                    ],
                    "heatmap": [
                      {
                        "colorbar": {
                          "outlinewidth": 0,
                          "ticks": ""
                        },
                        "colorscale": [
                          [
                            0,
                            "#0d0887"
                          ],
                          [
                            0.1111111111111111,
                            "#46039f"
                          ],
                          [
                            0.2222222222222222,
                            "#7201a8"
                          ],
                          [
                            0.3333333333333333,
                            "#9c179e"
                          ],
                          [
                            0.4444444444444444,
                            "#bd3786"
                          ],
                          [
                            0.5555555555555556,
                            "#d8576b"
                          ],
                          [
                            0.6666666666666666,
                            "#ed7953"
                          ],
                          [
                            0.7777777777777778,
                            "#fb9f3a"
                          ],
                          [
                            0.8888888888888888,
                            "#fdca26"
                          ],
                          [
                            1,
                            "#f0f921"
                          ]
                        ],
                        "type": "heatmap"
                      }
                    ],
                    "heatmapgl": [
                      {
                        "colorbar": {
                          "outlinewidth": 0,
                          "ticks": ""
                        },
                        "colorscale": [
                          [
                            0,
                            "#0d0887"
                          ],
                          [
                            0.1111111111111111,
                            "#46039f"
                          ],
                          [
                            0.2222222222222222,
                            "#7201a8"
                          ],
                          [
                            0.3333333333333333,
                            "#9c179e"
                          ],
                          [
                            0.4444444444444444,
                            "#bd3786"
                          ],
                          [
                            0.5555555555555556,
                            "#d8576b"
                          ],
                          [
                            0.6666666666666666,
                            "#ed7953"
                          ],
                          [
                            0.7777777777777778,
                            "#fb9f3a"
                          ],
                          [
                            0.8888888888888888,
                            "#fdca26"
                          ],
                          [
                            1,
                            "#f0f921"
                          ]
                        ],
                        "type": "heatmapgl"
                      }
                    ],
                    "histogram": [
                      {
                        "marker": {
                          "pattern": {
                            "fillmode": "overlay",
                            "size": 10,
                            "solidity": 0.2
                          }
                        },
                        "type": "histogram"
                      }
                    ],
                    "histogram2d": [
                      {
                        "colorbar": {
                          "outlinewidth": 0,
                          "ticks": ""
                        },
                        "colorscale": [
                          [
                            0,
                            "#0d0887"
                          ],
                          [
                            0.1111111111111111,
                            "#46039f"
                          ],
                          [
                            0.2222222222222222,
                            "#7201a8"
                          ],
                          [
                            0.3333333333333333,
                            "#9c179e"
                          ],
                          [
                            0.4444444444444444,
                            "#bd3786"
                          ],
                          [
                            0.5555555555555556,
                            "#d8576b"
                          ],
                          [
                            0.6666666666666666,
                            "#ed7953"
                          ],
                          [
                            0.7777777777777778,
                            "#fb9f3a"
                          ],
                          [
                            0.8888888888888888,
                            "#fdca26"
                          ],
                          [
                            1,
                            "#f0f921"
                          ]
                        ],
                        "type": "histogram2d"
                      }
                    ],
                    "histogram2dcontour": [
                      {
                        "colorbar": {
                          "outlinewidth": 0,
                          "ticks": ""
                        },
                        "colorscale": [
                          [
                            0,
                            "#0d0887"
                          ],
                          [
                            0.1111111111111111,
                            "#46039f"
                          ],
                          [
                            0.2222222222222222,
                            "#7201a8"
                          ],
                          [
                            0.3333333333333333,
                            "#9c179e"
                          ],
                          [
                            0.4444444444444444,
                            "#bd3786"
                          ],
                          [
                            0.5555555555555556,
                            "#d8576b"
                          ],
                          [
                            0.6666666666666666,
                            "#ed7953"
                          ],
                          [
                            0.7777777777777778,
                            "#fb9f3a"
                          ],
                          [
                            0.8888888888888888,
                            "#fdca26"
                          ],
                          [
                            1,
                            "#f0f921"
                          ]
                        ],
                        "type": "histogram2dcontour"
                      }
                    ],
                    "mesh3d": [
                      {
                        "colorbar": {
                          "outlinewidth": 0,
                          "ticks": ""
                        },
                        "type": "mesh3d"
                      }
                    ],
                    "parcoords": [
                      {
                        "line": {
                          "colorbar": {
                            "outlinewidth": 0,
                            "ticks": ""
                          }
                        },
                        "type": "parcoords"
                      }
                    ],
                    "pie": [
                      {
                        "automargin": true,
                        "type": "pie"
                      }
                    ],
                    "scatter": [
                      {
                        "marker": {
                          "colorbar": {
                            "outlinewidth": 0,
                            "ticks": ""
                          }
                        },
                        "type": "scatter"
                      }
                    ],
                    "scatter3d": [
                      {
                        "line": {
                          "colorbar": {
                            "outlinewidth": 0,
                            "ticks": ""
                          }
                        },
                        "marker": {
                          "colorbar": {
                            "outlinewidth": 0,
                            "ticks": ""
                          }
                        },
                        "type": "scatter3d"
                      }
                    ],
                    "scattercarpet": [
                      {
                        "marker": {
                          "colorbar": {
                            "outlinewidth": 0,
                            "ticks": ""
                          }
                        },
                        "type": "scattercarpet"
                      }
                    ],
                    "scattergeo": [
                      {
                        "marker": {
                          "colorbar": {
                            "outlinewidth": 0,
                            "ticks": ""
                          }
                        },
                        "type": "scattergeo"
                      }
                    ],
                    "scattergl": [
                      {
                        "marker": {
                          "colorbar": {
                            "outlinewidth": 0,
                            "ticks": ""
                          }
                        },
                        "type": "scattergl"
                      }
                    ],
                    "scattermapbox": [
                      {
                        "marker": {
                          "colorbar": {
                            "outlinewidth": 0,
                            "ticks": ""
                          }
                        },
                        "type": "scattermapbox"
                      }
                    ],
                    "scatterpolar": [
                      {
                        "marker": {
                          "colorbar": {
                            "outlinewidth": 0,
                            "ticks": ""
                          }
                        },
                        "type": "scatterpolar"
                      }
                    ],
                    "scatterpolargl": [
                      {
                        "marker": {
                          "colorbar": {
                            "outlinewidth": 0,
                            "ticks": ""
                          }
                        },
                        "type": "scatterpolargl"
                      }
                    ],
                    "scatterternary": [
                      {
                        "marker": {
                          "colorbar": {
                            "outlinewidth": 0,
                            "ticks": ""
                          }
                        },
                        "type": "scatterternary"
                      }
                    ],
                    "surface": [
                      {
                        "colorbar": {
                          "outlinewidth": 0,
                          "ticks": ""
                        },
                        "colorscale": [
                          [
                            0,
                            "#0d0887"
                          ],
                          [
                            0.1111111111111111,
                            "#46039f"
                          ],
                          [
                            0.2222222222222222,
                            "#7201a8"
                          ],
                          [
                            0.3333333333333333,
                            "#9c179e"
                          ],
                          [
                            0.4444444444444444,
                            "#bd3786"
                          ],
                          [
                            0.5555555555555556,
                            "#d8576b"
                          ],
                          [
                            0.6666666666666666,
                            "#ed7953"
                          ],
                          [
                            0.7777777777777778,
                            "#fb9f3a"
                          ],
                          [
                            0.8888888888888888,
                            "#fdca26"
                          ],
                          [
                            1,
                            "#f0f921"
                          ]
                        ],
                        "type": "surface"
                      }
                    ],
                    "table": [
                      {
                        "cells": {
                          "fill": {
                            "color": "#EBF0F8"
                          },
                          "line": {
                            "color": "white"
                          }
                        },
                        "header": {
                          "fill": {
                            "color": "#C8D4E3"
                          },
                          "line": {
                            "color": "white"
                          }
                        },
                        "type": "table"
                      }
                    ]
                  },
                  "layout": {
                    "annotationdefaults": {
                      "arrowcolor": "#2a3f5f",
                      "arrowhead": 0,
                      "arrowwidth": 1
                    },
                    "autotypenumbers": "strict",
                    "coloraxis": {
                      "colorbar": {
                        "outlinewidth": 0,
                        "ticks": ""
                      }
                    },
                    "colorscale": {
                      "diverging": [
                        [
                          0,
                          "#8e0152"
                        ],
                        [
                          0.1,
                          "#c51b7d"
                        ],
                        [
                          0.2,
                          "#de77ae"
                        ],
                        [
                          0.3,
                          "#f1b6da"
                        ],
                        [
                          0.4,
                          "#fde0ef"
                        ],
                        [
                          0.5,
                          "#f7f7f7"
                        ],
                        [
                          0.6,
                          "#e6f5d0"
                        ],
                        [
                          0.7,
                          "#b8e186"
                        ],
                        [
                          0.8,
                          "#7fbc41"
                        ],
                        [
                          0.9,
                          "#4d9221"
                        ],
                        [
                          1,
                          "#276419"
                        ]
                      ],
                      "sequential": [
                        [
                          0,
                          "#0d0887"
                        ],
                        [
                          0.1111111111111111,
                          "#46039f"
                        ],
                        [
                          0.2222222222222222,
                          "#7201a8"
                        ],
                        [
                          0.3333333333333333,
                          "#9c179e"
                        ],
                        [
                          0.4444444444444444,
                          "#bd3786"
                        ],
                        [
                          0.5555555555555556,
                          "#d8576b"
                        ],
                        [
                          0.6666666666666666,
                          "#ed7953"
                        ],
                        [
                          0.7777777777777778,
                          "#fb9f3a"
                        ],
                        [
                          0.8888888888888888,
                          "#fdca26"
                        ],
                        [
                          1,
                          "#f0f921"
                        ]
                      ],
                      "sequentialminus": [
                        [
                          0,
                          "#0d0887"
                        ],
                        [
                          0.1111111111111111,
                          "#46039f"
                        ],
                        [
                          0.2222222222222222,
                          "#7201a8"
                        ],
                        [
                          0.3333333333333333,
                          "#9c179e"
                        ],
                        [
                          0.4444444444444444,
                          "#bd3786"
                        ],
                        [
                          0.5555555555555556,
                          "#d8576b"
                        ],
                        [
                          0.6666666666666666,
                          "#ed7953"
                        ],
                        [
                          0.7777777777777778,
                          "#fb9f3a"
                        ],
                        [
                          0.8888888888888888,
                          "#fdca26"
                        ],
                        [
                          1,
                          "#f0f921"
                        ]
                      ]
                    },
                    "colorway": [
                      "#636efa",
                      "#EF553B",
                      "#00cc96",
                      "#ab63fa",
                      "#FFA15A",
                      "#19d3f3",
                      "#FF6692",
                      "#B6E880",
                      "#FF97FF",
                      "#FECB52"
                    ],
                    "font": {
                      "color": "#2a3f5f"
                    },
                    "geo": {
                      "bgcolor": "white",
                      "lakecolor": "white",
                      "landcolor": "#E5ECF6",
                      "showlakes": true,
                      "showland": true,
                      "subunitcolor": "white"
                    },
                    "hoverlabel": {
                      "align": "left"
                    },
                    "hovermode": "closest",
                    "mapbox": {
                      "style": "light"
                    },
                    "paper_bgcolor": "white",
                    "plot_bgcolor": "#E5ECF6",
                    "polar": {
                      "angularaxis": {
                        "gridcolor": "white",
                        "linecolor": "white",
                        "ticks": ""
                      },
                      "bgcolor": "#E5ECF6",
                      "radialaxis": {
                        "gridcolor": "white",
                        "linecolor": "white",
                        "ticks": ""
                      }
                    },
                    "scene": {
                      "xaxis": {
                        "backgroundcolor": "#E5ECF6",
                        "gridcolor": "white",
                        "gridwidth": 2,
                        "linecolor": "white",
                        "showbackground": true,
                        "ticks": "",
                        "zerolinecolor": "white"
                      },
                      "yaxis": {
                        "backgroundcolor": "#E5ECF6",
                        "gridcolor": "white",
                        "gridwidth": 2,
                        "linecolor": "white",
                        "showbackground": true,
                        "ticks": "",
                        "zerolinecolor": "white"
                      },
                      "zaxis": {
                        "backgroundcolor": "#E5ECF6",
                        "gridcolor": "white",
                        "gridwidth": 2,
                        "linecolor": "white",
                        "showbackground": true,
                        "ticks": "",
                        "zerolinecolor": "white"
                      }
                    },
                    "shapedefaults": {
                      "line": {
                        "color": "#2a3f5f"
                      }
                    },
                    "ternary": {
                      "aaxis": {
                        "gridcolor": "white",
                        "linecolor": "white",
                        "ticks": ""
                      },
                      "baxis": {
                        "gridcolor": "white",
                        "linecolor": "white",
                        "ticks": ""
                      },
                      "bgcolor": "#E5ECF6",
                      "caxis": {
                        "gridcolor": "white",
                        "linecolor": "white",
                        "ticks": ""
                      }
                    },
                    "title": {
                      "x": 0.05
                    },
                    "xaxis": {
                      "automargin": true,
                      "gridcolor": "white",
                      "linecolor": "white",
                      "ticks": "",
                      "title": {
                        "standoff": 15
                      },
                      "zerolinecolor": "white",
                      "zerolinewidth": 2
                    },
                    "yaxis": {
                      "automargin": true,
                      "gridcolor": "white",
                      "linecolor": "white",
                      "ticks": "",
                      "title": {
                        "standoff": 15
                      },
                      "zerolinecolor": "white",
                      "zerolinewidth": 2
                    }
                  }
                },
                "title": {
                  "text": "Top 10 traded animals"
                }
              }
            },
            "text/html": [
              "<div>                            <div id=\"b9dcf290-964e-4b5d-ae9f-d7a0c26cb429\" class=\"plotly-graph-div\" style=\"height:525px; width:100%;\"></div>            <script type=\"text/javascript\">                require([\"plotly\"], function(Plotly) {                    window.PLOTLYENV=window.PLOTLYENV || {};                                    if (document.getElementById(\"b9dcf290-964e-4b5d-ae9f-d7a0c26cb429\")) {                    Plotly.newPlot(                        \"b9dcf290-964e-4b5d-ae9f-d7a0c26cb429\",                        [{\"domain\":{\"x\":[0.0,1.0],\"y\":[0.0,1.0]},\"hovertemplate\":\"species=%{label}<br>count=%{value}<extra></extra>\",\"labels\":[\"ostrich\",\"great white shark\",\"wolf\",\"tiger\",\"nile crocodile\",\"blue shark\",\"crocodiles\",\"silky shark\",\"white shark\",\"bull shark\"],\"legendgroup\":\"\",\"name\":\"\",\"showlegend\":true,\"values\":[1343,1272,763,526,445,122,72,59,57,55],\"type\":\"pie\"}],                        {\"template\":{\"data\":{\"bar\":[{\"error_x\":{\"color\":\"#2a3f5f\"},\"error_y\":{\"color\":\"#2a3f5f\"},\"marker\":{\"line\":{\"color\":\"#E5ECF6\",\"width\":0.5},\"pattern\":{\"fillmode\":\"overlay\",\"size\":10,\"solidity\":0.2}},\"type\":\"bar\"}],\"barpolar\":[{\"marker\":{\"line\":{\"color\":\"#E5ECF6\",\"width\":0.5},\"pattern\":{\"fillmode\":\"overlay\",\"size\":10,\"solidity\":0.2}},\"type\":\"barpolar\"}],\"carpet\":[{\"aaxis\":{\"endlinecolor\":\"#2a3f5f\",\"gridcolor\":\"white\",\"linecolor\":\"white\",\"minorgridcolor\":\"white\",\"startlinecolor\":\"#2a3f5f\"},\"baxis\":{\"endlinecolor\":\"#2a3f5f\",\"gridcolor\":\"white\",\"linecolor\":\"white\",\"minorgridcolor\":\"white\",\"startlinecolor\":\"#2a3f5f\"},\"type\":\"carpet\"}],\"choropleth\":[{\"colorbar\":{\"outlinewidth\":0,\"ticks\":\"\"},\"type\":\"choropleth\"}],\"contour\":[{\"colorbar\":{\"outlinewidth\":0,\"ticks\":\"\"},\"colorscale\":[[0.0,\"#0d0887\"],[0.1111111111111111,\"#46039f\"],[0.2222222222222222,\"#7201a8\"],[0.3333333333333333,\"#9c179e\"],[0.4444444444444444,\"#bd3786\"],[0.5555555555555556,\"#d8576b\"],[0.6666666666666666,\"#ed7953\"],[0.7777777777777778,\"#fb9f3a\"],[0.8888888888888888,\"#fdca26\"],[1.0,\"#f0f921\"]],\"type\":\"contour\"}],\"contourcarpet\":[{\"colorbar\":{\"outlinewidth\":0,\"ticks\":\"\"},\"type\":\"contourcarpet\"}],\"heatmap\":[{\"colorbar\":{\"outlinewidth\":0,\"ticks\":\"\"},\"colorscale\":[[0.0,\"#0d0887\"],[0.1111111111111111,\"#46039f\"],[0.2222222222222222,\"#7201a8\"],[0.3333333333333333,\"#9c179e\"],[0.4444444444444444,\"#bd3786\"],[0.5555555555555556,\"#d8576b\"],[0.6666666666666666,\"#ed7953\"],[0.7777777777777778,\"#fb9f3a\"],[0.8888888888888888,\"#fdca26\"],[1.0,\"#f0f921\"]],\"type\":\"heatmap\"}],\"heatmapgl\":[{\"colorbar\":{\"outlinewidth\":0,\"ticks\":\"\"},\"colorscale\":[[0.0,\"#0d0887\"],[0.1111111111111111,\"#46039f\"],[0.2222222222222222,\"#7201a8\"],[0.3333333333333333,\"#9c179e\"],[0.4444444444444444,\"#bd3786\"],[0.5555555555555556,\"#d8576b\"],[0.6666666666666666,\"#ed7953\"],[0.7777777777777778,\"#fb9f3a\"],[0.8888888888888888,\"#fdca26\"],[1.0,\"#f0f921\"]],\"type\":\"heatmapgl\"}],\"histogram\":[{\"marker\":{\"pattern\":{\"fillmode\":\"overlay\",\"size\":10,\"solidity\":0.2}},\"type\":\"histogram\"}],\"histogram2d\":[{\"colorbar\":{\"outlinewidth\":0,\"ticks\":\"\"},\"colorscale\":[[0.0,\"#0d0887\"],[0.1111111111111111,\"#46039f\"],[0.2222222222222222,\"#7201a8\"],[0.3333333333333333,\"#9c179e\"],[0.4444444444444444,\"#bd3786\"],[0.5555555555555556,\"#d8576b\"],[0.6666666666666666,\"#ed7953\"],[0.7777777777777778,\"#fb9f3a\"],[0.8888888888888888,\"#fdca26\"],[1.0,\"#f0f921\"]],\"type\":\"histogram2d\"}],\"histogram2dcontour\":[{\"colorbar\":{\"outlinewidth\":0,\"ticks\":\"\"},\"colorscale\":[[0.0,\"#0d0887\"],[0.1111111111111111,\"#46039f\"],[0.2222222222222222,\"#7201a8\"],[0.3333333333333333,\"#9c179e\"],[0.4444444444444444,\"#bd3786\"],[0.5555555555555556,\"#d8576b\"],[0.6666666666666666,\"#ed7953\"],[0.7777777777777778,\"#fb9f3a\"],[0.8888888888888888,\"#fdca26\"],[1.0,\"#f0f921\"]],\"type\":\"histogram2dcontour\"}],\"mesh3d\":[{\"colorbar\":{\"outlinewidth\":0,\"ticks\":\"\"},\"type\":\"mesh3d\"}],\"parcoords\":[{\"line\":{\"colorbar\":{\"outlinewidth\":0,\"ticks\":\"\"}},\"type\":\"parcoords\"}],\"pie\":[{\"automargin\":true,\"type\":\"pie\"}],\"scatter\":[{\"marker\":{\"colorbar\":{\"outlinewidth\":0,\"ticks\":\"\"}},\"type\":\"scatter\"}],\"scatter3d\":[{\"line\":{\"colorbar\":{\"outlinewidth\":0,\"ticks\":\"\"}},\"marker\":{\"colorbar\":{\"outlinewidth\":0,\"ticks\":\"\"}},\"type\":\"scatter3d\"}],\"scattercarpet\":[{\"marker\":{\"colorbar\":{\"outlinewidth\":0,\"ticks\":\"\"}},\"type\":\"scattercarpet\"}],\"scattergeo\":[{\"marker\":{\"colorbar\":{\"outlinewidth\":0,\"ticks\":\"\"}},\"type\":\"scattergeo\"}],\"scattergl\":[{\"marker\":{\"colorbar\":{\"outlinewidth\":0,\"ticks\":\"\"}},\"type\":\"scattergl\"}],\"scattermapbox\":[{\"marker\":{\"colorbar\":{\"outlinewidth\":0,\"ticks\":\"\"}},\"type\":\"scattermapbox\"}],\"scatterpolar\":[{\"marker\":{\"colorbar\":{\"outlinewidth\":0,\"ticks\":\"\"}},\"type\":\"scatterpolar\"}],\"scatterpolargl\":[{\"marker\":{\"colorbar\":{\"outlinewidth\":0,\"ticks\":\"\"}},\"type\":\"scatterpolargl\"}],\"scatterternary\":[{\"marker\":{\"colorbar\":{\"outlinewidth\":0,\"ticks\":\"\"}},\"type\":\"scatterternary\"}],\"surface\":[{\"colorbar\":{\"outlinewidth\":0,\"ticks\":\"\"},\"colorscale\":[[0.0,\"#0d0887\"],[0.1111111111111111,\"#46039f\"],[0.2222222222222222,\"#7201a8\"],[0.3333333333333333,\"#9c179e\"],[0.4444444444444444,\"#bd3786\"],[0.5555555555555556,\"#d8576b\"],[0.6666666666666666,\"#ed7953\"],[0.7777777777777778,\"#fb9f3a\"],[0.8888888888888888,\"#fdca26\"],[1.0,\"#f0f921\"]],\"type\":\"surface\"}],\"table\":[{\"cells\":{\"fill\":{\"color\":\"#EBF0F8\"},\"line\":{\"color\":\"white\"}},\"header\":{\"fill\":{\"color\":\"#C8D4E3\"},\"line\":{\"color\":\"white\"}},\"type\":\"table\"}]},\"layout\":{\"annotationdefaults\":{\"arrowcolor\":\"#2a3f5f\",\"arrowhead\":0,\"arrowwidth\":1},\"autotypenumbers\":\"strict\",\"coloraxis\":{\"colorbar\":{\"outlinewidth\":0,\"ticks\":\"\"}},\"colorscale\":{\"diverging\":[[0,\"#8e0152\"],[0.1,\"#c51b7d\"],[0.2,\"#de77ae\"],[0.3,\"#f1b6da\"],[0.4,\"#fde0ef\"],[0.5,\"#f7f7f7\"],[0.6,\"#e6f5d0\"],[0.7,\"#b8e186\"],[0.8,\"#7fbc41\"],[0.9,\"#4d9221\"],[1,\"#276419\"]],\"sequential\":[[0.0,\"#0d0887\"],[0.1111111111111111,\"#46039f\"],[0.2222222222222222,\"#7201a8\"],[0.3333333333333333,\"#9c179e\"],[0.4444444444444444,\"#bd3786\"],[0.5555555555555556,\"#d8576b\"],[0.6666666666666666,\"#ed7953\"],[0.7777777777777778,\"#fb9f3a\"],[0.8888888888888888,\"#fdca26\"],[1.0,\"#f0f921\"]],\"sequentialminus\":[[0.0,\"#0d0887\"],[0.1111111111111111,\"#46039f\"],[0.2222222222222222,\"#7201a8\"],[0.3333333333333333,\"#9c179e\"],[0.4444444444444444,\"#bd3786\"],[0.5555555555555556,\"#d8576b\"],[0.6666666666666666,\"#ed7953\"],[0.7777777777777778,\"#fb9f3a\"],[0.8888888888888888,\"#fdca26\"],[1.0,\"#f0f921\"]]},\"colorway\":[\"#636efa\",\"#EF553B\",\"#00cc96\",\"#ab63fa\",\"#FFA15A\",\"#19d3f3\",\"#FF6692\",\"#B6E880\",\"#FF97FF\",\"#FECB52\"],\"font\":{\"color\":\"#2a3f5f\"},\"geo\":{\"bgcolor\":\"white\",\"lakecolor\":\"white\",\"landcolor\":\"#E5ECF6\",\"showlakes\":true,\"showland\":true,\"subunitcolor\":\"white\"},\"hoverlabel\":{\"align\":\"left\"},\"hovermode\":\"closest\",\"mapbox\":{\"style\":\"light\"},\"paper_bgcolor\":\"white\",\"plot_bgcolor\":\"#E5ECF6\",\"polar\":{\"angularaxis\":{\"gridcolor\":\"white\",\"linecolor\":\"white\",\"ticks\":\"\"},\"bgcolor\":\"#E5ECF6\",\"radialaxis\":{\"gridcolor\":\"white\",\"linecolor\":\"white\",\"ticks\":\"\"}},\"scene\":{\"xaxis\":{\"backgroundcolor\":\"#E5ECF6\",\"gridcolor\":\"white\",\"gridwidth\":2,\"linecolor\":\"white\",\"showbackground\":true,\"ticks\":\"\",\"zerolinecolor\":\"white\"},\"yaxis\":{\"backgroundcolor\":\"#E5ECF6\",\"gridcolor\":\"white\",\"gridwidth\":2,\"linecolor\":\"white\",\"showbackground\":true,\"ticks\":\"\",\"zerolinecolor\":\"white\"},\"zaxis\":{\"backgroundcolor\":\"#E5ECF6\",\"gridcolor\":\"white\",\"gridwidth\":2,\"linecolor\":\"white\",\"showbackground\":true,\"ticks\":\"\",\"zerolinecolor\":\"white\"}},\"shapedefaults\":{\"line\":{\"color\":\"#2a3f5f\"}},\"ternary\":{\"aaxis\":{\"gridcolor\":\"white\",\"linecolor\":\"white\",\"ticks\":\"\"},\"baxis\":{\"gridcolor\":\"white\",\"linecolor\":\"white\",\"ticks\":\"\"},\"bgcolor\":\"#E5ECF6\",\"caxis\":{\"gridcolor\":\"white\",\"linecolor\":\"white\",\"ticks\":\"\"}},\"title\":{\"x\":0.05},\"xaxis\":{\"automargin\":true,\"gridcolor\":\"white\",\"linecolor\":\"white\",\"ticks\":\"\",\"title\":{\"standoff\":15},\"zerolinecolor\":\"white\",\"zerolinewidth\":2},\"yaxis\":{\"automargin\":true,\"gridcolor\":\"white\",\"linecolor\":\"white\",\"ticks\":\"\",\"title\":{\"standoff\":15},\"zerolinecolor\":\"white\",\"zerolinewidth\":2}}},\"legend\":{\"tracegroupgap\":0},\"title\":{\"text\":\"Top 10 traded animals\"}},                        {\"responsive\": true}                    ).then(function(){\n",
              "                            \n",
              "var gd = document.getElementById('b9dcf290-964e-4b5d-ae9f-d7a0c26cb429');\n",
              "var x = new MutationObserver(function (mutations, observer) {{\n",
              "        var display = window.getComputedStyle(gd).display;\n",
              "        if (!display || display === 'none') {{\n",
              "            console.log([gd, 'removed!']);\n",
              "            Plotly.purge(gd);\n",
              "            observer.disconnect();\n",
              "        }}\n",
              "}});\n",
              "\n",
              "// Listen for the removal of the full notebook cells\n",
              "var notebookContainer = gd.closest('#notebook-container');\n",
              "if (notebookContainer) {{\n",
              "    x.observe(notebookContainer, {childList: true});\n",
              "}}\n",
              "\n",
              "// Listen for the clearing of the current output cell\n",
              "var outputEl = gd.closest('.output');\n",
              "if (outputEl) {{\n",
              "    x.observe(outputEl, {childList: true});\n",
              "}}\n",
              "\n",
              "                        })                };                });            </script>        </div>"
            ]
          },
          "metadata": {},
          "output_type": "display_data"
        }
      ],
      "source": [
        "fig = px.pie(wildlife_count.head(10), values='count', names='species',\n",
        "             title='Top 10 traded animals')\n",
        "fig.show()"
      ]
    },
    {
      "cell_type": "code",
      "execution_count": null,
      "id": "f125f76e",
      "metadata": {
        "id": "f125f76e",
        "outputId": "6a34b2e6-14a1-40d0-cdd0-2e2011a7fe75"
      },
      "outputs": [
        {
          "data": {
            "application/vnd.plotly.v1+json": {
              "config": {
                "plotlyServerURL": "https://plot.ly"
              },
              "data": [
                {
                  "alignmentgroup": "True",
                  "hovertemplate": "species=%{x}<br>count=%{y}<br>text=%{text}<extra></extra>",
                  "legendgroup": "ostrich",
                  "marker": {
                    "color": "#636efa",
                    "pattern": {
                      "shape": ""
                    }
                  },
                  "name": "ostrich",
                  "offsetgroup": "ostrich",
                  "orientation": "v",
                  "showlegend": true,
                  "text": [
                    "1343"
                  ],
                  "textposition": "auto",
                  "type": "bar",
                  "x": [
                    "ostrich"
                  ],
                  "xaxis": "x",
                  "y": [
                    1343
                  ],
                  "yaxis": "y"
                },
                {
                  "alignmentgroup": "True",
                  "hovertemplate": "species=%{x}<br>count=%{y}<br>text=%{text}<extra></extra>",
                  "legendgroup": "great white shark",
                  "marker": {
                    "color": "#EF553B",
                    "pattern": {
                      "shape": ""
                    }
                  },
                  "name": "great white shark",
                  "offsetgroup": "great white shark",
                  "orientation": "v",
                  "showlegend": true,
                  "text": [
                    "1272"
                  ],
                  "textposition": "auto",
                  "type": "bar",
                  "x": [
                    "great white shark"
                  ],
                  "xaxis": "x",
                  "y": [
                    1272
                  ],
                  "yaxis": "y"
                },
                {
                  "alignmentgroup": "True",
                  "hovertemplate": "species=%{x}<br>count=%{y}<br>text=%{text}<extra></extra>",
                  "legendgroup": "wolf",
                  "marker": {
                    "color": "#00cc96",
                    "pattern": {
                      "shape": ""
                    }
                  },
                  "name": "wolf",
                  "offsetgroup": "wolf",
                  "orientation": "v",
                  "showlegend": true,
                  "text": [
                    "763"
                  ],
                  "textposition": "auto",
                  "type": "bar",
                  "x": [
                    "wolf"
                  ],
                  "xaxis": "x",
                  "y": [
                    763
                  ],
                  "yaxis": "y"
                },
                {
                  "alignmentgroup": "True",
                  "hovertemplate": "species=%{x}<br>count=%{y}<br>text=%{text}<extra></extra>",
                  "legendgroup": "tiger",
                  "marker": {
                    "color": "#ab63fa",
                    "pattern": {
                      "shape": ""
                    }
                  },
                  "name": "tiger",
                  "offsetgroup": "tiger",
                  "orientation": "v",
                  "showlegend": true,
                  "text": [
                    "526"
                  ],
                  "textposition": "auto",
                  "type": "bar",
                  "x": [
                    "tiger"
                  ],
                  "xaxis": "x",
                  "y": [
                    526
                  ],
                  "yaxis": "y"
                },
                {
                  "alignmentgroup": "True",
                  "hovertemplate": "species=%{x}<br>count=%{y}<br>text=%{text}<extra></extra>",
                  "legendgroup": "nile crocodile",
                  "marker": {
                    "color": "#FFA15A",
                    "pattern": {
                      "shape": ""
                    }
                  },
                  "name": "nile crocodile",
                  "offsetgroup": "nile crocodile",
                  "orientation": "v",
                  "showlegend": true,
                  "text": [
                    "445"
                  ],
                  "textposition": "auto",
                  "type": "bar",
                  "x": [
                    "nile crocodile"
                  ],
                  "xaxis": "x",
                  "y": [
                    445
                  ],
                  "yaxis": "y"
                },
                {
                  "alignmentgroup": "True",
                  "hovertemplate": "species=%{x}<br>count=%{y}<br>text=%{text}<extra></extra>",
                  "legendgroup": "blue shark",
                  "marker": {
                    "color": "#19d3f3",
                    "pattern": {
                      "shape": ""
                    }
                  },
                  "name": "blue shark",
                  "offsetgroup": "blue shark",
                  "orientation": "v",
                  "showlegend": true,
                  "text": [
                    "122"
                  ],
                  "textposition": "auto",
                  "type": "bar",
                  "x": [
                    "blue shark"
                  ],
                  "xaxis": "x",
                  "y": [
                    122
                  ],
                  "yaxis": "y"
                },
                {
                  "alignmentgroup": "True",
                  "hovertemplate": "species=%{x}<br>count=%{y}<br>text=%{text}<extra></extra>",
                  "legendgroup": "crocodiles",
                  "marker": {
                    "color": "#FF6692",
                    "pattern": {
                      "shape": ""
                    }
                  },
                  "name": "crocodiles",
                  "offsetgroup": "crocodiles",
                  "orientation": "v",
                  "showlegend": true,
                  "text": [
                    "72"
                  ],
                  "textposition": "auto",
                  "type": "bar",
                  "x": [
                    "crocodiles"
                  ],
                  "xaxis": "x",
                  "y": [
                    72
                  ],
                  "yaxis": "y"
                },
                {
                  "alignmentgroup": "True",
                  "hovertemplate": "species=%{x}<br>count=%{y}<br>text=%{text}<extra></extra>",
                  "legendgroup": "silky shark",
                  "marker": {
                    "color": "#B6E880",
                    "pattern": {
                      "shape": ""
                    }
                  },
                  "name": "silky shark",
                  "offsetgroup": "silky shark",
                  "orientation": "v",
                  "showlegend": true,
                  "text": [
                    "59"
                  ],
                  "textposition": "auto",
                  "type": "bar",
                  "x": [
                    "silky shark"
                  ],
                  "xaxis": "x",
                  "y": [
                    59
                  ],
                  "yaxis": "y"
                },
                {
                  "alignmentgroup": "True",
                  "hovertemplate": "species=%{x}<br>count=%{y}<br>text=%{text}<extra></extra>",
                  "legendgroup": "white shark",
                  "marker": {
                    "color": "#FF97FF",
                    "pattern": {
                      "shape": ""
                    }
                  },
                  "name": "white shark",
                  "offsetgroup": "white shark",
                  "orientation": "v",
                  "showlegend": true,
                  "text": [
                    "57"
                  ],
                  "textposition": "auto",
                  "type": "bar",
                  "x": [
                    "white shark"
                  ],
                  "xaxis": "x",
                  "y": [
                    57
                  ],
                  "yaxis": "y"
                },
                {
                  "alignmentgroup": "True",
                  "hovertemplate": "species=%{x}<br>count=%{y}<br>text=%{text}<extra></extra>",
                  "legendgroup": "bull shark",
                  "marker": {
                    "color": "#FECB52",
                    "pattern": {
                      "shape": ""
                    }
                  },
                  "name": "bull shark",
                  "offsetgroup": "bull shark",
                  "orientation": "v",
                  "showlegend": true,
                  "text": [
                    "55"
                  ],
                  "textposition": "auto",
                  "type": "bar",
                  "x": [
                    "bull shark"
                  ],
                  "xaxis": "x",
                  "y": [
                    55
                  ],
                  "yaxis": "y"
                },
                {
                  "alignmentgroup": "True",
                  "hovertemplate": "species=%{x}<br>count=%{y}<br>text=%{text}<extra></extra>",
                  "legendgroup": "mako",
                  "marker": {
                    "color": "#636efa",
                    "pattern": {
                      "shape": ""
                    }
                  },
                  "name": "mako",
                  "offsetgroup": "mako",
                  "orientation": "v",
                  "showlegend": true,
                  "text": [
                    "40"
                  ],
                  "textposition": "auto",
                  "type": "bar",
                  "x": [
                    "mako"
                  ],
                  "xaxis": "x",
                  "y": [
                    40
                  ],
                  "yaxis": "y"
                },
                {
                  "alignmentgroup": "True",
                  "hovertemplate": "species=%{x}<br>count=%{y}<br>text=%{text}<extra></extra>",
                  "legendgroup": "bone shark",
                  "marker": {
                    "color": "#EF553B",
                    "pattern": {
                      "shape": ""
                    }
                  },
                  "name": "bone shark",
                  "offsetgroup": "bone shark",
                  "orientation": "v",
                  "showlegend": true,
                  "text": [
                    "36"
                  ],
                  "textposition": "auto",
                  "type": "bar",
                  "x": [
                    "bone shark"
                  ],
                  "xaxis": "x",
                  "y": [
                    36
                  ],
                  "yaxis": "y"
                },
                {
                  "alignmentgroup": "True",
                  "hovertemplate": "species=%{x}<br>count=%{y}<br>text=%{text}<extra></extra>",
                  "legendgroup": "gator",
                  "marker": {
                    "color": "#00cc96",
                    "pattern": {
                      "shape": ""
                    }
                  },
                  "name": "gator",
                  "offsetgroup": "gator",
                  "orientation": "v",
                  "showlegend": true,
                  "text": [
                    "30"
                  ],
                  "textposition": "auto",
                  "type": "bar",
                  "x": [
                    "gator"
                  ],
                  "xaxis": "x",
                  "y": [
                    30
                  ],
                  "yaxis": "y"
                },
                {
                  "alignmentgroup": "True",
                  "hovertemplate": "species=%{x}<br>count=%{y}<br>text=%{text}<extra></extra>",
                  "legendgroup": "lion",
                  "marker": {
                    "color": "#ab63fa",
                    "pattern": {
                      "shape": ""
                    }
                  },
                  "name": "lion",
                  "offsetgroup": "lion",
                  "orientation": "v",
                  "showlegend": true,
                  "text": [
                    "29"
                  ],
                  "textposition": "auto",
                  "type": "bar",
                  "x": [
                    "lion"
                  ],
                  "xaxis": "x",
                  "y": [
                    29
                  ],
                  "yaxis": "y"
                },
                {
                  "alignmentgroup": "True",
                  "hovertemplate": "species=%{x}<br>count=%{y}<br>text=%{text}<extra></extra>",
                  "legendgroup": "gray wolf",
                  "marker": {
                    "color": "#FFA15A",
                    "pattern": {
                      "shape": ""
                    }
                  },
                  "name": "gray wolf",
                  "offsetgroup": "gray wolf",
                  "orientation": "v",
                  "showlegend": true,
                  "text": [
                    "25"
                  ],
                  "textposition": "auto",
                  "type": "bar",
                  "x": [
                    "gray wolf"
                  ],
                  "xaxis": "x",
                  "y": [
                    25
                  ],
                  "yaxis": "y"
                },
                {
                  "alignmentgroup": "True",
                  "hovertemplate": "species=%{x}<br>count=%{y}<br>text=%{text}<extra></extra>",
                  "legendgroup": "grey wolf",
                  "marker": {
                    "color": "#19d3f3",
                    "pattern": {
                      "shape": ""
                    }
                  },
                  "name": "grey wolf",
                  "offsetgroup": "grey wolf",
                  "orientation": "v",
                  "showlegend": true,
                  "text": [
                    "24"
                  ],
                  "textposition": "auto",
                  "type": "bar",
                  "x": [
                    "grey wolf"
                  ],
                  "xaxis": "x",
                  "y": [
                    24
                  ],
                  "yaxis": "y"
                },
                {
                  "alignmentgroup": "True",
                  "hovertemplate": "species=%{x}<br>count=%{y}<br>text=%{text}<extra></extra>",
                  "legendgroup": "african crocodile",
                  "marker": {
                    "color": "#FF6692",
                    "pattern": {
                      "shape": ""
                    }
                  },
                  "name": "african crocodile",
                  "offsetgroup": "african crocodile",
                  "orientation": "v",
                  "showlegend": true,
                  "text": [
                    "20"
                  ],
                  "textposition": "auto",
                  "type": "bar",
                  "x": [
                    "african crocodile"
                  ],
                  "xaxis": "x",
                  "y": [
                    20
                  ],
                  "yaxis": "y"
                },
                {
                  "alignmentgroup": "True",
                  "hovertemplate": "species=%{x}<br>count=%{y}<br>text=%{text}<extra></extra>",
                  "legendgroup": "hammerhead",
                  "marker": {
                    "color": "#B6E880",
                    "pattern": {
                      "shape": ""
                    }
                  },
                  "name": "hammerhead",
                  "offsetgroup": "hammerhead",
                  "orientation": "v",
                  "showlegend": true,
                  "text": [
                    "18"
                  ],
                  "textposition": "auto",
                  "type": "bar",
                  "x": [
                    "hammerhead"
                  ],
                  "xaxis": "x",
                  "y": [
                    18
                  ],
                  "yaxis": "y"
                },
                {
                  "alignmentgroup": "True",
                  "hovertemplate": "species=%{x}<br>count=%{y}<br>text=%{text}<extra></extra>",
                  "legendgroup": "american alligator",
                  "marker": {
                    "color": "#FF97FF",
                    "pattern": {
                      "shape": ""
                    }
                  },
                  "name": "american alligator",
                  "offsetgroup": "american alligator",
                  "orientation": "v",
                  "showlegend": true,
                  "text": [
                    "17"
                  ],
                  "textposition": "auto",
                  "type": "bar",
                  "x": [
                    "american alligator"
                  ],
                  "xaxis": "x",
                  "y": [
                    17
                  ],
                  "yaxis": "y"
                },
                {
                  "alignmentgroup": "True",
                  "hovertemplate": "species=%{x}<br>count=%{y}<br>text=%{text}<extra></extra>",
                  "legendgroup": "hippopotamus",
                  "marker": {
                    "color": "#FECB52",
                    "pattern": {
                      "shape": ""
                    }
                  },
                  "name": "hippopotamus",
                  "offsetgroup": "hippopotamus",
                  "orientation": "v",
                  "showlegend": true,
                  "text": [
                    "17"
                  ],
                  "textposition": "auto",
                  "type": "bar",
                  "x": [
                    "hippopotamus"
                  ],
                  "xaxis": "x",
                  "y": [
                    17
                  ],
                  "yaxis": "y"
                }
              ],
              "layout": {
                "barmode": "relative",
                "legend": {
                  "title": {
                    "text": "species"
                  },
                  "tracegroupgap": 0
                },
                "template": {
                  "data": {
                    "bar": [
                      {
                        "error_x": {
                          "color": "#2a3f5f"
                        },
                        "error_y": {
                          "color": "#2a3f5f"
                        },
                        "marker": {
                          "line": {
                            "color": "#E5ECF6",
                            "width": 0.5
                          },
                          "pattern": {
                            "fillmode": "overlay",
                            "size": 10,
                            "solidity": 0.2
                          }
                        },
                        "type": "bar"
                      }
                    ],
                    "barpolar": [
                      {
                        "marker": {
                          "line": {
                            "color": "#E5ECF6",
                            "width": 0.5
                          },
                          "pattern": {
                            "fillmode": "overlay",
                            "size": 10,
                            "solidity": 0.2
                          }
                        },
                        "type": "barpolar"
                      }
                    ],
                    "carpet": [
                      {
                        "aaxis": {
                          "endlinecolor": "#2a3f5f",
                          "gridcolor": "white",
                          "linecolor": "white",
                          "minorgridcolor": "white",
                          "startlinecolor": "#2a3f5f"
                        },
                        "baxis": {
                          "endlinecolor": "#2a3f5f",
                          "gridcolor": "white",
                          "linecolor": "white",
                          "minorgridcolor": "white",
                          "startlinecolor": "#2a3f5f"
                        },
                        "type": "carpet"
                      }
                    ],
                    "choropleth": [
                      {
                        "colorbar": {
                          "outlinewidth": 0,
                          "ticks": ""
                        },
                        "type": "choropleth"
                      }
                    ],
                    "contour": [
                      {
                        "colorbar": {
                          "outlinewidth": 0,
                          "ticks": ""
                        },
                        "colorscale": [
                          [
                            0,
                            "#0d0887"
                          ],
                          [
                            0.1111111111111111,
                            "#46039f"
                          ],
                          [
                            0.2222222222222222,
                            "#7201a8"
                          ],
                          [
                            0.3333333333333333,
                            "#9c179e"
                          ],
                          [
                            0.4444444444444444,
                            "#bd3786"
                          ],
                          [
                            0.5555555555555556,
                            "#d8576b"
                          ],
                          [
                            0.6666666666666666,
                            "#ed7953"
                          ],
                          [
                            0.7777777777777778,
                            "#fb9f3a"
                          ],
                          [
                            0.8888888888888888,
                            "#fdca26"
                          ],
                          [
                            1,
                            "#f0f921"
                          ]
                        ],
                        "type": "contour"
                      }
                    ],
                    "contourcarpet": [
                      {
                        "colorbar": {
                          "outlinewidth": 0,
                          "ticks": ""
                        },
                        "type": "contourcarpet"
                      }
                    ],
                    "heatmap": [
                      {
                        "colorbar": {
                          "outlinewidth": 0,
                          "ticks": ""
                        },
                        "colorscale": [
                          [
                            0,
                            "#0d0887"
                          ],
                          [
                            0.1111111111111111,
                            "#46039f"
                          ],
                          [
                            0.2222222222222222,
                            "#7201a8"
                          ],
                          [
                            0.3333333333333333,
                            "#9c179e"
                          ],
                          [
                            0.4444444444444444,
                            "#bd3786"
                          ],
                          [
                            0.5555555555555556,
                            "#d8576b"
                          ],
                          [
                            0.6666666666666666,
                            "#ed7953"
                          ],
                          [
                            0.7777777777777778,
                            "#fb9f3a"
                          ],
                          [
                            0.8888888888888888,
                            "#fdca26"
                          ],
                          [
                            1,
                            "#f0f921"
                          ]
                        ],
                        "type": "heatmap"
                      }
                    ],
                    "heatmapgl": [
                      {
                        "colorbar": {
                          "outlinewidth": 0,
                          "ticks": ""
                        },
                        "colorscale": [
                          [
                            0,
                            "#0d0887"
                          ],
                          [
                            0.1111111111111111,
                            "#46039f"
                          ],
                          [
                            0.2222222222222222,
                            "#7201a8"
                          ],
                          [
                            0.3333333333333333,
                            "#9c179e"
                          ],
                          [
                            0.4444444444444444,
                            "#bd3786"
                          ],
                          [
                            0.5555555555555556,
                            "#d8576b"
                          ],
                          [
                            0.6666666666666666,
                            "#ed7953"
                          ],
                          [
                            0.7777777777777778,
                            "#fb9f3a"
                          ],
                          [
                            0.8888888888888888,
                            "#fdca26"
                          ],
                          [
                            1,
                            "#f0f921"
                          ]
                        ],
                        "type": "heatmapgl"
                      }
                    ],
                    "histogram": [
                      {
                        "marker": {
                          "pattern": {
                            "fillmode": "overlay",
                            "size": 10,
                            "solidity": 0.2
                          }
                        },
                        "type": "histogram"
                      }
                    ],
                    "histogram2d": [
                      {
                        "colorbar": {
                          "outlinewidth": 0,
                          "ticks": ""
                        },
                        "colorscale": [
                          [
                            0,
                            "#0d0887"
                          ],
                          [
                            0.1111111111111111,
                            "#46039f"
                          ],
                          [
                            0.2222222222222222,
                            "#7201a8"
                          ],
                          [
                            0.3333333333333333,
                            "#9c179e"
                          ],
                          [
                            0.4444444444444444,
                            "#bd3786"
                          ],
                          [
                            0.5555555555555556,
                            "#d8576b"
                          ],
                          [
                            0.6666666666666666,
                            "#ed7953"
                          ],
                          [
                            0.7777777777777778,
                            "#fb9f3a"
                          ],
                          [
                            0.8888888888888888,
                            "#fdca26"
                          ],
                          [
                            1,
                            "#f0f921"
                          ]
                        ],
                        "type": "histogram2d"
                      }
                    ],
                    "histogram2dcontour": [
                      {
                        "colorbar": {
                          "outlinewidth": 0,
                          "ticks": ""
                        },
                        "colorscale": [
                          [
                            0,
                            "#0d0887"
                          ],
                          [
                            0.1111111111111111,
                            "#46039f"
                          ],
                          [
                            0.2222222222222222,
                            "#7201a8"
                          ],
                          [
                            0.3333333333333333,
                            "#9c179e"
                          ],
                          [
                            0.4444444444444444,
                            "#bd3786"
                          ],
                          [
                            0.5555555555555556,
                            "#d8576b"
                          ],
                          [
                            0.6666666666666666,
                            "#ed7953"
                          ],
                          [
                            0.7777777777777778,
                            "#fb9f3a"
                          ],
                          [
                            0.8888888888888888,
                            "#fdca26"
                          ],
                          [
                            1,
                            "#f0f921"
                          ]
                        ],
                        "type": "histogram2dcontour"
                      }
                    ],
                    "mesh3d": [
                      {
                        "colorbar": {
                          "outlinewidth": 0,
                          "ticks": ""
                        },
                        "type": "mesh3d"
                      }
                    ],
                    "parcoords": [
                      {
                        "line": {
                          "colorbar": {
                            "outlinewidth": 0,
                            "ticks": ""
                          }
                        },
                        "type": "parcoords"
                      }
                    ],
                    "pie": [
                      {
                        "automargin": true,
                        "type": "pie"
                      }
                    ],
                    "scatter": [
                      {
                        "marker": {
                          "colorbar": {
                            "outlinewidth": 0,
                            "ticks": ""
                          }
                        },
                        "type": "scatter"
                      }
                    ],
                    "scatter3d": [
                      {
                        "line": {
                          "colorbar": {
                            "outlinewidth": 0,
                            "ticks": ""
                          }
                        },
                        "marker": {
                          "colorbar": {
                            "outlinewidth": 0,
                            "ticks": ""
                          }
                        },
                        "type": "scatter3d"
                      }
                    ],
                    "scattercarpet": [
                      {
                        "marker": {
                          "colorbar": {
                            "outlinewidth": 0,
                            "ticks": ""
                          }
                        },
                        "type": "scattercarpet"
                      }
                    ],
                    "scattergeo": [
                      {
                        "marker": {
                          "colorbar": {
                            "outlinewidth": 0,
                            "ticks": ""
                          }
                        },
                        "type": "scattergeo"
                      }
                    ],
                    "scattergl": [
                      {
                        "marker": {
                          "colorbar": {
                            "outlinewidth": 0,
                            "ticks": ""
                          }
                        },
                        "type": "scattergl"
                      }
                    ],
                    "scattermapbox": [
                      {
                        "marker": {
                          "colorbar": {
                            "outlinewidth": 0,
                            "ticks": ""
                          }
                        },
                        "type": "scattermapbox"
                      }
                    ],
                    "scatterpolar": [
                      {
                        "marker": {
                          "colorbar": {
                            "outlinewidth": 0,
                            "ticks": ""
                          }
                        },
                        "type": "scatterpolar"
                      }
                    ],
                    "scatterpolargl": [
                      {
                        "marker": {
                          "colorbar": {
                            "outlinewidth": 0,
                            "ticks": ""
                          }
                        },
                        "type": "scatterpolargl"
                      }
                    ],
                    "scatterternary": [
                      {
                        "marker": {
                          "colorbar": {
                            "outlinewidth": 0,
                            "ticks": ""
                          }
                        },
                        "type": "scatterternary"
                      }
                    ],
                    "surface": [
                      {
                        "colorbar": {
                          "outlinewidth": 0,
                          "ticks": ""
                        },
                        "colorscale": [
                          [
                            0,
                            "#0d0887"
                          ],
                          [
                            0.1111111111111111,
                            "#46039f"
                          ],
                          [
                            0.2222222222222222,
                            "#7201a8"
                          ],
                          [
                            0.3333333333333333,
                            "#9c179e"
                          ],
                          [
                            0.4444444444444444,
                            "#bd3786"
                          ],
                          [
                            0.5555555555555556,
                            "#d8576b"
                          ],
                          [
                            0.6666666666666666,
                            "#ed7953"
                          ],
                          [
                            0.7777777777777778,
                            "#fb9f3a"
                          ],
                          [
                            0.8888888888888888,
                            "#fdca26"
                          ],
                          [
                            1,
                            "#f0f921"
                          ]
                        ],
                        "type": "surface"
                      }
                    ],
                    "table": [
                      {
                        "cells": {
                          "fill": {
                            "color": "#EBF0F8"
                          },
                          "line": {
                            "color": "white"
                          }
                        },
                        "header": {
                          "fill": {
                            "color": "#C8D4E3"
                          },
                          "line": {
                            "color": "white"
                          }
                        },
                        "type": "table"
                      }
                    ]
                  },
                  "layout": {
                    "annotationdefaults": {
                      "arrowcolor": "#2a3f5f",
                      "arrowhead": 0,
                      "arrowwidth": 1
                    },
                    "autotypenumbers": "strict",
                    "coloraxis": {
                      "colorbar": {
                        "outlinewidth": 0,
                        "ticks": ""
                      }
                    },
                    "colorscale": {
                      "diverging": [
                        [
                          0,
                          "#8e0152"
                        ],
                        [
                          0.1,
                          "#c51b7d"
                        ],
                        [
                          0.2,
                          "#de77ae"
                        ],
                        [
                          0.3,
                          "#f1b6da"
                        ],
                        [
                          0.4,
                          "#fde0ef"
                        ],
                        [
                          0.5,
                          "#f7f7f7"
                        ],
                        [
                          0.6,
                          "#e6f5d0"
                        ],
                        [
                          0.7,
                          "#b8e186"
                        ],
                        [
                          0.8,
                          "#7fbc41"
                        ],
                        [
                          0.9,
                          "#4d9221"
                        ],
                        [
                          1,
                          "#276419"
                        ]
                      ],
                      "sequential": [
                        [
                          0,
                          "#0d0887"
                        ],
                        [
                          0.1111111111111111,
                          "#46039f"
                        ],
                        [
                          0.2222222222222222,
                          "#7201a8"
                        ],
                        [
                          0.3333333333333333,
                          "#9c179e"
                        ],
                        [
                          0.4444444444444444,
                          "#bd3786"
                        ],
                        [
                          0.5555555555555556,
                          "#d8576b"
                        ],
                        [
                          0.6666666666666666,
                          "#ed7953"
                        ],
                        [
                          0.7777777777777778,
                          "#fb9f3a"
                        ],
                        [
                          0.8888888888888888,
                          "#fdca26"
                        ],
                        [
                          1,
                          "#f0f921"
                        ]
                      ],
                      "sequentialminus": [
                        [
                          0,
                          "#0d0887"
                        ],
                        [
                          0.1111111111111111,
                          "#46039f"
                        ],
                        [
                          0.2222222222222222,
                          "#7201a8"
                        ],
                        [
                          0.3333333333333333,
                          "#9c179e"
                        ],
                        [
                          0.4444444444444444,
                          "#bd3786"
                        ],
                        [
                          0.5555555555555556,
                          "#d8576b"
                        ],
                        [
                          0.6666666666666666,
                          "#ed7953"
                        ],
                        [
                          0.7777777777777778,
                          "#fb9f3a"
                        ],
                        [
                          0.8888888888888888,
                          "#fdca26"
                        ],
                        [
                          1,
                          "#f0f921"
                        ]
                      ]
                    },
                    "colorway": [
                      "#636efa",
                      "#EF553B",
                      "#00cc96",
                      "#ab63fa",
                      "#FFA15A",
                      "#19d3f3",
                      "#FF6692",
                      "#B6E880",
                      "#FF97FF",
                      "#FECB52"
                    ],
                    "font": {
                      "color": "#2a3f5f"
                    },
                    "geo": {
                      "bgcolor": "white",
                      "lakecolor": "white",
                      "landcolor": "#E5ECF6",
                      "showlakes": true,
                      "showland": true,
                      "subunitcolor": "white"
                    },
                    "hoverlabel": {
                      "align": "left"
                    },
                    "hovermode": "closest",
                    "mapbox": {
                      "style": "light"
                    },
                    "paper_bgcolor": "white",
                    "plot_bgcolor": "#E5ECF6",
                    "polar": {
                      "angularaxis": {
                        "gridcolor": "white",
                        "linecolor": "white",
                        "ticks": ""
                      },
                      "bgcolor": "#E5ECF6",
                      "radialaxis": {
                        "gridcolor": "white",
                        "linecolor": "white",
                        "ticks": ""
                      }
                    },
                    "scene": {
                      "xaxis": {
                        "backgroundcolor": "#E5ECF6",
                        "gridcolor": "white",
                        "gridwidth": 2,
                        "linecolor": "white",
                        "showbackground": true,
                        "ticks": "",
                        "zerolinecolor": "white"
                      },
                      "yaxis": {
                        "backgroundcolor": "#E5ECF6",
                        "gridcolor": "white",
                        "gridwidth": 2,
                        "linecolor": "white",
                        "showbackground": true,
                        "ticks": "",
                        "zerolinecolor": "white"
                      },
                      "zaxis": {
                        "backgroundcolor": "#E5ECF6",
                        "gridcolor": "white",
                        "gridwidth": 2,
                        "linecolor": "white",
                        "showbackground": true,
                        "ticks": "",
                        "zerolinecolor": "white"
                      }
                    },
                    "shapedefaults": {
                      "line": {
                        "color": "#2a3f5f"
                      }
                    },
                    "ternary": {
                      "aaxis": {
                        "gridcolor": "white",
                        "linecolor": "white",
                        "ticks": ""
                      },
                      "baxis": {
                        "gridcolor": "white",
                        "linecolor": "white",
                        "ticks": ""
                      },
                      "bgcolor": "#E5ECF6",
                      "caxis": {
                        "gridcolor": "white",
                        "linecolor": "white",
                        "ticks": ""
                      }
                    },
                    "title": {
                      "x": 0.05
                    },
                    "xaxis": {
                      "automargin": true,
                      "gridcolor": "white",
                      "linecolor": "white",
                      "ticks": "",
                      "title": {
                        "standoff": 15
                      },
                      "zerolinecolor": "white",
                      "zerolinewidth": 2
                    },
                    "yaxis": {
                      "automargin": true,
                      "gridcolor": "white",
                      "linecolor": "white",
                      "ticks": "",
                      "title": {
                        "standoff": 15
                      },
                      "zerolinecolor": "white",
                      "zerolinewidth": 2
                    }
                  }
                },
                "title": {
                  "text": "Top 20 traded animals"
                },
                "xaxis": {
                  "anchor": "y",
                  "categoryarray": [
                    "ostrich",
                    "great white shark",
                    "wolf",
                    "tiger",
                    "nile crocodile",
                    "blue shark",
                    "crocodiles",
                    "silky shark",
                    "white shark",
                    "bull shark",
                    "mako",
                    "bone shark",
                    "gator",
                    "lion",
                    "gray wolf",
                    "grey wolf",
                    "african crocodile",
                    "hammerhead",
                    "american alligator",
                    "hippopotamus"
                  ],
                  "categoryorder": "array",
                  "domain": [
                    0,
                    1
                  ],
                  "title": {
                    "text": "species"
                  }
                },
                "yaxis": {
                  "anchor": "x",
                  "domain": [
                    0,
                    1
                  ],
                  "title": {
                    "text": "count"
                  }
                }
              }
            },
            "text/html": [
              "<div>                            <div id=\"507b1088-5fee-4512-8097-ffa05ea8b7ec\" class=\"plotly-graph-div\" style=\"height:525px; width:100%;\"></div>            <script type=\"text/javascript\">                require([\"plotly\"], function(Plotly) {                    window.PLOTLYENV=window.PLOTLYENV || {};                                    if (document.getElementById(\"507b1088-5fee-4512-8097-ffa05ea8b7ec\")) {                    Plotly.newPlot(                        \"507b1088-5fee-4512-8097-ffa05ea8b7ec\",                        [{\"alignmentgroup\":\"True\",\"hovertemplate\":\"species=%{x}<br>count=%{y}<br>text=%{text}<extra></extra>\",\"legendgroup\":\"ostrich\",\"marker\":{\"color\":\"#636efa\",\"pattern\":{\"shape\":\"\"}},\"name\":\"ostrich\",\"offsetgroup\":\"ostrich\",\"orientation\":\"v\",\"showlegend\":true,\"text\":[\"1343\"],\"textposition\":\"auto\",\"x\":[\"ostrich\"],\"xaxis\":\"x\",\"y\":[1343],\"yaxis\":\"y\",\"type\":\"bar\"},{\"alignmentgroup\":\"True\",\"hovertemplate\":\"species=%{x}<br>count=%{y}<br>text=%{text}<extra></extra>\",\"legendgroup\":\"great white shark\",\"marker\":{\"color\":\"#EF553B\",\"pattern\":{\"shape\":\"\"}},\"name\":\"great white shark\",\"offsetgroup\":\"great white shark\",\"orientation\":\"v\",\"showlegend\":true,\"text\":[\"1272\"],\"textposition\":\"auto\",\"x\":[\"great white shark\"],\"xaxis\":\"x\",\"y\":[1272],\"yaxis\":\"y\",\"type\":\"bar\"},{\"alignmentgroup\":\"True\",\"hovertemplate\":\"species=%{x}<br>count=%{y}<br>text=%{text}<extra></extra>\",\"legendgroup\":\"wolf\",\"marker\":{\"color\":\"#00cc96\",\"pattern\":{\"shape\":\"\"}},\"name\":\"wolf\",\"offsetgroup\":\"wolf\",\"orientation\":\"v\",\"showlegend\":true,\"text\":[\"763\"],\"textposition\":\"auto\",\"x\":[\"wolf\"],\"xaxis\":\"x\",\"y\":[763],\"yaxis\":\"y\",\"type\":\"bar\"},{\"alignmentgroup\":\"True\",\"hovertemplate\":\"species=%{x}<br>count=%{y}<br>text=%{text}<extra></extra>\",\"legendgroup\":\"tiger\",\"marker\":{\"color\":\"#ab63fa\",\"pattern\":{\"shape\":\"\"}},\"name\":\"tiger\",\"offsetgroup\":\"tiger\",\"orientation\":\"v\",\"showlegend\":true,\"text\":[\"526\"],\"textposition\":\"auto\",\"x\":[\"tiger\"],\"xaxis\":\"x\",\"y\":[526],\"yaxis\":\"y\",\"type\":\"bar\"},{\"alignmentgroup\":\"True\",\"hovertemplate\":\"species=%{x}<br>count=%{y}<br>text=%{text}<extra></extra>\",\"legendgroup\":\"nile crocodile\",\"marker\":{\"color\":\"#FFA15A\",\"pattern\":{\"shape\":\"\"}},\"name\":\"nile crocodile\",\"offsetgroup\":\"nile crocodile\",\"orientation\":\"v\",\"showlegend\":true,\"text\":[\"445\"],\"textposition\":\"auto\",\"x\":[\"nile crocodile\"],\"xaxis\":\"x\",\"y\":[445],\"yaxis\":\"y\",\"type\":\"bar\"},{\"alignmentgroup\":\"True\",\"hovertemplate\":\"species=%{x}<br>count=%{y}<br>text=%{text}<extra></extra>\",\"legendgroup\":\"blue shark\",\"marker\":{\"color\":\"#19d3f3\",\"pattern\":{\"shape\":\"\"}},\"name\":\"blue shark\",\"offsetgroup\":\"blue shark\",\"orientation\":\"v\",\"showlegend\":true,\"text\":[\"122\"],\"textposition\":\"auto\",\"x\":[\"blue shark\"],\"xaxis\":\"x\",\"y\":[122],\"yaxis\":\"y\",\"type\":\"bar\"},{\"alignmentgroup\":\"True\",\"hovertemplate\":\"species=%{x}<br>count=%{y}<br>text=%{text}<extra></extra>\",\"legendgroup\":\"crocodiles\",\"marker\":{\"color\":\"#FF6692\",\"pattern\":{\"shape\":\"\"}},\"name\":\"crocodiles\",\"offsetgroup\":\"crocodiles\",\"orientation\":\"v\",\"showlegend\":true,\"text\":[\"72\"],\"textposition\":\"auto\",\"x\":[\"crocodiles\"],\"xaxis\":\"x\",\"y\":[72],\"yaxis\":\"y\",\"type\":\"bar\"},{\"alignmentgroup\":\"True\",\"hovertemplate\":\"species=%{x}<br>count=%{y}<br>text=%{text}<extra></extra>\",\"legendgroup\":\"silky shark\",\"marker\":{\"color\":\"#B6E880\",\"pattern\":{\"shape\":\"\"}},\"name\":\"silky shark\",\"offsetgroup\":\"silky shark\",\"orientation\":\"v\",\"showlegend\":true,\"text\":[\"59\"],\"textposition\":\"auto\",\"x\":[\"silky shark\"],\"xaxis\":\"x\",\"y\":[59],\"yaxis\":\"y\",\"type\":\"bar\"},{\"alignmentgroup\":\"True\",\"hovertemplate\":\"species=%{x}<br>count=%{y}<br>text=%{text}<extra></extra>\",\"legendgroup\":\"white shark\",\"marker\":{\"color\":\"#FF97FF\",\"pattern\":{\"shape\":\"\"}},\"name\":\"white shark\",\"offsetgroup\":\"white shark\",\"orientation\":\"v\",\"showlegend\":true,\"text\":[\"57\"],\"textposition\":\"auto\",\"x\":[\"white shark\"],\"xaxis\":\"x\",\"y\":[57],\"yaxis\":\"y\",\"type\":\"bar\"},{\"alignmentgroup\":\"True\",\"hovertemplate\":\"species=%{x}<br>count=%{y}<br>text=%{text}<extra></extra>\",\"legendgroup\":\"bull shark\",\"marker\":{\"color\":\"#FECB52\",\"pattern\":{\"shape\":\"\"}},\"name\":\"bull shark\",\"offsetgroup\":\"bull shark\",\"orientation\":\"v\",\"showlegend\":true,\"text\":[\"55\"],\"textposition\":\"auto\",\"x\":[\"bull shark\"],\"xaxis\":\"x\",\"y\":[55],\"yaxis\":\"y\",\"type\":\"bar\"},{\"alignmentgroup\":\"True\",\"hovertemplate\":\"species=%{x}<br>count=%{y}<br>text=%{text}<extra></extra>\",\"legendgroup\":\"mako\",\"marker\":{\"color\":\"#636efa\",\"pattern\":{\"shape\":\"\"}},\"name\":\"mako\",\"offsetgroup\":\"mako\",\"orientation\":\"v\",\"showlegend\":true,\"text\":[\"40\"],\"textposition\":\"auto\",\"x\":[\"mako\"],\"xaxis\":\"x\",\"y\":[40],\"yaxis\":\"y\",\"type\":\"bar\"},{\"alignmentgroup\":\"True\",\"hovertemplate\":\"species=%{x}<br>count=%{y}<br>text=%{text}<extra></extra>\",\"legendgroup\":\"bone shark\",\"marker\":{\"color\":\"#EF553B\",\"pattern\":{\"shape\":\"\"}},\"name\":\"bone shark\",\"offsetgroup\":\"bone shark\",\"orientation\":\"v\",\"showlegend\":true,\"text\":[\"36\"],\"textposition\":\"auto\",\"x\":[\"bone shark\"],\"xaxis\":\"x\",\"y\":[36],\"yaxis\":\"y\",\"type\":\"bar\"},{\"alignmentgroup\":\"True\",\"hovertemplate\":\"species=%{x}<br>count=%{y}<br>text=%{text}<extra></extra>\",\"legendgroup\":\"gator\",\"marker\":{\"color\":\"#00cc96\",\"pattern\":{\"shape\":\"\"}},\"name\":\"gator\",\"offsetgroup\":\"gator\",\"orientation\":\"v\",\"showlegend\":true,\"text\":[\"30\"],\"textposition\":\"auto\",\"x\":[\"gator\"],\"xaxis\":\"x\",\"y\":[30],\"yaxis\":\"y\",\"type\":\"bar\"},{\"alignmentgroup\":\"True\",\"hovertemplate\":\"species=%{x}<br>count=%{y}<br>text=%{text}<extra></extra>\",\"legendgroup\":\"lion\",\"marker\":{\"color\":\"#ab63fa\",\"pattern\":{\"shape\":\"\"}},\"name\":\"lion\",\"offsetgroup\":\"lion\",\"orientation\":\"v\",\"showlegend\":true,\"text\":[\"29\"],\"textposition\":\"auto\",\"x\":[\"lion\"],\"xaxis\":\"x\",\"y\":[29],\"yaxis\":\"y\",\"type\":\"bar\"},{\"alignmentgroup\":\"True\",\"hovertemplate\":\"species=%{x}<br>count=%{y}<br>text=%{text}<extra></extra>\",\"legendgroup\":\"gray wolf\",\"marker\":{\"color\":\"#FFA15A\",\"pattern\":{\"shape\":\"\"}},\"name\":\"gray wolf\",\"offsetgroup\":\"gray wolf\",\"orientation\":\"v\",\"showlegend\":true,\"text\":[\"25\"],\"textposition\":\"auto\",\"x\":[\"gray wolf\"],\"xaxis\":\"x\",\"y\":[25],\"yaxis\":\"y\",\"type\":\"bar\"},{\"alignmentgroup\":\"True\",\"hovertemplate\":\"species=%{x}<br>count=%{y}<br>text=%{text}<extra></extra>\",\"legendgroup\":\"grey wolf\",\"marker\":{\"color\":\"#19d3f3\",\"pattern\":{\"shape\":\"\"}},\"name\":\"grey wolf\",\"offsetgroup\":\"grey wolf\",\"orientation\":\"v\",\"showlegend\":true,\"text\":[\"24\"],\"textposition\":\"auto\",\"x\":[\"grey wolf\"],\"xaxis\":\"x\",\"y\":[24],\"yaxis\":\"y\",\"type\":\"bar\"},{\"alignmentgroup\":\"True\",\"hovertemplate\":\"species=%{x}<br>count=%{y}<br>text=%{text}<extra></extra>\",\"legendgroup\":\"african crocodile\",\"marker\":{\"color\":\"#FF6692\",\"pattern\":{\"shape\":\"\"}},\"name\":\"african crocodile\",\"offsetgroup\":\"african crocodile\",\"orientation\":\"v\",\"showlegend\":true,\"text\":[\"20\"],\"textposition\":\"auto\",\"x\":[\"african crocodile\"],\"xaxis\":\"x\",\"y\":[20],\"yaxis\":\"y\",\"type\":\"bar\"},{\"alignmentgroup\":\"True\",\"hovertemplate\":\"species=%{x}<br>count=%{y}<br>text=%{text}<extra></extra>\",\"legendgroup\":\"hammerhead\",\"marker\":{\"color\":\"#B6E880\",\"pattern\":{\"shape\":\"\"}},\"name\":\"hammerhead\",\"offsetgroup\":\"hammerhead\",\"orientation\":\"v\",\"showlegend\":true,\"text\":[\"18\"],\"textposition\":\"auto\",\"x\":[\"hammerhead\"],\"xaxis\":\"x\",\"y\":[18],\"yaxis\":\"y\",\"type\":\"bar\"},{\"alignmentgroup\":\"True\",\"hovertemplate\":\"species=%{x}<br>count=%{y}<br>text=%{text}<extra></extra>\",\"legendgroup\":\"american alligator\",\"marker\":{\"color\":\"#FF97FF\",\"pattern\":{\"shape\":\"\"}},\"name\":\"american alligator\",\"offsetgroup\":\"american alligator\",\"orientation\":\"v\",\"showlegend\":true,\"text\":[\"17\"],\"textposition\":\"auto\",\"x\":[\"american alligator\"],\"xaxis\":\"x\",\"y\":[17],\"yaxis\":\"y\",\"type\":\"bar\"},{\"alignmentgroup\":\"True\",\"hovertemplate\":\"species=%{x}<br>count=%{y}<br>text=%{text}<extra></extra>\",\"legendgroup\":\"hippopotamus\",\"marker\":{\"color\":\"#FECB52\",\"pattern\":{\"shape\":\"\"}},\"name\":\"hippopotamus\",\"offsetgroup\":\"hippopotamus\",\"orientation\":\"v\",\"showlegend\":true,\"text\":[\"17\"],\"textposition\":\"auto\",\"x\":[\"hippopotamus\"],\"xaxis\":\"x\",\"y\":[17],\"yaxis\":\"y\",\"type\":\"bar\"}],                        {\"template\":{\"data\":{\"bar\":[{\"error_x\":{\"color\":\"#2a3f5f\"},\"error_y\":{\"color\":\"#2a3f5f\"},\"marker\":{\"line\":{\"color\":\"#E5ECF6\",\"width\":0.5},\"pattern\":{\"fillmode\":\"overlay\",\"size\":10,\"solidity\":0.2}},\"type\":\"bar\"}],\"barpolar\":[{\"marker\":{\"line\":{\"color\":\"#E5ECF6\",\"width\":0.5},\"pattern\":{\"fillmode\":\"overlay\",\"size\":10,\"solidity\":0.2}},\"type\":\"barpolar\"}],\"carpet\":[{\"aaxis\":{\"endlinecolor\":\"#2a3f5f\",\"gridcolor\":\"white\",\"linecolor\":\"white\",\"minorgridcolor\":\"white\",\"startlinecolor\":\"#2a3f5f\"},\"baxis\":{\"endlinecolor\":\"#2a3f5f\",\"gridcolor\":\"white\",\"linecolor\":\"white\",\"minorgridcolor\":\"white\",\"startlinecolor\":\"#2a3f5f\"},\"type\":\"carpet\"}],\"choropleth\":[{\"colorbar\":{\"outlinewidth\":0,\"ticks\":\"\"},\"type\":\"choropleth\"}],\"contour\":[{\"colorbar\":{\"outlinewidth\":0,\"ticks\":\"\"},\"colorscale\":[[0.0,\"#0d0887\"],[0.1111111111111111,\"#46039f\"],[0.2222222222222222,\"#7201a8\"],[0.3333333333333333,\"#9c179e\"],[0.4444444444444444,\"#bd3786\"],[0.5555555555555556,\"#d8576b\"],[0.6666666666666666,\"#ed7953\"],[0.7777777777777778,\"#fb9f3a\"],[0.8888888888888888,\"#fdca26\"],[1.0,\"#f0f921\"]],\"type\":\"contour\"}],\"contourcarpet\":[{\"colorbar\":{\"outlinewidth\":0,\"ticks\":\"\"},\"type\":\"contourcarpet\"}],\"heatmap\":[{\"colorbar\":{\"outlinewidth\":0,\"ticks\":\"\"},\"colorscale\":[[0.0,\"#0d0887\"],[0.1111111111111111,\"#46039f\"],[0.2222222222222222,\"#7201a8\"],[0.3333333333333333,\"#9c179e\"],[0.4444444444444444,\"#bd3786\"],[0.5555555555555556,\"#d8576b\"],[0.6666666666666666,\"#ed7953\"],[0.7777777777777778,\"#fb9f3a\"],[0.8888888888888888,\"#fdca26\"],[1.0,\"#f0f921\"]],\"type\":\"heatmap\"}],\"heatmapgl\":[{\"colorbar\":{\"outlinewidth\":0,\"ticks\":\"\"},\"colorscale\":[[0.0,\"#0d0887\"],[0.1111111111111111,\"#46039f\"],[0.2222222222222222,\"#7201a8\"],[0.3333333333333333,\"#9c179e\"],[0.4444444444444444,\"#bd3786\"],[0.5555555555555556,\"#d8576b\"],[0.6666666666666666,\"#ed7953\"],[0.7777777777777778,\"#fb9f3a\"],[0.8888888888888888,\"#fdca26\"],[1.0,\"#f0f921\"]],\"type\":\"heatmapgl\"}],\"histogram\":[{\"marker\":{\"pattern\":{\"fillmode\":\"overlay\",\"size\":10,\"solidity\":0.2}},\"type\":\"histogram\"}],\"histogram2d\":[{\"colorbar\":{\"outlinewidth\":0,\"ticks\":\"\"},\"colorscale\":[[0.0,\"#0d0887\"],[0.1111111111111111,\"#46039f\"],[0.2222222222222222,\"#7201a8\"],[0.3333333333333333,\"#9c179e\"],[0.4444444444444444,\"#bd3786\"],[0.5555555555555556,\"#d8576b\"],[0.6666666666666666,\"#ed7953\"],[0.7777777777777778,\"#fb9f3a\"],[0.8888888888888888,\"#fdca26\"],[1.0,\"#f0f921\"]],\"type\":\"histogram2d\"}],\"histogram2dcontour\":[{\"colorbar\":{\"outlinewidth\":0,\"ticks\":\"\"},\"colorscale\":[[0.0,\"#0d0887\"],[0.1111111111111111,\"#46039f\"],[0.2222222222222222,\"#7201a8\"],[0.3333333333333333,\"#9c179e\"],[0.4444444444444444,\"#bd3786\"],[0.5555555555555556,\"#d8576b\"],[0.6666666666666666,\"#ed7953\"],[0.7777777777777778,\"#fb9f3a\"],[0.8888888888888888,\"#fdca26\"],[1.0,\"#f0f921\"]],\"type\":\"histogram2dcontour\"}],\"mesh3d\":[{\"colorbar\":{\"outlinewidth\":0,\"ticks\":\"\"},\"type\":\"mesh3d\"}],\"parcoords\":[{\"line\":{\"colorbar\":{\"outlinewidth\":0,\"ticks\":\"\"}},\"type\":\"parcoords\"}],\"pie\":[{\"automargin\":true,\"type\":\"pie\"}],\"scatter\":[{\"marker\":{\"colorbar\":{\"outlinewidth\":0,\"ticks\":\"\"}},\"type\":\"scatter\"}],\"scatter3d\":[{\"line\":{\"colorbar\":{\"outlinewidth\":0,\"ticks\":\"\"}},\"marker\":{\"colorbar\":{\"outlinewidth\":0,\"ticks\":\"\"}},\"type\":\"scatter3d\"}],\"scattercarpet\":[{\"marker\":{\"colorbar\":{\"outlinewidth\":0,\"ticks\":\"\"}},\"type\":\"scattercarpet\"}],\"scattergeo\":[{\"marker\":{\"colorbar\":{\"outlinewidth\":0,\"ticks\":\"\"}},\"type\":\"scattergeo\"}],\"scattergl\":[{\"marker\":{\"colorbar\":{\"outlinewidth\":0,\"ticks\":\"\"}},\"type\":\"scattergl\"}],\"scattermapbox\":[{\"marker\":{\"colorbar\":{\"outlinewidth\":0,\"ticks\":\"\"}},\"type\":\"scattermapbox\"}],\"scatterpolar\":[{\"marker\":{\"colorbar\":{\"outlinewidth\":0,\"ticks\":\"\"}},\"type\":\"scatterpolar\"}],\"scatterpolargl\":[{\"marker\":{\"colorbar\":{\"outlinewidth\":0,\"ticks\":\"\"}},\"type\":\"scatterpolargl\"}],\"scatterternary\":[{\"marker\":{\"colorbar\":{\"outlinewidth\":0,\"ticks\":\"\"}},\"type\":\"scatterternary\"}],\"surface\":[{\"colorbar\":{\"outlinewidth\":0,\"ticks\":\"\"},\"colorscale\":[[0.0,\"#0d0887\"],[0.1111111111111111,\"#46039f\"],[0.2222222222222222,\"#7201a8\"],[0.3333333333333333,\"#9c179e\"],[0.4444444444444444,\"#bd3786\"],[0.5555555555555556,\"#d8576b\"],[0.6666666666666666,\"#ed7953\"],[0.7777777777777778,\"#fb9f3a\"],[0.8888888888888888,\"#fdca26\"],[1.0,\"#f0f921\"]],\"type\":\"surface\"}],\"table\":[{\"cells\":{\"fill\":{\"color\":\"#EBF0F8\"},\"line\":{\"color\":\"white\"}},\"header\":{\"fill\":{\"color\":\"#C8D4E3\"},\"line\":{\"color\":\"white\"}},\"type\":\"table\"}]},\"layout\":{\"annotationdefaults\":{\"arrowcolor\":\"#2a3f5f\",\"arrowhead\":0,\"arrowwidth\":1},\"autotypenumbers\":\"strict\",\"coloraxis\":{\"colorbar\":{\"outlinewidth\":0,\"ticks\":\"\"}},\"colorscale\":{\"diverging\":[[0,\"#8e0152\"],[0.1,\"#c51b7d\"],[0.2,\"#de77ae\"],[0.3,\"#f1b6da\"],[0.4,\"#fde0ef\"],[0.5,\"#f7f7f7\"],[0.6,\"#e6f5d0\"],[0.7,\"#b8e186\"],[0.8,\"#7fbc41\"],[0.9,\"#4d9221\"],[1,\"#276419\"]],\"sequential\":[[0.0,\"#0d0887\"],[0.1111111111111111,\"#46039f\"],[0.2222222222222222,\"#7201a8\"],[0.3333333333333333,\"#9c179e\"],[0.4444444444444444,\"#bd3786\"],[0.5555555555555556,\"#d8576b\"],[0.6666666666666666,\"#ed7953\"],[0.7777777777777778,\"#fb9f3a\"],[0.8888888888888888,\"#fdca26\"],[1.0,\"#f0f921\"]],\"sequentialminus\":[[0.0,\"#0d0887\"],[0.1111111111111111,\"#46039f\"],[0.2222222222222222,\"#7201a8\"],[0.3333333333333333,\"#9c179e\"],[0.4444444444444444,\"#bd3786\"],[0.5555555555555556,\"#d8576b\"],[0.6666666666666666,\"#ed7953\"],[0.7777777777777778,\"#fb9f3a\"],[0.8888888888888888,\"#fdca26\"],[1.0,\"#f0f921\"]]},\"colorway\":[\"#636efa\",\"#EF553B\",\"#00cc96\",\"#ab63fa\",\"#FFA15A\",\"#19d3f3\",\"#FF6692\",\"#B6E880\",\"#FF97FF\",\"#FECB52\"],\"font\":{\"color\":\"#2a3f5f\"},\"geo\":{\"bgcolor\":\"white\",\"lakecolor\":\"white\",\"landcolor\":\"#E5ECF6\",\"showlakes\":true,\"showland\":true,\"subunitcolor\":\"white\"},\"hoverlabel\":{\"align\":\"left\"},\"hovermode\":\"closest\",\"mapbox\":{\"style\":\"light\"},\"paper_bgcolor\":\"white\",\"plot_bgcolor\":\"#E5ECF6\",\"polar\":{\"angularaxis\":{\"gridcolor\":\"white\",\"linecolor\":\"white\",\"ticks\":\"\"},\"bgcolor\":\"#E5ECF6\",\"radialaxis\":{\"gridcolor\":\"white\",\"linecolor\":\"white\",\"ticks\":\"\"}},\"scene\":{\"xaxis\":{\"backgroundcolor\":\"#E5ECF6\",\"gridcolor\":\"white\",\"gridwidth\":2,\"linecolor\":\"white\",\"showbackground\":true,\"ticks\":\"\",\"zerolinecolor\":\"white\"},\"yaxis\":{\"backgroundcolor\":\"#E5ECF6\",\"gridcolor\":\"white\",\"gridwidth\":2,\"linecolor\":\"white\",\"showbackground\":true,\"ticks\":\"\",\"zerolinecolor\":\"white\"},\"zaxis\":{\"backgroundcolor\":\"#E5ECF6\",\"gridcolor\":\"white\",\"gridwidth\":2,\"linecolor\":\"white\",\"showbackground\":true,\"ticks\":\"\",\"zerolinecolor\":\"white\"}},\"shapedefaults\":{\"line\":{\"color\":\"#2a3f5f\"}},\"ternary\":{\"aaxis\":{\"gridcolor\":\"white\",\"linecolor\":\"white\",\"ticks\":\"\"},\"baxis\":{\"gridcolor\":\"white\",\"linecolor\":\"white\",\"ticks\":\"\"},\"bgcolor\":\"#E5ECF6\",\"caxis\":{\"gridcolor\":\"white\",\"linecolor\":\"white\",\"ticks\":\"\"}},\"title\":{\"x\":0.05},\"xaxis\":{\"automargin\":true,\"gridcolor\":\"white\",\"linecolor\":\"white\",\"ticks\":\"\",\"title\":{\"standoff\":15},\"zerolinecolor\":\"white\",\"zerolinewidth\":2},\"yaxis\":{\"automargin\":true,\"gridcolor\":\"white\",\"linecolor\":\"white\",\"ticks\":\"\",\"title\":{\"standoff\":15},\"zerolinecolor\":\"white\",\"zerolinewidth\":2}}},\"xaxis\":{\"anchor\":\"y\",\"domain\":[0.0,1.0],\"title\":{\"text\":\"species\"},\"categoryorder\":\"array\",\"categoryarray\":[\"ostrich\",\"great white shark\",\"wolf\",\"tiger\",\"nile crocodile\",\"blue shark\",\"crocodiles\",\"silky shark\",\"white shark\",\"bull shark\",\"mako\",\"bone shark\",\"gator\",\"lion\",\"gray wolf\",\"grey wolf\",\"african crocodile\",\"hammerhead\",\"american alligator\",\"hippopotamus\"]},\"yaxis\":{\"anchor\":\"x\",\"domain\":[0.0,1.0],\"title\":{\"text\":\"count\"}},\"legend\":{\"title\":{\"text\":\"species\"},\"tracegroupgap\":0},\"title\":{\"text\":\"Top 20 traded animals\"},\"barmode\":\"relative\"},                        {\"responsive\": true}                    ).then(function(){\n",
              "                            \n",
              "var gd = document.getElementById('507b1088-5fee-4512-8097-ffa05ea8b7ec');\n",
              "var x = new MutationObserver(function (mutations, observer) {{\n",
              "        var display = window.getComputedStyle(gd).display;\n",
              "        if (!display || display === 'none') {{\n",
              "            console.log([gd, 'removed!']);\n",
              "            Plotly.purge(gd);\n",
              "            observer.disconnect();\n",
              "        }}\n",
              "}});\n",
              "\n",
              "// Listen for the removal of the full notebook cells\n",
              "var notebookContainer = gd.closest('#notebook-container');\n",
              "if (notebookContainer) {{\n",
              "    x.observe(notebookContainer, {childList: true});\n",
              "}}\n",
              "\n",
              "// Listen for the clearing of the current output cell\n",
              "var outputEl = gd.closest('.output');\n",
              "if (outputEl) {{\n",
              "    x.observe(outputEl, {childList: true});\n",
              "}}\n",
              "\n",
              "                        })                };                });            </script>        </div>"
            ]
          },
          "metadata": {},
          "output_type": "display_data"
        }
      ],
      "source": [
        "fig = px.bar(wildlife_count.head(20), y='count', x='species', color='species',\n",
        "             title=\"Top 20 traded animals\", text=wildlife_count.head(20)['count'].astype(str))\n",
        "fig.show()"
      ]
    },
    {
      "cell_type": "code",
      "execution_count": null,
      "id": "4008ebf6",
      "metadata": {
        "id": "4008ebf6"
      },
      "outputs": [],
      "source": [
        "wildlife_trade_df = df[df['species'].notna()]\n",
        "wildlife_trade_country_count = wildlife_trade_df['country'].value_counts().reset_index()\n",
        "wildlife_trade_country_count.columns = ['country', 'count']"
      ]
    },
    {
      "cell_type": "code",
      "execution_count": null,
      "id": "6ab4fb98",
      "metadata": {
        "id": "6ab4fb98",
        "outputId": "adc595e5-3cce-4eff-d7e7-6308e675662d"
      },
      "outputs": [
        {
          "data": {
            "text/html": [
              "<div>\n",
              "<style scoped>\n",
              "    .dataframe tbody tr th:only-of-type {\n",
              "        vertical-align: middle;\n",
              "    }\n",
              "\n",
              "    .dataframe tbody tr th {\n",
              "        vertical-align: top;\n",
              "    }\n",
              "\n",
              "    .dataframe thead th {\n",
              "        text-align: right;\n",
              "    }\n",
              "</style>\n",
              "<table border=\"1\" class=\"dataframe\">\n",
              "  <thead>\n",
              "    <tr style=\"text-align: right;\">\n",
              "      <th></th>\n",
              "      <th>country</th>\n",
              "      <th>count</th>\n",
              "    </tr>\n",
              "  </thead>\n",
              "  <tbody>\n",
              "    <tr>\n",
              "      <th>0</th>\n",
              "      <td>United States</td>\n",
              "      <td>1361</td>\n",
              "    </tr>\n",
              "    <tr>\n",
              "      <th>1</th>\n",
              "      <td>Canada</td>\n",
              "      <td>632</td>\n",
              "    </tr>\n",
              "    <tr>\n",
              "      <th>2</th>\n",
              "      <td>United Kingdom</td>\n",
              "      <td>584</td>\n",
              "    </tr>\n",
              "    <tr>\n",
              "      <th>3</th>\n",
              "      <td>Australia</td>\n",
              "      <td>495</td>\n",
              "    </tr>\n",
              "    <tr>\n",
              "      <th>4</th>\n",
              "      <td>France</td>\n",
              "      <td>217</td>\n",
              "    </tr>\n",
              "    <tr>\n",
              "      <th>5</th>\n",
              "      <td>Singapore</td>\n",
              "      <td>157</td>\n",
              "    </tr>\n",
              "    <tr>\n",
              "      <th>6</th>\n",
              "      <td>Germany</td>\n",
              "      <td>146</td>\n",
              "    </tr>\n",
              "    <tr>\n",
              "      <th>7</th>\n",
              "      <td>Ireland</td>\n",
              "      <td>116</td>\n",
              "    </tr>\n",
              "    <tr>\n",
              "      <th>8</th>\n",
              "      <td>Italy</td>\n",
              "      <td>108</td>\n",
              "    </tr>\n",
              "    <tr>\n",
              "      <th>9</th>\n",
              "      <td>New Zealand</td>\n",
              "      <td>85</td>\n",
              "    </tr>\n",
              "  </tbody>\n",
              "</table>\n",
              "</div>"
            ],
            "text/plain": [
              "          country  count\n",
              "0   United States   1361\n",
              "1          Canada    632\n",
              "2  United Kingdom    584\n",
              "3       Australia    495\n",
              "4          France    217\n",
              "5       Singapore    157\n",
              "6         Germany    146\n",
              "7         Ireland    116\n",
              "8           Italy    108\n",
              "9     New Zealand     85"
            ]
          },
          "execution_count": 357,
          "metadata": {},
          "output_type": "execute_result"
        }
      ],
      "source": [
        "wildlife_trade_country_count.head(10)"
      ]
    },
    {
      "cell_type": "code",
      "execution_count": null,
      "id": "d78b640e",
      "metadata": {
        "id": "d78b640e",
        "outputId": "13fd7924-a088-4748-d19c-f4027a4eaaa9"
      },
      "outputs": [
        {
          "data": {
            "application/vnd.plotly.v1+json": {
              "config": {
                "plotlyServerURL": "https://plot.ly"
              },
              "data": [
                {
                  "coloraxis": "coloraxis",
                  "geo": "geo",
                  "hovertemplate": "<b>%{hovertext}</b><br><br>country=%{location}<br>count=%{z}<extra></extra>",
                  "hovertext": [
                    "United States",
                    "Canada",
                    "United Kingdom",
                    "Australia",
                    "France",
                    "Singapore",
                    "Germany",
                    "Ireland",
                    "Italy",
                    "New Zealand",
                    "Malaysia",
                    "China",
                    "Spain",
                    "Switzerland",
                    "Netherlands",
                    "Austria",
                    "Hong Kong",
                    "Vietnam",
                    "Thailand",
                    "Japan",
                    "Indonesia",
                    "Greece",
                    "Sri Lanka",
                    "India",
                    "Belarus",
                    "Ukraine",
                    "Czech Republic",
                    "Morocco",
                    "Lithuania",
                    "Cyprus",
                    "Poland",
                    "Belgium",
                    "Portugal",
                    "Egypt",
                    "Kenya",
                    "The Netherlands",
                    "Romania",
                    "Turkey",
                    "Pakistan",
                    "Moldavia"
                  ],
                  "locationmode": "country names",
                  "locations": [
                    "United States",
                    "Canada",
                    "United Kingdom",
                    "Australia",
                    "France",
                    "Singapore",
                    "Germany",
                    "Ireland",
                    "Italy",
                    "New Zealand",
                    "Malaysia",
                    "China",
                    "Spain",
                    "Switzerland",
                    "Netherlands",
                    "Austria",
                    "Hong Kong",
                    "Vietnam",
                    "Thailand",
                    "Japan",
                    "Indonesia",
                    "Greece",
                    "Sri Lanka",
                    "India",
                    "Belarus",
                    "Ukraine",
                    "Czech Republic",
                    "Morocco",
                    "Lithuania",
                    "Cyprus",
                    "Poland",
                    "Belgium",
                    "Portugal",
                    "Egypt",
                    "Kenya",
                    "The Netherlands",
                    "Romania",
                    "Turkey",
                    "Pakistan",
                    "Moldavia"
                  ],
                  "name": "",
                  "type": "choropleth",
                  "z": [
                    1361,
                    632,
                    584,
                    495,
                    217,
                    157,
                    146,
                    116,
                    108,
                    85,
                    75,
                    71,
                    63,
                    62,
                    60,
                    59,
                    55,
                    16,
                    8,
                    7,
                    5,
                    4,
                    4,
                    3,
                    3,
                    3,
                    3,
                    2,
                    2,
                    2,
                    1,
                    1,
                    1,
                    1,
                    1,
                    1,
                    1,
                    1,
                    1,
                    1
                  ]
                }
              ],
              "layout": {
                "coloraxis": {
                  "colorbar": {
                    "title": {
                      "text": "count"
                    }
                  },
                  "colorscale": [
                    [
                      0,
                      "#0d0887"
                    ],
                    [
                      0.1111111111111111,
                      "#46039f"
                    ],
                    [
                      0.2222222222222222,
                      "#7201a8"
                    ],
                    [
                      0.3333333333333333,
                      "#9c179e"
                    ],
                    [
                      0.4444444444444444,
                      "#bd3786"
                    ],
                    [
                      0.5555555555555556,
                      "#d8576b"
                    ],
                    [
                      0.6666666666666666,
                      "#ed7953"
                    ],
                    [
                      0.7777777777777778,
                      "#fb9f3a"
                    ],
                    [
                      0.8888888888888888,
                      "#fdca26"
                    ],
                    [
                      1,
                      "#f0f921"
                    ]
                  ]
                },
                "geo": {
                  "center": {},
                  "domain": {
                    "x": [
                      0,
                      1
                    ],
                    "y": [
                      0,
                      1
                    ]
                  },
                  "projection": {
                    "type": "natural earth"
                  }
                },
                "legend": {
                  "tracegroupgap": 0
                },
                "template": {
                  "data": {
                    "bar": [
                      {
                        "error_x": {
                          "color": "#2a3f5f"
                        },
                        "error_y": {
                          "color": "#2a3f5f"
                        },
                        "marker": {
                          "line": {
                            "color": "#E5ECF6",
                            "width": 0.5
                          },
                          "pattern": {
                            "fillmode": "overlay",
                            "size": 10,
                            "solidity": 0.2
                          }
                        },
                        "type": "bar"
                      }
                    ],
                    "barpolar": [
                      {
                        "marker": {
                          "line": {
                            "color": "#E5ECF6",
                            "width": 0.5
                          },
                          "pattern": {
                            "fillmode": "overlay",
                            "size": 10,
                            "solidity": 0.2
                          }
                        },
                        "type": "barpolar"
                      }
                    ],
                    "carpet": [
                      {
                        "aaxis": {
                          "endlinecolor": "#2a3f5f",
                          "gridcolor": "white",
                          "linecolor": "white",
                          "minorgridcolor": "white",
                          "startlinecolor": "#2a3f5f"
                        },
                        "baxis": {
                          "endlinecolor": "#2a3f5f",
                          "gridcolor": "white",
                          "linecolor": "white",
                          "minorgridcolor": "white",
                          "startlinecolor": "#2a3f5f"
                        },
                        "type": "carpet"
                      }
                    ],
                    "choropleth": [
                      {
                        "colorbar": {
                          "outlinewidth": 0,
                          "ticks": ""
                        },
                        "type": "choropleth"
                      }
                    ],
                    "contour": [
                      {
                        "colorbar": {
                          "outlinewidth": 0,
                          "ticks": ""
                        },
                        "colorscale": [
                          [
                            0,
                            "#0d0887"
                          ],
                          [
                            0.1111111111111111,
                            "#46039f"
                          ],
                          [
                            0.2222222222222222,
                            "#7201a8"
                          ],
                          [
                            0.3333333333333333,
                            "#9c179e"
                          ],
                          [
                            0.4444444444444444,
                            "#bd3786"
                          ],
                          [
                            0.5555555555555556,
                            "#d8576b"
                          ],
                          [
                            0.6666666666666666,
                            "#ed7953"
                          ],
                          [
                            0.7777777777777778,
                            "#fb9f3a"
                          ],
                          [
                            0.8888888888888888,
                            "#fdca26"
                          ],
                          [
                            1,
                            "#f0f921"
                          ]
                        ],
                        "type": "contour"
                      }
                    ],
                    "contourcarpet": [
                      {
                        "colorbar": {
                          "outlinewidth": 0,
                          "ticks": ""
                        },
                        "type": "contourcarpet"
                      }
                    ],
                    "heatmap": [
                      {
                        "colorbar": {
                          "outlinewidth": 0,
                          "ticks": ""
                        },
                        "colorscale": [
                          [
                            0,
                            "#0d0887"
                          ],
                          [
                            0.1111111111111111,
                            "#46039f"
                          ],
                          [
                            0.2222222222222222,
                            "#7201a8"
                          ],
                          [
                            0.3333333333333333,
                            "#9c179e"
                          ],
                          [
                            0.4444444444444444,
                            "#bd3786"
                          ],
                          [
                            0.5555555555555556,
                            "#d8576b"
                          ],
                          [
                            0.6666666666666666,
                            "#ed7953"
                          ],
                          [
                            0.7777777777777778,
                            "#fb9f3a"
                          ],
                          [
                            0.8888888888888888,
                            "#fdca26"
                          ],
                          [
                            1,
                            "#f0f921"
                          ]
                        ],
                        "type": "heatmap"
                      }
                    ],
                    "heatmapgl": [
                      {
                        "colorbar": {
                          "outlinewidth": 0,
                          "ticks": ""
                        },
                        "colorscale": [
                          [
                            0,
                            "#0d0887"
                          ],
                          [
                            0.1111111111111111,
                            "#46039f"
                          ],
                          [
                            0.2222222222222222,
                            "#7201a8"
                          ],
                          [
                            0.3333333333333333,
                            "#9c179e"
                          ],
                          [
                            0.4444444444444444,
                            "#bd3786"
                          ],
                          [
                            0.5555555555555556,
                            "#d8576b"
                          ],
                          [
                            0.6666666666666666,
                            "#ed7953"
                          ],
                          [
                            0.7777777777777778,
                            "#fb9f3a"
                          ],
                          [
                            0.8888888888888888,
                            "#fdca26"
                          ],
                          [
                            1,
                            "#f0f921"
                          ]
                        ],
                        "type": "heatmapgl"
                      }
                    ],
                    "histogram": [
                      {
                        "marker": {
                          "pattern": {
                            "fillmode": "overlay",
                            "size": 10,
                            "solidity": 0.2
                          }
                        },
                        "type": "histogram"
                      }
                    ],
                    "histogram2d": [
                      {
                        "colorbar": {
                          "outlinewidth": 0,
                          "ticks": ""
                        },
                        "colorscale": [
                          [
                            0,
                            "#0d0887"
                          ],
                          [
                            0.1111111111111111,
                            "#46039f"
                          ],
                          [
                            0.2222222222222222,
                            "#7201a8"
                          ],
                          [
                            0.3333333333333333,
                            "#9c179e"
                          ],
                          [
                            0.4444444444444444,
                            "#bd3786"
                          ],
                          [
                            0.5555555555555556,
                            "#d8576b"
                          ],
                          [
                            0.6666666666666666,
                            "#ed7953"
                          ],
                          [
                            0.7777777777777778,
                            "#fb9f3a"
                          ],
                          [
                            0.8888888888888888,
                            "#fdca26"
                          ],
                          [
                            1,
                            "#f0f921"
                          ]
                        ],
                        "type": "histogram2d"
                      }
                    ],
                    "histogram2dcontour": [
                      {
                        "colorbar": {
                          "outlinewidth": 0,
                          "ticks": ""
                        },
                        "colorscale": [
                          [
                            0,
                            "#0d0887"
                          ],
                          [
                            0.1111111111111111,
                            "#46039f"
                          ],
                          [
                            0.2222222222222222,
                            "#7201a8"
                          ],
                          [
                            0.3333333333333333,
                            "#9c179e"
                          ],
                          [
                            0.4444444444444444,
                            "#bd3786"
                          ],
                          [
                            0.5555555555555556,
                            "#d8576b"
                          ],
                          [
                            0.6666666666666666,
                            "#ed7953"
                          ],
                          [
                            0.7777777777777778,
                            "#fb9f3a"
                          ],
                          [
                            0.8888888888888888,
                            "#fdca26"
                          ],
                          [
                            1,
                            "#f0f921"
                          ]
                        ],
                        "type": "histogram2dcontour"
                      }
                    ],
                    "mesh3d": [
                      {
                        "colorbar": {
                          "outlinewidth": 0,
                          "ticks": ""
                        },
                        "type": "mesh3d"
                      }
                    ],
                    "parcoords": [
                      {
                        "line": {
                          "colorbar": {
                            "outlinewidth": 0,
                            "ticks": ""
                          }
                        },
                        "type": "parcoords"
                      }
                    ],
                    "pie": [
                      {
                        "automargin": true,
                        "type": "pie"
                      }
                    ],
                    "scatter": [
                      {
                        "marker": {
                          "colorbar": {
                            "outlinewidth": 0,
                            "ticks": ""
                          }
                        },
                        "type": "scatter"
                      }
                    ],
                    "scatter3d": [
                      {
                        "line": {
                          "colorbar": {
                            "outlinewidth": 0,
                            "ticks": ""
                          }
                        },
                        "marker": {
                          "colorbar": {
                            "outlinewidth": 0,
                            "ticks": ""
                          }
                        },
                        "type": "scatter3d"
                      }
                    ],
                    "scattercarpet": [
                      {
                        "marker": {
                          "colorbar": {
                            "outlinewidth": 0,
                            "ticks": ""
                          }
                        },
                        "type": "scattercarpet"
                      }
                    ],
                    "scattergeo": [
                      {
                        "marker": {
                          "colorbar": {
                            "outlinewidth": 0,
                            "ticks": ""
                          }
                        },
                        "type": "scattergeo"
                      }
                    ],
                    "scattergl": [
                      {
                        "marker": {
                          "colorbar": {
                            "outlinewidth": 0,
                            "ticks": ""
                          }
                        },
                        "type": "scattergl"
                      }
                    ],
                    "scattermapbox": [
                      {
                        "marker": {
                          "colorbar": {
                            "outlinewidth": 0,
                            "ticks": ""
                          }
                        },
                        "type": "scattermapbox"
                      }
                    ],
                    "scatterpolar": [
                      {
                        "marker": {
                          "colorbar": {
                            "outlinewidth": 0,
                            "ticks": ""
                          }
                        },
                        "type": "scatterpolar"
                      }
                    ],
                    "scatterpolargl": [
                      {
                        "marker": {
                          "colorbar": {
                            "outlinewidth": 0,
                            "ticks": ""
                          }
                        },
                        "type": "scatterpolargl"
                      }
                    ],
                    "scatterternary": [
                      {
                        "marker": {
                          "colorbar": {
                            "outlinewidth": 0,
                            "ticks": ""
                          }
                        },
                        "type": "scatterternary"
                      }
                    ],
                    "surface": [
                      {
                        "colorbar": {
                          "outlinewidth": 0,
                          "ticks": ""
                        },
                        "colorscale": [
                          [
                            0,
                            "#0d0887"
                          ],
                          [
                            0.1111111111111111,
                            "#46039f"
                          ],
                          [
                            0.2222222222222222,
                            "#7201a8"
                          ],
                          [
                            0.3333333333333333,
                            "#9c179e"
                          ],
                          [
                            0.4444444444444444,
                            "#bd3786"
                          ],
                          [
                            0.5555555555555556,
                            "#d8576b"
                          ],
                          [
                            0.6666666666666666,
                            "#ed7953"
                          ],
                          [
                            0.7777777777777778,
                            "#fb9f3a"
                          ],
                          [
                            0.8888888888888888,
                            "#fdca26"
                          ],
                          [
                            1,
                            "#f0f921"
                          ]
                        ],
                        "type": "surface"
                      }
                    ],
                    "table": [
                      {
                        "cells": {
                          "fill": {
                            "color": "#EBF0F8"
                          },
                          "line": {
                            "color": "white"
                          }
                        },
                        "header": {
                          "fill": {
                            "color": "#C8D4E3"
                          },
                          "line": {
                            "color": "white"
                          }
                        },
                        "type": "table"
                      }
                    ]
                  },
                  "layout": {
                    "annotationdefaults": {
                      "arrowcolor": "#2a3f5f",
                      "arrowhead": 0,
                      "arrowwidth": 1
                    },
                    "autotypenumbers": "strict",
                    "coloraxis": {
                      "colorbar": {
                        "outlinewidth": 0,
                        "ticks": ""
                      }
                    },
                    "colorscale": {
                      "diverging": [
                        [
                          0,
                          "#8e0152"
                        ],
                        [
                          0.1,
                          "#c51b7d"
                        ],
                        [
                          0.2,
                          "#de77ae"
                        ],
                        [
                          0.3,
                          "#f1b6da"
                        ],
                        [
                          0.4,
                          "#fde0ef"
                        ],
                        [
                          0.5,
                          "#f7f7f7"
                        ],
                        [
                          0.6,
                          "#e6f5d0"
                        ],
                        [
                          0.7,
                          "#b8e186"
                        ],
                        [
                          0.8,
                          "#7fbc41"
                        ],
                        [
                          0.9,
                          "#4d9221"
                        ],
                        [
                          1,
                          "#276419"
                        ]
                      ],
                      "sequential": [
                        [
                          0,
                          "#0d0887"
                        ],
                        [
                          0.1111111111111111,
                          "#46039f"
                        ],
                        [
                          0.2222222222222222,
                          "#7201a8"
                        ],
                        [
                          0.3333333333333333,
                          "#9c179e"
                        ],
                        [
                          0.4444444444444444,
                          "#bd3786"
                        ],
                        [
                          0.5555555555555556,
                          "#d8576b"
                        ],
                        [
                          0.6666666666666666,
                          "#ed7953"
                        ],
                        [
                          0.7777777777777778,
                          "#fb9f3a"
                        ],
                        [
                          0.8888888888888888,
                          "#fdca26"
                        ],
                        [
                          1,
                          "#f0f921"
                        ]
                      ],
                      "sequentialminus": [
                        [
                          0,
                          "#0d0887"
                        ],
                        [
                          0.1111111111111111,
                          "#46039f"
                        ],
                        [
                          0.2222222222222222,
                          "#7201a8"
                        ],
                        [
                          0.3333333333333333,
                          "#9c179e"
                        ],
                        [
                          0.4444444444444444,
                          "#bd3786"
                        ],
                        [
                          0.5555555555555556,
                          "#d8576b"
                        ],
                        [
                          0.6666666666666666,
                          "#ed7953"
                        ],
                        [
                          0.7777777777777778,
                          "#fb9f3a"
                        ],
                        [
                          0.8888888888888888,
                          "#fdca26"
                        ],
                        [
                          1,
                          "#f0f921"
                        ]
                      ]
                    },
                    "colorway": [
                      "#636efa",
                      "#EF553B",
                      "#00cc96",
                      "#ab63fa",
                      "#FFA15A",
                      "#19d3f3",
                      "#FF6692",
                      "#B6E880",
                      "#FF97FF",
                      "#FECB52"
                    ],
                    "font": {
                      "color": "#2a3f5f"
                    },
                    "geo": {
                      "bgcolor": "white",
                      "lakecolor": "white",
                      "landcolor": "#E5ECF6",
                      "showlakes": true,
                      "showland": true,
                      "subunitcolor": "white"
                    },
                    "hoverlabel": {
                      "align": "left"
                    },
                    "hovermode": "closest",
                    "mapbox": {
                      "style": "light"
                    },
                    "paper_bgcolor": "white",
                    "plot_bgcolor": "#E5ECF6",
                    "polar": {
                      "angularaxis": {
                        "gridcolor": "white",
                        "linecolor": "white",
                        "ticks": ""
                      },
                      "bgcolor": "#E5ECF6",
                      "radialaxis": {
                        "gridcolor": "white",
                        "linecolor": "white",
                        "ticks": ""
                      }
                    },
                    "scene": {
                      "xaxis": {
                        "backgroundcolor": "#E5ECF6",
                        "gridcolor": "white",
                        "gridwidth": 2,
                        "linecolor": "white",
                        "showbackground": true,
                        "ticks": "",
                        "zerolinecolor": "white"
                      },
                      "yaxis": {
                        "backgroundcolor": "#E5ECF6",
                        "gridcolor": "white",
                        "gridwidth": 2,
                        "linecolor": "white",
                        "showbackground": true,
                        "ticks": "",
                        "zerolinecolor": "white"
                      },
                      "zaxis": {
                        "backgroundcolor": "#E5ECF6",
                        "gridcolor": "white",
                        "gridwidth": 2,
                        "linecolor": "white",
                        "showbackground": true,
                        "ticks": "",
                        "zerolinecolor": "white"
                      }
                    },
                    "shapedefaults": {
                      "line": {
                        "color": "#2a3f5f"
                      }
                    },
                    "ternary": {
                      "aaxis": {
                        "gridcolor": "white",
                        "linecolor": "white",
                        "ticks": ""
                      },
                      "baxis": {
                        "gridcolor": "white",
                        "linecolor": "white",
                        "ticks": ""
                      },
                      "bgcolor": "#E5ECF6",
                      "caxis": {
                        "gridcolor": "white",
                        "linecolor": "white",
                        "ticks": ""
                      }
                    },
                    "title": {
                      "x": 0.05
                    },
                    "xaxis": {
                      "automargin": true,
                      "gridcolor": "white",
                      "linecolor": "white",
                      "ticks": "",
                      "title": {
                        "standoff": 15
                      },
                      "zerolinecolor": "white",
                      "zerolinewidth": 2
                    },
                    "yaxis": {
                      "automargin": true,
                      "gridcolor": "white",
                      "linecolor": "white",
                      "ticks": "",
                      "title": {
                        "standoff": 15
                      },
                      "zerolinecolor": "white",
                      "zerolinewidth": 2
                    }
                  }
                },
                "title": {
                  "text": "Geographical distribution of wildlife trade ad listings"
                }
              }
            },
            "text/html": [
              "<div>                            <div id=\"95f3c996-cbdd-42b9-b9e5-6b67909a2229\" class=\"plotly-graph-div\" style=\"height:525px; width:100%;\"></div>            <script type=\"text/javascript\">                require([\"plotly\"], function(Plotly) {                    window.PLOTLYENV=window.PLOTLYENV || {};                                    if (document.getElementById(\"95f3c996-cbdd-42b9-b9e5-6b67909a2229\")) {                    Plotly.newPlot(                        \"95f3c996-cbdd-42b9-b9e5-6b67909a2229\",                        [{\"coloraxis\":\"coloraxis\",\"geo\":\"geo\",\"hovertemplate\":\"<b>%{hovertext}</b><br><br>country=%{location}<br>count=%{z}<extra></extra>\",\"hovertext\":[\"United States\",\"Canada\",\"United Kingdom\",\"Australia\",\"France\",\"Singapore\",\"Germany\",\"Ireland\",\"Italy\",\"New Zealand\",\"Malaysia\",\"China\",\"Spain\",\"Switzerland\",\"Netherlands\",\"Austria\",\"Hong Kong\",\"Vietnam\",\"Thailand\",\"Japan\",\"Indonesia\",\"Greece\",\"Sri Lanka\",\"India\",\"Belarus\",\"Ukraine\",\"Czech Republic\",\"Morocco\",\"Lithuania\",\"Cyprus\",\"Poland\",\"Belgium\",\"Portugal\",\"Egypt\",\"Kenya\",\"The Netherlands\",\"Romania\",\"Turkey\",\"Pakistan\",\"Moldavia\"],\"locationmode\":\"country names\",\"locations\":[\"United States\",\"Canada\",\"United Kingdom\",\"Australia\",\"France\",\"Singapore\",\"Germany\",\"Ireland\",\"Italy\",\"New Zealand\",\"Malaysia\",\"China\",\"Spain\",\"Switzerland\",\"Netherlands\",\"Austria\",\"Hong Kong\",\"Vietnam\",\"Thailand\",\"Japan\",\"Indonesia\",\"Greece\",\"Sri Lanka\",\"India\",\"Belarus\",\"Ukraine\",\"Czech Republic\",\"Morocco\",\"Lithuania\",\"Cyprus\",\"Poland\",\"Belgium\",\"Portugal\",\"Egypt\",\"Kenya\",\"The Netherlands\",\"Romania\",\"Turkey\",\"Pakistan\",\"Moldavia\"],\"name\":\"\",\"z\":[1361,632,584,495,217,157,146,116,108,85,75,71,63,62,60,59,55,16,8,7,5,4,4,3,3,3,3,2,2,2,1,1,1,1,1,1,1,1,1,1],\"type\":\"choropleth\"}],                        {\"template\":{\"data\":{\"bar\":[{\"error_x\":{\"color\":\"#2a3f5f\"},\"error_y\":{\"color\":\"#2a3f5f\"},\"marker\":{\"line\":{\"color\":\"#E5ECF6\",\"width\":0.5},\"pattern\":{\"fillmode\":\"overlay\",\"size\":10,\"solidity\":0.2}},\"type\":\"bar\"}],\"barpolar\":[{\"marker\":{\"line\":{\"color\":\"#E5ECF6\",\"width\":0.5},\"pattern\":{\"fillmode\":\"overlay\",\"size\":10,\"solidity\":0.2}},\"type\":\"barpolar\"}],\"carpet\":[{\"aaxis\":{\"endlinecolor\":\"#2a3f5f\",\"gridcolor\":\"white\",\"linecolor\":\"white\",\"minorgridcolor\":\"white\",\"startlinecolor\":\"#2a3f5f\"},\"baxis\":{\"endlinecolor\":\"#2a3f5f\",\"gridcolor\":\"white\",\"linecolor\":\"white\",\"minorgridcolor\":\"white\",\"startlinecolor\":\"#2a3f5f\"},\"type\":\"carpet\"}],\"choropleth\":[{\"colorbar\":{\"outlinewidth\":0,\"ticks\":\"\"},\"type\":\"choropleth\"}],\"contour\":[{\"colorbar\":{\"outlinewidth\":0,\"ticks\":\"\"},\"colorscale\":[[0.0,\"#0d0887\"],[0.1111111111111111,\"#46039f\"],[0.2222222222222222,\"#7201a8\"],[0.3333333333333333,\"#9c179e\"],[0.4444444444444444,\"#bd3786\"],[0.5555555555555556,\"#d8576b\"],[0.6666666666666666,\"#ed7953\"],[0.7777777777777778,\"#fb9f3a\"],[0.8888888888888888,\"#fdca26\"],[1.0,\"#f0f921\"]],\"type\":\"contour\"}],\"contourcarpet\":[{\"colorbar\":{\"outlinewidth\":0,\"ticks\":\"\"},\"type\":\"contourcarpet\"}],\"heatmap\":[{\"colorbar\":{\"outlinewidth\":0,\"ticks\":\"\"},\"colorscale\":[[0.0,\"#0d0887\"],[0.1111111111111111,\"#46039f\"],[0.2222222222222222,\"#7201a8\"],[0.3333333333333333,\"#9c179e\"],[0.4444444444444444,\"#bd3786\"],[0.5555555555555556,\"#d8576b\"],[0.6666666666666666,\"#ed7953\"],[0.7777777777777778,\"#fb9f3a\"],[0.8888888888888888,\"#fdca26\"],[1.0,\"#f0f921\"]],\"type\":\"heatmap\"}],\"heatmapgl\":[{\"colorbar\":{\"outlinewidth\":0,\"ticks\":\"\"},\"colorscale\":[[0.0,\"#0d0887\"],[0.1111111111111111,\"#46039f\"],[0.2222222222222222,\"#7201a8\"],[0.3333333333333333,\"#9c179e\"],[0.4444444444444444,\"#bd3786\"],[0.5555555555555556,\"#d8576b\"],[0.6666666666666666,\"#ed7953\"],[0.7777777777777778,\"#fb9f3a\"],[0.8888888888888888,\"#fdca26\"],[1.0,\"#f0f921\"]],\"type\":\"heatmapgl\"}],\"histogram\":[{\"marker\":{\"pattern\":{\"fillmode\":\"overlay\",\"size\":10,\"solidity\":0.2}},\"type\":\"histogram\"}],\"histogram2d\":[{\"colorbar\":{\"outlinewidth\":0,\"ticks\":\"\"},\"colorscale\":[[0.0,\"#0d0887\"],[0.1111111111111111,\"#46039f\"],[0.2222222222222222,\"#7201a8\"],[0.3333333333333333,\"#9c179e\"],[0.4444444444444444,\"#bd3786\"],[0.5555555555555556,\"#d8576b\"],[0.6666666666666666,\"#ed7953\"],[0.7777777777777778,\"#fb9f3a\"],[0.8888888888888888,\"#fdca26\"],[1.0,\"#f0f921\"]],\"type\":\"histogram2d\"}],\"histogram2dcontour\":[{\"colorbar\":{\"outlinewidth\":0,\"ticks\":\"\"},\"colorscale\":[[0.0,\"#0d0887\"],[0.1111111111111111,\"#46039f\"],[0.2222222222222222,\"#7201a8\"],[0.3333333333333333,\"#9c179e\"],[0.4444444444444444,\"#bd3786\"],[0.5555555555555556,\"#d8576b\"],[0.6666666666666666,\"#ed7953\"],[0.7777777777777778,\"#fb9f3a\"],[0.8888888888888888,\"#fdca26\"],[1.0,\"#f0f921\"]],\"type\":\"histogram2dcontour\"}],\"mesh3d\":[{\"colorbar\":{\"outlinewidth\":0,\"ticks\":\"\"},\"type\":\"mesh3d\"}],\"parcoords\":[{\"line\":{\"colorbar\":{\"outlinewidth\":0,\"ticks\":\"\"}},\"type\":\"parcoords\"}],\"pie\":[{\"automargin\":true,\"type\":\"pie\"}],\"scatter\":[{\"marker\":{\"colorbar\":{\"outlinewidth\":0,\"ticks\":\"\"}},\"type\":\"scatter\"}],\"scatter3d\":[{\"line\":{\"colorbar\":{\"outlinewidth\":0,\"ticks\":\"\"}},\"marker\":{\"colorbar\":{\"outlinewidth\":0,\"ticks\":\"\"}},\"type\":\"scatter3d\"}],\"scattercarpet\":[{\"marker\":{\"colorbar\":{\"outlinewidth\":0,\"ticks\":\"\"}},\"type\":\"scattercarpet\"}],\"scattergeo\":[{\"marker\":{\"colorbar\":{\"outlinewidth\":0,\"ticks\":\"\"}},\"type\":\"scattergeo\"}],\"scattergl\":[{\"marker\":{\"colorbar\":{\"outlinewidth\":0,\"ticks\":\"\"}},\"type\":\"scattergl\"}],\"scattermapbox\":[{\"marker\":{\"colorbar\":{\"outlinewidth\":0,\"ticks\":\"\"}},\"type\":\"scattermapbox\"}],\"scatterpolar\":[{\"marker\":{\"colorbar\":{\"outlinewidth\":0,\"ticks\":\"\"}},\"type\":\"scatterpolar\"}],\"scatterpolargl\":[{\"marker\":{\"colorbar\":{\"outlinewidth\":0,\"ticks\":\"\"}},\"type\":\"scatterpolargl\"}],\"scatterternary\":[{\"marker\":{\"colorbar\":{\"outlinewidth\":0,\"ticks\":\"\"}},\"type\":\"scatterternary\"}],\"surface\":[{\"colorbar\":{\"outlinewidth\":0,\"ticks\":\"\"},\"colorscale\":[[0.0,\"#0d0887\"],[0.1111111111111111,\"#46039f\"],[0.2222222222222222,\"#7201a8\"],[0.3333333333333333,\"#9c179e\"],[0.4444444444444444,\"#bd3786\"],[0.5555555555555556,\"#d8576b\"],[0.6666666666666666,\"#ed7953\"],[0.7777777777777778,\"#fb9f3a\"],[0.8888888888888888,\"#fdca26\"],[1.0,\"#f0f921\"]],\"type\":\"surface\"}],\"table\":[{\"cells\":{\"fill\":{\"color\":\"#EBF0F8\"},\"line\":{\"color\":\"white\"}},\"header\":{\"fill\":{\"color\":\"#C8D4E3\"},\"line\":{\"color\":\"white\"}},\"type\":\"table\"}]},\"layout\":{\"annotationdefaults\":{\"arrowcolor\":\"#2a3f5f\",\"arrowhead\":0,\"arrowwidth\":1},\"autotypenumbers\":\"strict\",\"coloraxis\":{\"colorbar\":{\"outlinewidth\":0,\"ticks\":\"\"}},\"colorscale\":{\"diverging\":[[0,\"#8e0152\"],[0.1,\"#c51b7d\"],[0.2,\"#de77ae\"],[0.3,\"#f1b6da\"],[0.4,\"#fde0ef\"],[0.5,\"#f7f7f7\"],[0.6,\"#e6f5d0\"],[0.7,\"#b8e186\"],[0.8,\"#7fbc41\"],[0.9,\"#4d9221\"],[1,\"#276419\"]],\"sequential\":[[0.0,\"#0d0887\"],[0.1111111111111111,\"#46039f\"],[0.2222222222222222,\"#7201a8\"],[0.3333333333333333,\"#9c179e\"],[0.4444444444444444,\"#bd3786\"],[0.5555555555555556,\"#d8576b\"],[0.6666666666666666,\"#ed7953\"],[0.7777777777777778,\"#fb9f3a\"],[0.8888888888888888,\"#fdca26\"],[1.0,\"#f0f921\"]],\"sequentialminus\":[[0.0,\"#0d0887\"],[0.1111111111111111,\"#46039f\"],[0.2222222222222222,\"#7201a8\"],[0.3333333333333333,\"#9c179e\"],[0.4444444444444444,\"#bd3786\"],[0.5555555555555556,\"#d8576b\"],[0.6666666666666666,\"#ed7953\"],[0.7777777777777778,\"#fb9f3a\"],[0.8888888888888888,\"#fdca26\"],[1.0,\"#f0f921\"]]},\"colorway\":[\"#636efa\",\"#EF553B\",\"#00cc96\",\"#ab63fa\",\"#FFA15A\",\"#19d3f3\",\"#FF6692\",\"#B6E880\",\"#FF97FF\",\"#FECB52\"],\"font\":{\"color\":\"#2a3f5f\"},\"geo\":{\"bgcolor\":\"white\",\"lakecolor\":\"white\",\"landcolor\":\"#E5ECF6\",\"showlakes\":true,\"showland\":true,\"subunitcolor\":\"white\"},\"hoverlabel\":{\"align\":\"left\"},\"hovermode\":\"closest\",\"mapbox\":{\"style\":\"light\"},\"paper_bgcolor\":\"white\",\"plot_bgcolor\":\"#E5ECF6\",\"polar\":{\"angularaxis\":{\"gridcolor\":\"white\",\"linecolor\":\"white\",\"ticks\":\"\"},\"bgcolor\":\"#E5ECF6\",\"radialaxis\":{\"gridcolor\":\"white\",\"linecolor\":\"white\",\"ticks\":\"\"}},\"scene\":{\"xaxis\":{\"backgroundcolor\":\"#E5ECF6\",\"gridcolor\":\"white\",\"gridwidth\":2,\"linecolor\":\"white\",\"showbackground\":true,\"ticks\":\"\",\"zerolinecolor\":\"white\"},\"yaxis\":{\"backgroundcolor\":\"#E5ECF6\",\"gridcolor\":\"white\",\"gridwidth\":2,\"linecolor\":\"white\",\"showbackground\":true,\"ticks\":\"\",\"zerolinecolor\":\"white\"},\"zaxis\":{\"backgroundcolor\":\"#E5ECF6\",\"gridcolor\":\"white\",\"gridwidth\":2,\"linecolor\":\"white\",\"showbackground\":true,\"ticks\":\"\",\"zerolinecolor\":\"white\"}},\"shapedefaults\":{\"line\":{\"color\":\"#2a3f5f\"}},\"ternary\":{\"aaxis\":{\"gridcolor\":\"white\",\"linecolor\":\"white\",\"ticks\":\"\"},\"baxis\":{\"gridcolor\":\"white\",\"linecolor\":\"white\",\"ticks\":\"\"},\"bgcolor\":\"#E5ECF6\",\"caxis\":{\"gridcolor\":\"white\",\"linecolor\":\"white\",\"ticks\":\"\"}},\"title\":{\"x\":0.05},\"xaxis\":{\"automargin\":true,\"gridcolor\":\"white\",\"linecolor\":\"white\",\"ticks\":\"\",\"title\":{\"standoff\":15},\"zerolinecolor\":\"white\",\"zerolinewidth\":2},\"yaxis\":{\"automargin\":true,\"gridcolor\":\"white\",\"linecolor\":\"white\",\"ticks\":\"\",\"title\":{\"standoff\":15},\"zerolinecolor\":\"white\",\"zerolinewidth\":2}}},\"geo\":{\"domain\":{\"x\":[0.0,1.0],\"y\":[0.0,1.0]},\"projection\":{\"type\":\"natural earth\"},\"center\":{}},\"coloraxis\":{\"colorbar\":{\"title\":{\"text\":\"count\"}},\"colorscale\":[[0.0,\"#0d0887\"],[0.1111111111111111,\"#46039f\"],[0.2222222222222222,\"#7201a8\"],[0.3333333333333333,\"#9c179e\"],[0.4444444444444444,\"#bd3786\"],[0.5555555555555556,\"#d8576b\"],[0.6666666666666666,\"#ed7953\"],[0.7777777777777778,\"#fb9f3a\"],[0.8888888888888888,\"#fdca26\"],[1.0,\"#f0f921\"]]},\"legend\":{\"tracegroupgap\":0},\"title\":{\"text\":\"Geographical distribution of wildlife trade ad listings\"}},                        {\"responsive\": true}                    ).then(function(){\n",
              "                            \n",
              "var gd = document.getElementById('95f3c996-cbdd-42b9-b9e5-6b67909a2229');\n",
              "var x = new MutationObserver(function (mutations, observer) {{\n",
              "        var display = window.getComputedStyle(gd).display;\n",
              "        if (!display || display === 'none') {{\n",
              "            console.log([gd, 'removed!']);\n",
              "            Plotly.purge(gd);\n",
              "            observer.disconnect();\n",
              "        }}\n",
              "}});\n",
              "\n",
              "// Listen for the removal of the full notebook cells\n",
              "var notebookContainer = gd.closest('#notebook-container');\n",
              "if (notebookContainer) {{\n",
              "    x.observe(notebookContainer, {childList: true});\n",
              "}}\n",
              "\n",
              "// Listen for the clearing of the current output cell\n",
              "var outputEl = gd.closest('.output');\n",
              "if (outputEl) {{\n",
              "    x.observe(outputEl, {childList: true});\n",
              "}}\n",
              "\n",
              "                        })                };                });            </script>        </div>"
            ]
          },
          "metadata": {},
          "output_type": "display_data"
        }
      ],
      "source": [
        "fig = px.choropleth(wildlife_trade_country_count, locations=\"country\", locationmode='country names',\n",
        "                    color=\"count\", hover_name=\"country\", projection='natural earth',\n",
        "                    title='Geographical distribution of wildlife trade ad listings')\n",
        "\n",
        "fig.show()"
      ]
    },
    {
      "cell_type": "markdown",
      "id": "1ac03307",
      "metadata": {
        "id": "1ac03307"
      },
      "source": [
        "# Price range of wildlife traded online"
      ]
    },
    {
      "cell_type": "code",
      "execution_count": null,
      "id": "fc199f48",
      "metadata": {
        "id": "fc199f48",
        "outputId": "ba89830f-f12f-410b-94ca-accbcb6c2b35"
      },
      "outputs": [
        {
          "data": {
            "image/png": "[encoded data removed]",
            "text/plain": [
              "<Figure size 720x432 with 1 Axes>"
            ]
          },
          "metadata": {
            "needs_background": "light"
          },
          "output_type": "display_data"
        }
      ],
      "source": [
        "bins = [0, 10, 20, 30, 40, 50, 60, 70, 80, 90, 100, 150, 200]\n",
        "labels = ['0-10', '10-20', '20-30', '30-40', '40-50', '50-60', '60-70', '70-80', '80-90', '90-100', '100-150', '150-200']\n",
        "df['price_range'] = pd.cut(df['normalized_price_usd'], bins=bins, labels=labels, right=False)\n",
        "\n",
        "price_range_counts = df['price_range'].value_counts().sort_index()\n",
        "\n",
        "plt.figure(figsize=(10, 6))\n",
        "bars = plt.bar(price_range_counts.index.astype(str), price_range_counts.values, color='blue')\n",
        "\n",
        "for bar in bars:\n",
        "    yval = bar.get_height()\n",
        "    plt.text(bar.get_x() + bar.get_width()/2, yval, int(yval), ha='center', va='bottom')\n",
        "\n",
        "plt.xlabel('Price Range (USD)')\n",
        "plt.ylabel('Count')\n",
        "plt.title('Price Range Distribution of Wildlife traded online')\n",
        "\n",
        "plt.ylim(0, price_range_counts.max() * 1.1)\n",
        "\n",
        "plt.show()"
      ]
    },
    {
      "cell_type": "markdown",
      "id": "c1891ffb",
      "metadata": {
        "id": "c1891ffb"
      },
      "source": [
        "# Finding animals that are illegal to trade and are in danger of extinction.\n",
        "The master data 'animals_paper_top10.txt' contains the list of top 10 animals that are illegal to trade and are in danger of extinction. We will find if our dataset contains any of the animals listed here."
      ]
    },
    {
      "cell_type": "markdown",
      "id": "b3e28ba2",
      "metadata": {
        "id": "b3e28ba2"
      },
      "source": [
        "### Master data with lists of animals that are illegal to trade and are in danger of extinction\n",
        "The data contains the common names and the scientific names of the animals."
      ]
    },
    {
      "cell_type": "code",
      "execution_count": null,
      "id": "f6619d0d",
      "metadata": {
        "id": "f6619d0d"
      },
      "outputs": [],
      "source": [
        "illegal_animal_list = open('/content/drive/MyDrive/BigData/TeamNotebook/data/animals_paper_top10.txt').read().lower().split('\\n')"
      ]
    },
    {
      "cell_type": "code",
      "execution_count": null,
      "id": "29bb235b",
      "metadata": {
        "id": "29bb235b",
        "outputId": "0fa46f3e-90cd-4fd7-a24c-f8d50c6a9105"
      },
      "outputs": [
        {
          "data": {
            "text/plain": [
              "['struthio camelus',\n",
              " 'ostrich',\n",
              " 'canis lupus',\n",
              " 'wolf',\n",
              " 'carcharhinus falciformis',\n",
              " 'silky shark',\n",
              " 'carcharhinus longimanus',\n",
              " 'great white shark',\n",
              " 'carcharias taurus',\n",
              " 'sand tiger shark',\n",
              " 'caiman latirostris',\n",
              " 'caiman latirostris',\n",
              " 'hippoglossus hippoglossus',\n",
              " 'halibut',\n",
              " 'calathus lundbladi',\n",
              " 'ground beetle',\n",
              " 'crocodylus niloticus',\n",
              " 'nile crocodile',\n",
              " 'sebastes fasciatus',\n",
              " 'redfish']"
            ]
          },
          "execution_count": 258,
          "metadata": {},
          "output_type": "execute_result"
        }
      ],
      "source": [
        "illegal_animal_list"
      ]
    },
    {
      "cell_type": "code",
      "execution_count": null,
      "id": "2016f30e",
      "metadata": {
        "id": "2016f30e"
      },
      "outputs": [],
      "source": [
        "# Apply the similarity search function to the 'product_cleaned' column\n",
        "df['endangered_species'] = df['product_cleaned'].apply(lambda x: find_best_match(x, illegal_animal_list))"
      ]
    },
    {
      "cell_type": "code",
      "execution_count": null,
      "id": "5267b33d",
      "metadata": {
        "id": "5267b33d",
        "outputId": "aa8061f7-698d-47e6-bfc2-679228652d71"
      },
      "outputs": [
        {
          "data": {
            "text/html": [
              "<div>\n",
              "<style scoped>\n",
              "    .dataframe tbody tr th:only-of-type {\n",
              "        vertical-align: middle;\n",
              "    }\n",
              "\n",
              "    .dataframe tbody tr th {\n",
              "        vertical-align: top;\n",
              "    }\n",
              "\n",
              "    .dataframe thead th {\n",
              "        text-align: right;\n",
              "    }\n",
              "</style>\n",
              "<table border=\"1\" class=\"dataframe\">\n",
              "  <thead>\n",
              "    <tr style=\"text-align: right;\">\n",
              "      <th></th>\n",
              "      <th>product_cleaned</th>\n",
              "      <th>endangered_species</th>\n",
              "    </tr>\n",
              "  </thead>\n",
              "  <tbody>\n",
              "    <tr>\n",
              "      <th>0</th>\n",
              "      <td>adventures bones color ebay hailstones mary on...</td>\n",
              "      <td>None</td>\n",
              "    </tr>\n",
              "    <tr>\n",
              "      <th>1</th>\n",
              "      <td>contortus ebay hill miocene physogaleus shark ...</td>\n",
              "      <td>None</td>\n",
              "    </tr>\n",
              "    <tr>\n",
              "      <th>2</th>\n",
              "      <td>azaz contortus ebay hill physogaleus sharktooth</td>\n",
              "      <td>None</td>\n",
              "    </tr>\n",
              "    <tr>\n",
              "      <th>5</th>\n",
              "      <td>almofada brinquedo ebay estereo gato peca pelu...</td>\n",
              "      <td>None</td>\n",
              "    </tr>\n",
              "    <tr>\n",
              "      <th>7</th>\n",
              "      <td>black crafts decorations ebay feathers federn ...</td>\n",
              "      <td>ostrich</td>\n",
              "    </tr>\n",
              "  </tbody>\n",
              "</table>\n",
              "</div>"
            ],
            "text/plain": [
              "                                     product_cleaned endangered_species\n",
              "0  adventures bones color ebay hailstones mary on...               None\n",
              "1  contortus ebay hill miocene physogaleus shark ...               None\n",
              "2    azaz contortus ebay hill physogaleus sharktooth               None\n",
              "5  almofada brinquedo ebay estereo gato peca pelu...               None\n",
              "7  black crafts decorations ebay feathers federn ...            ostrich"
            ]
          },
          "execution_count": 350,
          "metadata": {},
          "output_type": "execute_result"
        }
      ],
      "source": [
        "df[['product_cleaned','endangered_species']].head()"
      ]
    },
    {
      "cell_type": "code",
      "execution_count": null,
      "id": "e6750fc0",
      "metadata": {
        "id": "e6750fc0"
      },
      "outputs": [],
      "source": [
        "illegal_trade_df = df[df['endangered_species'].notna()]"
      ]
    },
    {
      "cell_type": "code",
      "execution_count": null,
      "id": "381c0f6c",
      "metadata": {
        "id": "381c0f6c",
        "outputId": "2e269cd1-25f8-468c-bb23-2bb02c22e218"
      },
      "outputs": [
        {
          "data": {
            "text/html": [
              "<div>\n",
              "<style scoped>\n",
              "    .dataframe tbody tr th:only-of-type {\n",
              "        vertical-align: middle;\n",
              "    }\n",
              "\n",
              "    .dataframe tbody tr th {\n",
              "        vertical-align: top;\n",
              "    }\n",
              "\n",
              "    .dataframe thead th {\n",
              "        text-align: right;\n",
              "    }\n",
              "</style>\n",
              "<table border=\"1\" class=\"dataframe\">\n",
              "  <thead>\n",
              "    <tr style=\"text-align: right;\">\n",
              "      <th></th>\n",
              "      <th>name</th>\n",
              "      <th>title</th>\n",
              "      <th>product</th>\n",
              "      <th>description</th>\n",
              "      <th>domain</th>\n",
              "      <th>country</th>\n",
              "      <th>label_product</th>\n",
              "      <th>price</th>\n",
              "      <th>currency</th>\n",
              "      <th>production_date</th>\n",
              "      <th>image</th>\n",
              "      <th>url</th>\n",
              "      <th>location</th>\n",
              "      <th>domain_country_code</th>\n",
              "      <th>domain_country</th>\n",
              "      <th>normalized_price_usd</th>\n",
              "      <th>product_cleaned</th>\n",
              "      <th>endangered_species</th>\n",
              "    </tr>\n",
              "  </thead>\n",
              "  <tbody>\n",
              "    <tr>\n",
              "      <th>7</th>\n",
              "      <td>black crafts decorations dining ebay feathers ...</td>\n",
              "      <td>black crafts decorations dining ebay feathers ...</td>\n",
              "      <td>black crafts decorations dining ebay feathers ...</td>\n",
              "      <td>and at best black crafts deals decorations del...</td>\n",
              "      <td>ebay.co.uk</td>\n",
              "      <td>United Kingdom</td>\n",
              "      <td>an animal body part</td>\n",
              "      <td>9.58</td>\n",
              "      <td>GBP</td>\n",
              "      <td>NaN</td>\n",
              "      <td>https://i.ebayimg.com/images/g/Q1IAAOSws29lGwl...</td>\n",
              "      <td>https://www.ebay.co.uk/itm/314864391496?amdata...</td>\n",
              "      <td>NaN</td>\n",
              "      <td>uk</td>\n",
              "      <td>United Kingdom</td>\n",
              "      <td>8</td>\n",
              "      <td>black crafts decorations ebay feathers federn ...</td>\n",
              "      <td>ostrich</td>\n",
              "    </tr>\n",
              "    <tr>\n",
              "      <th>8</th>\n",
              "      <td>black centerpiece ebay feathers large ostrich ...</td>\n",
              "      <td>black centerpiece ebay feathers large ostrich ...</td>\n",
              "      <td>black centerpiece ebay feathers large ostrich ...</td>\n",
              "      <td>and at best black centerpiece deals delivery e...</td>\n",
              "      <td>ebay.co.uk</td>\n",
              "      <td>United Kingdom</td>\n",
              "      <td>an animal body part</td>\n",
              "      <td>8.31</td>\n",
              "      <td>GBP</td>\n",
              "      <td>NaN</td>\n",
              "      <td>https://i.ebayimg.com/images/g/UukAAOSwlfJlGwl...</td>\n",
              "      <td>https://www.ebay.co.uk/itm/314864424353?amdata...</td>\n",
              "      <td>NaN</td>\n",
              "      <td>uk</td>\n",
              "      <td>United Kingdom</td>\n",
              "      <td>7</td>\n",
              "      <td>black centerpiece ebay feathers large ostrich ...</td>\n",
              "      <td>ostrich</td>\n",
              "    </tr>\n",
              "    <tr>\n",
              "      <th>9</th>\n",
              "      <td>assorted colors craft crown ebay feathers larg...</td>\n",
              "      <td>assorted colors craft crown ebay feathers larg...</td>\n",
              "      <td>assorted colors craft crown ebay feathers larg...</td>\n",
              "      <td>and assorted at best colors craft crown deals ...</td>\n",
              "      <td>ebay.ca</td>\n",
              "      <td>Canada</td>\n",
              "      <td>an animal body part</td>\n",
              "      <td>12.79</td>\n",
              "      <td>CAD</td>\n",
              "      <td>NaN</td>\n",
              "      <td>https://i.ebayimg.com/images/g/4IQAAOSwmHtlGwk...</td>\n",
              "      <td>https://www.ebay.ca/itm/314864388058</td>\n",
              "      <td>NaN</td>\n",
              "      <td>ca</td>\n",
              "      <td>Canada</td>\n",
              "      <td>17</td>\n",
              "      <td>colors craft crown ebay feathers large ostrich...</td>\n",
              "      <td>ostrich</td>\n",
              "    </tr>\n",
              "    <tr>\n",
              "      <th>12</th>\n",
              "      <td>black decoration decorations ebay feathers gol...</td>\n",
              "      <td>black decoration decorations ebay feathers gol...</td>\n",
              "      <td>black decoration decorations ebay feathers gol...</td>\n",
              "      <td>and at best black deals decoration decorations...</td>\n",
              "      <td>ebay.co.uk</td>\n",
              "      <td>United Kingdom</td>\n",
              "      <td>an animal body part</td>\n",
              "      <td>9.08</td>\n",
              "      <td>GBP</td>\n",
              "      <td>NaN</td>\n",
              "      <td>https://i.ebayimg.com/images/g/0IkAAOSwuz9lGwl...</td>\n",
              "      <td>https://www.ebay.co.uk/itm/314864390357?amdata...</td>\n",
              "      <td>NaN</td>\n",
              "      <td>uk</td>\n",
              "      <td>United Kingdom</td>\n",
              "      <td>7</td>\n",
              "      <td>black decoration decorations ebay feathers gol...</td>\n",
              "      <td>ostrich</td>\n",
              "    </tr>\n",
              "    <tr>\n",
              "      <th>14</th>\n",
              "      <td>accessories colored decor ebay feathers large ...</td>\n",
              "      <td>accessories colored decor ebay feathers large ...</td>\n",
              "      <td>accessories colored decor ebay feathers large ...</td>\n",
              "      <td>accessories colored crafts decor ebay embellis...</td>\n",
              "      <td>ebay.com.sg</td>\n",
              "      <td>Singapore</td>\n",
              "      <td>an animal body part</td>\n",
              "      <td>15.92</td>\n",
              "      <td>SGD</td>\n",
              "      <td>NaN</td>\n",
              "      <td>https://i.ebayimg.com/images/g/ygkAAOSwN~hlGh9...</td>\n",
              "      <td>https://www.ebay.com.sg/itm/386162806730?amdat...</td>\n",
              "      <td>NaN</td>\n",
              "      <td>sg</td>\n",
              "      <td>Singapore</td>\n",
              "      <td>21</td>\n",
              "      <td>accessories decor ebay feathers large ostrich ...</td>\n",
              "      <td>ostrich</td>\n",
              "    </tr>\n",
              "  </tbody>\n",
              "</table>\n",
              "</div>"
            ],
            "text/plain": [
              "                                                 name  \\\n",
              "7   black crafts decorations dining ebay feathers ...   \n",
              "8   black centerpiece ebay feathers large ostrich ...   \n",
              "9   assorted colors craft crown ebay feathers larg...   \n",
              "12  black decoration decorations ebay feathers gol...   \n",
              "14  accessories colored decor ebay feathers large ...   \n",
              "\n",
              "                                                title  \\\n",
              "7   black crafts decorations dining ebay feathers ...   \n",
              "8   black centerpiece ebay feathers large ostrich ...   \n",
              "9   assorted colors craft crown ebay feathers larg...   \n",
              "12  black decoration decorations ebay feathers gol...   \n",
              "14  accessories colored decor ebay feathers large ...   \n",
              "\n",
              "                                              product  \\\n",
              "7   black crafts decorations dining ebay feathers ...   \n",
              "8   black centerpiece ebay feathers large ostrich ...   \n",
              "9   assorted colors craft crown ebay feathers larg...   \n",
              "12  black decoration decorations ebay feathers gol...   \n",
              "14  accessories colored decor ebay feathers large ...   \n",
              "\n",
              "                                          description       domain  \\\n",
              "7   and at best black crafts deals decorations del...   ebay.co.uk   \n",
              "8   and at best black centerpiece deals delivery e...   ebay.co.uk   \n",
              "9   and assorted at best colors craft crown deals ...      ebay.ca   \n",
              "12  and at best black deals decoration decorations...   ebay.co.uk   \n",
              "14  accessories colored crafts decor ebay embellis...  ebay.com.sg   \n",
              "\n",
              "           country        label_product  price currency production_date  \\\n",
              "7   United Kingdom  an animal body part   9.58      GBP             NaN   \n",
              "8   United Kingdom  an animal body part   8.31      GBP             NaN   \n",
              "9           Canada  an animal body part  12.79      CAD             NaN   \n",
              "12  United Kingdom  an animal body part   9.08      GBP             NaN   \n",
              "14       Singapore  an animal body part  15.92      SGD             NaN   \n",
              "\n",
              "                                                image  \\\n",
              "7   https://i.ebayimg.com/images/g/Q1IAAOSws29lGwl...   \n",
              "8   https://i.ebayimg.com/images/g/UukAAOSwlfJlGwl...   \n",
              "9   https://i.ebayimg.com/images/g/4IQAAOSwmHtlGwk...   \n",
              "12  https://i.ebayimg.com/images/g/0IkAAOSwuz9lGwl...   \n",
              "14  https://i.ebayimg.com/images/g/ygkAAOSwN~hlGh9...   \n",
              "\n",
              "                                                  url location  \\\n",
              "7   https://www.ebay.co.uk/itm/314864391496?amdata...      NaN   \n",
              "8   https://www.ebay.co.uk/itm/314864424353?amdata...      NaN   \n",
              "9                https://www.ebay.ca/itm/314864388058      NaN   \n",
              "12  https://www.ebay.co.uk/itm/314864390357?amdata...      NaN   \n",
              "14  https://www.ebay.com.sg/itm/386162806730?amdat...      NaN   \n",
              "\n",
              "   domain_country_code  domain_country  normalized_price_usd  \\\n",
              "7                   uk  United Kingdom                     8   \n",
              "8                   uk  United Kingdom                     7   \n",
              "9                   ca          Canada                    17   \n",
              "12                  uk  United Kingdom                     7   \n",
              "14                  sg       Singapore                    21   \n",
              "\n",
              "                                      product_cleaned endangered_species  \n",
              "7   black crafts decorations ebay feathers federn ...            ostrich  \n",
              "8   black centerpiece ebay feathers large ostrich ...            ostrich  \n",
              "9   colors craft crown ebay feathers large ostrich...            ostrich  \n",
              "12  black decoration decorations ebay feathers gol...            ostrich  \n",
              "14  accessories decor ebay feathers large ostrich ...            ostrich  "
            ]
          },
          "execution_count": 273,
          "metadata": {},
          "output_type": "execute_result"
        }
      ],
      "source": [
        "illegal_trade_df.head()"
      ]
    },
    {
      "cell_type": "code",
      "execution_count": null,
      "id": "3d541058",
      "metadata": {
        "id": "3d541058",
        "outputId": "b4925c8b-17d7-4c00-8206-68a3f19cf376"
      },
      "outputs": [
        {
          "data": {
            "text/plain": [
              "4592"
            ]
          },
          "execution_count": 274,
          "metadata": {},
          "output_type": "execute_result"
        }
      ],
      "source": [
        "illegal_trade_df.shape[0]"
      ]
    },
    {
      "cell_type": "markdown",
      "id": "d185e799",
      "metadata": {
        "id": "d185e799"
      },
      "source": [
        "# Visulization of potentially illegal wildlife trade"
      ]
    },
    {
      "cell_type": "code",
      "execution_count": null,
      "id": "03c24aba",
      "metadata": {
        "id": "03c24aba"
      },
      "outputs": [],
      "source": [
        "illegal_trade_count = illegal_trade_df['endangered_species'].value_counts().reset_index()\n",
        "illegal_trade_count.columns = ['endangered_species', 'count']"
      ]
    },
    {
      "cell_type": "code",
      "execution_count": null,
      "id": "50fddec8",
      "metadata": {
        "id": "50fddec8",
        "outputId": "45dd2a56-aa0c-4643-eaa7-d3f14506d6b4"
      },
      "outputs": [
        {
          "data": {
            "text/html": [
              "<div>\n",
              "<style scoped>\n",
              "    .dataframe tbody tr th:only-of-type {\n",
              "        vertical-align: middle;\n",
              "    }\n",
              "\n",
              "    .dataframe tbody tr th {\n",
              "        vertical-align: top;\n",
              "    }\n",
              "\n",
              "    .dataframe thead th {\n",
              "        text-align: right;\n",
              "    }\n",
              "</style>\n",
              "<table border=\"1\" class=\"dataframe\">\n",
              "  <thead>\n",
              "    <tr style=\"text-align: right;\">\n",
              "      <th></th>\n",
              "      <th>endangered_species</th>\n",
              "      <th>count</th>\n",
              "    </tr>\n",
              "  </thead>\n",
              "  <tbody>\n",
              "    <tr>\n",
              "      <th>0</th>\n",
              "      <td>great white shark</td>\n",
              "      <td>1343</td>\n",
              "    </tr>\n",
              "    <tr>\n",
              "      <th>1</th>\n",
              "      <td>ostrich</td>\n",
              "      <td>1320</td>\n",
              "    </tr>\n",
              "    <tr>\n",
              "      <th>2</th>\n",
              "      <td>wolf</td>\n",
              "      <td>821</td>\n",
              "    </tr>\n",
              "    <tr>\n",
              "      <th>3</th>\n",
              "      <td>nile crocodile</td>\n",
              "      <td>479</td>\n",
              "    </tr>\n",
              "    <tr>\n",
              "      <th>4</th>\n",
              "      <td>sand tiger shark</td>\n",
              "      <td>161</td>\n",
              "    </tr>\n",
              "    <tr>\n",
              "      <th>5</th>\n",
              "      <td>halibut</td>\n",
              "      <td>109</td>\n",
              "    </tr>\n",
              "    <tr>\n",
              "      <th>6</th>\n",
              "      <td>struthio camelus</td>\n",
              "      <td>73</td>\n",
              "    </tr>\n",
              "    <tr>\n",
              "      <th>7</th>\n",
              "      <td>silky shark</td>\n",
              "      <td>67</td>\n",
              "    </tr>\n",
              "    <tr>\n",
              "      <th>8</th>\n",
              "      <td>crocodylus niloticus</td>\n",
              "      <td>59</td>\n",
              "    </tr>\n",
              "    <tr>\n",
              "      <th>9</th>\n",
              "      <td>redfish</td>\n",
              "      <td>46</td>\n",
              "    </tr>\n",
              "    <tr>\n",
              "      <th>10</th>\n",
              "      <td>canis lupus</td>\n",
              "      <td>39</td>\n",
              "    </tr>\n",
              "    <tr>\n",
              "      <th>11</th>\n",
              "      <td>caiman latirostris</td>\n",
              "      <td>32</td>\n",
              "    </tr>\n",
              "    <tr>\n",
              "      <th>12</th>\n",
              "      <td>ground beetle</td>\n",
              "      <td>27</td>\n",
              "    </tr>\n",
              "    <tr>\n",
              "      <th>13</th>\n",
              "      <td>carcharias taurus</td>\n",
              "      <td>7</td>\n",
              "    </tr>\n",
              "    <tr>\n",
              "      <th>14</th>\n",
              "      <td>hippoglossus hippoglossus</td>\n",
              "      <td>4</td>\n",
              "    </tr>\n",
              "    <tr>\n",
              "      <th>15</th>\n",
              "      <td>carcharhinus longimanus</td>\n",
              "      <td>3</td>\n",
              "    </tr>\n",
              "    <tr>\n",
              "      <th>16</th>\n",
              "      <td>carcharhinus falciformis</td>\n",
              "      <td>1</td>\n",
              "    </tr>\n",
              "    <tr>\n",
              "      <th>17</th>\n",
              "      <td>sebastes fasciatus</td>\n",
              "      <td>1</td>\n",
              "    </tr>\n",
              "  </tbody>\n",
              "</table>\n",
              "</div>"
            ],
            "text/plain": [
              "           endangered_species  count\n",
              "0           great white shark   1343\n",
              "1                     ostrich   1320\n",
              "2                        wolf    821\n",
              "3              nile crocodile    479\n",
              "4            sand tiger shark    161\n",
              "5                     halibut    109\n",
              "6            struthio camelus     73\n",
              "7                 silky shark     67\n",
              "8        crocodylus niloticus     59\n",
              "9                     redfish     46\n",
              "10                canis lupus     39\n",
              "11         caiman latirostris     32\n",
              "12              ground beetle     27\n",
              "13          carcharias taurus      7\n",
              "14  hippoglossus hippoglossus      4\n",
              "15    carcharhinus longimanus      3\n",
              "16   carcharhinus falciformis      1\n",
              "17         sebastes fasciatus      1"
            ]
          },
          "execution_count": 276,
          "metadata": {},
          "output_type": "execute_result"
        }
      ],
      "source": [
        "illegal_trade_count"
      ]
    },
    {
      "cell_type": "markdown",
      "id": "7cd838c5",
      "metadata": {
        "id": "7cd838c5"
      },
      "source": [
        "The illegal_animal_list have both the common names and scientific names of the top 10 illegally traded animals. We will now combine the rows with the same species name to get a total count."
      ]
    },
    {
      "cell_type": "code",
      "execution_count": null,
      "id": "5f2567b4",
      "metadata": {
        "id": "5f2567b4"
      },
      "outputs": [],
      "source": [
        "species_names_mapping = {\n",
        "    'struthio camelus': 'ostrich',\n",
        "    'canis lupus': 'wolf',\n",
        "    'carcharhinus falciformis': 'silky shark',\n",
        "    'carcharhinus longimanus': 'great white shark',\n",
        "    'carcharias taurus': 'sand tiger shark',\n",
        "    'hippoglossus hippoglossus': 'halibut',\n",
        "    'calathus lundbladi': 'ground beetle',\n",
        "    'struthio camelus': 'ostrich',\n",
        "    'crocodylus niloticus': 'nile crocodile',\n",
        "    'sebastes fasciatus': 'redfish'\n",
        "}"
      ]
    },
    {
      "cell_type": "code",
      "execution_count": null,
      "id": "e02615d1",
      "metadata": {
        "id": "e02615d1"
      },
      "outputs": [],
      "source": [
        "for index, row in illegal_trade_count.iterrows():\n",
        "    if row['endangered_species'] in species_names_mapping:\n",
        "        illegal_trade_count.at[index, 'endangered_species'] = species_names_mapping[row['endangered_species']]"
      ]
    },
    {
      "cell_type": "code",
      "execution_count": null,
      "id": "141def65",
      "metadata": {
        "id": "141def65",
        "outputId": "2891fd91-f2c0-46db-8ede-722808864414"
      },
      "outputs": [
        {
          "data": {
            "text/html": [
              "<div>\n",
              "<style scoped>\n",
              "    .dataframe tbody tr th:only-of-type {\n",
              "        vertical-align: middle;\n",
              "    }\n",
              "\n",
              "    .dataframe tbody tr th {\n",
              "        vertical-align: top;\n",
              "    }\n",
              "\n",
              "    .dataframe thead th {\n",
              "        text-align: right;\n",
              "    }\n",
              "</style>\n",
              "<table border=\"1\" class=\"dataframe\">\n",
              "  <thead>\n",
              "    <tr style=\"text-align: right;\">\n",
              "      <th></th>\n",
              "      <th>endangered_species</th>\n",
              "      <th>count</th>\n",
              "    </tr>\n",
              "  </thead>\n",
              "  <tbody>\n",
              "    <tr>\n",
              "      <th>0</th>\n",
              "      <td>great white shark</td>\n",
              "      <td>1343</td>\n",
              "    </tr>\n",
              "    <tr>\n",
              "      <th>1</th>\n",
              "      <td>ostrich</td>\n",
              "      <td>1320</td>\n",
              "    </tr>\n",
              "    <tr>\n",
              "      <th>2</th>\n",
              "      <td>wolf</td>\n",
              "      <td>821</td>\n",
              "    </tr>\n",
              "    <tr>\n",
              "      <th>3</th>\n",
              "      <td>nile crocodile</td>\n",
              "      <td>479</td>\n",
              "    </tr>\n",
              "    <tr>\n",
              "      <th>4</th>\n",
              "      <td>sand tiger shark</td>\n",
              "      <td>161</td>\n",
              "    </tr>\n",
              "    <tr>\n",
              "      <th>5</th>\n",
              "      <td>halibut</td>\n",
              "      <td>109</td>\n",
              "    </tr>\n",
              "    <tr>\n",
              "      <th>6</th>\n",
              "      <td>ostrich</td>\n",
              "      <td>73</td>\n",
              "    </tr>\n",
              "    <tr>\n",
              "      <th>7</th>\n",
              "      <td>silky shark</td>\n",
              "      <td>67</td>\n",
              "    </tr>\n",
              "    <tr>\n",
              "      <th>8</th>\n",
              "      <td>nile crocodile</td>\n",
              "      <td>59</td>\n",
              "    </tr>\n",
              "    <tr>\n",
              "      <th>9</th>\n",
              "      <td>redfish</td>\n",
              "      <td>46</td>\n",
              "    </tr>\n",
              "    <tr>\n",
              "      <th>10</th>\n",
              "      <td>wolf</td>\n",
              "      <td>39</td>\n",
              "    </tr>\n",
              "    <tr>\n",
              "      <th>11</th>\n",
              "      <td>caiman latirostris</td>\n",
              "      <td>32</td>\n",
              "    </tr>\n",
              "    <tr>\n",
              "      <th>12</th>\n",
              "      <td>ground beetle</td>\n",
              "      <td>27</td>\n",
              "    </tr>\n",
              "    <tr>\n",
              "      <th>13</th>\n",
              "      <td>sand tiger shark</td>\n",
              "      <td>7</td>\n",
              "    </tr>\n",
              "    <tr>\n",
              "      <th>14</th>\n",
              "      <td>halibut</td>\n",
              "      <td>4</td>\n",
              "    </tr>\n",
              "    <tr>\n",
              "      <th>15</th>\n",
              "      <td>great white shark</td>\n",
              "      <td>3</td>\n",
              "    </tr>\n",
              "    <tr>\n",
              "      <th>16</th>\n",
              "      <td>silky shark</td>\n",
              "      <td>1</td>\n",
              "    </tr>\n",
              "    <tr>\n",
              "      <th>17</th>\n",
              "      <td>redfish</td>\n",
              "      <td>1</td>\n",
              "    </tr>\n",
              "  </tbody>\n",
              "</table>\n",
              "</div>"
            ],
            "text/plain": [
              "    endangered_species  count\n",
              "0    great white shark   1343\n",
              "1              ostrich   1320\n",
              "2                 wolf    821\n",
              "3       nile crocodile    479\n",
              "4     sand tiger shark    161\n",
              "5              halibut    109\n",
              "6              ostrich     73\n",
              "7          silky shark     67\n",
              "8       nile crocodile     59\n",
              "9              redfish     46\n",
              "10                wolf     39\n",
              "11  caiman latirostris     32\n",
              "12       ground beetle     27\n",
              "13    sand tiger shark      7\n",
              "14             halibut      4\n",
              "15   great white shark      3\n",
              "16         silky shark      1\n",
              "17             redfish      1"
            ]
          },
          "execution_count": 298,
          "metadata": {},
          "output_type": "execute_result"
        }
      ],
      "source": [
        "illegal_trade_count"
      ]
    },
    {
      "cell_type": "code",
      "execution_count": null,
      "id": "fd38e2ad",
      "metadata": {
        "id": "fd38e2ad"
      },
      "outputs": [],
      "source": [
        "top_10_illegally_traded_wildlife = illegal_trade_count.groupby('endangered_species')['count'].sum().reset_index()"
      ]
    },
    {
      "cell_type": "code",
      "execution_count": null,
      "id": "7b60fa93",
      "metadata": {
        "id": "7b60fa93",
        "outputId": "b818880b-d980-4620-c335-0a9b28220e76"
      },
      "outputs": [
        {
          "data": {
            "text/html": [
              "<div>\n",
              "<style scoped>\n",
              "    .dataframe tbody tr th:only-of-type {\n",
              "        vertical-align: middle;\n",
              "    }\n",
              "\n",
              "    .dataframe tbody tr th {\n",
              "        vertical-align: top;\n",
              "    }\n",
              "\n",
              "    .dataframe thead th {\n",
              "        text-align: right;\n",
              "    }\n",
              "</style>\n",
              "<table border=\"1\" class=\"dataframe\">\n",
              "  <thead>\n",
              "    <tr style=\"text-align: right;\">\n",
              "      <th></th>\n",
              "      <th>endangered_species</th>\n",
              "      <th>count</th>\n",
              "    </tr>\n",
              "  </thead>\n",
              "  <tbody>\n",
              "    <tr>\n",
              "      <th>0</th>\n",
              "      <td>caiman latirostris</td>\n",
              "      <td>32</td>\n",
              "    </tr>\n",
              "    <tr>\n",
              "      <th>1</th>\n",
              "      <td>great white shark</td>\n",
              "      <td>1346</td>\n",
              "    </tr>\n",
              "    <tr>\n",
              "      <th>2</th>\n",
              "      <td>ground beetle</td>\n",
              "      <td>27</td>\n",
              "    </tr>\n",
              "    <tr>\n",
              "      <th>3</th>\n",
              "      <td>halibut</td>\n",
              "      <td>113</td>\n",
              "    </tr>\n",
              "    <tr>\n",
              "      <th>4</th>\n",
              "      <td>nile crocodile</td>\n",
              "      <td>538</td>\n",
              "    </tr>\n",
              "    <tr>\n",
              "      <th>5</th>\n",
              "      <td>ostrich</td>\n",
              "      <td>1393</td>\n",
              "    </tr>\n",
              "    <tr>\n",
              "      <th>6</th>\n",
              "      <td>redfish</td>\n",
              "      <td>47</td>\n",
              "    </tr>\n",
              "    <tr>\n",
              "      <th>7</th>\n",
              "      <td>sand tiger shark</td>\n",
              "      <td>168</td>\n",
              "    </tr>\n",
              "    <tr>\n",
              "      <th>8</th>\n",
              "      <td>silky shark</td>\n",
              "      <td>68</td>\n",
              "    </tr>\n",
              "    <tr>\n",
              "      <th>9</th>\n",
              "      <td>wolf</td>\n",
              "      <td>860</td>\n",
              "    </tr>\n",
              "  </tbody>\n",
              "</table>\n",
              "</div>"
            ],
            "text/plain": [
              "   endangered_species  count\n",
              "0  caiman latirostris     32\n",
              "1   great white shark   1346\n",
              "2       ground beetle     27\n",
              "3             halibut    113\n",
              "4      nile crocodile    538\n",
              "5             ostrich   1393\n",
              "6             redfish     47\n",
              "7    sand tiger shark    168\n",
              "8         silky shark     68\n",
              "9                wolf    860"
            ]
          },
          "execution_count": 301,
          "metadata": {},
          "output_type": "execute_result"
        }
      ],
      "source": [
        "top_10_illegally_traded_wildlife"
      ]
    },
    {
      "cell_type": "code",
      "execution_count": null,
      "id": "de49c343",
      "metadata": {
        "id": "de49c343"
      },
      "outputs": [],
      "source": [
        "import plotly.express as px"
      ]
    },
    {
      "cell_type": "code",
      "execution_count": null,
      "id": "3e494daf",
      "metadata": {
        "id": "3e494daf",
        "outputId": "e77eb64d-d026-454e-c785-37566f14c85f"
      },
      "outputs": [
        {
          "data": {
            "application/vnd.plotly.v1+json": {
              "config": {
                "plotlyServerURL": "https://plot.ly"
              },
              "data": [
                {
                  "domain": {
                    "x": [
                      0,
                      1
                    ],
                    "y": [
                      0,
                      1
                    ]
                  },
                  "hovertemplate": "endangered_species=%{label}<br>count=%{value}<extra></extra>",
                  "labels": [
                    "great white shark",
                    "ostrich",
                    "wolf",
                    "nile crocodile",
                    "sand tiger shark",
                    "halibut",
                    "struthio camelus",
                    "silky shark",
                    "crocodylus niloticus",
                    "redfish"
                  ],
                  "legendgroup": "",
                  "name": "",
                  "showlegend": true,
                  "type": "pie",
                  "values": [
                    1343,
                    1320,
                    821,
                    479,
                    161,
                    109,
                    73,
                    67,
                    59,
                    46
                  ]
                }
              ],
              "layout": {
                "legend": {
                  "tracegroupgap": 0
                },
                "template": {
                  "data": {
                    "bar": [
                      {
                        "error_x": {
                          "color": "#2a3f5f"
                        },
                        "error_y": {
                          "color": "#2a3f5f"
                        },
                        "marker": {
                          "line": {
                            "color": "#E5ECF6",
                            "width": 0.5
                          },
                          "pattern": {
                            "fillmode": "overlay",
                            "size": 10,
                            "solidity": 0.2
                          }
                        },
                        "type": "bar"
                      }
                    ],
                    "barpolar": [
                      {
                        "marker": {
                          "line": {
                            "color": "#E5ECF6",
                            "width": 0.5
                          },
                          "pattern": {
                            "fillmode": "overlay",
                            "size": 10,
                            "solidity": 0.2
                          }
                        },
                        "type": "barpolar"
                      }
                    ],
                    "carpet": [
                      {
                        "aaxis": {
                          "endlinecolor": "#2a3f5f",
                          "gridcolor": "white",
                          "linecolor": "white",
                          "minorgridcolor": "white",
                          "startlinecolor": "#2a3f5f"
                        },
                        "baxis": {
                          "endlinecolor": "#2a3f5f",
                          "gridcolor": "white",
                          "linecolor": "white",
                          "minorgridcolor": "white",
                          "startlinecolor": "#2a3f5f"
                        },
                        "type": "carpet"
                      }
                    ],
                    "choropleth": [
                      {
                        "colorbar": {
                          "outlinewidth": 0,
                          "ticks": ""
                        },
                        "type": "choropleth"
                      }
                    ],
                    "contour": [
                      {
                        "colorbar": {
                          "outlinewidth": 0,
                          "ticks": ""
                        },
                        "colorscale": [
                          [
                            0,
                            "#0d0887"
                          ],
                          [
                            0.1111111111111111,
                            "#46039f"
                          ],
                          [
                            0.2222222222222222,
                            "#7201a8"
                          ],
                          [
                            0.3333333333333333,
                            "#9c179e"
                          ],
                          [
                            0.4444444444444444,
                            "#bd3786"
                          ],
                          [
                            0.5555555555555556,
                            "#d8576b"
                          ],
                          [
                            0.6666666666666666,
                            "#ed7953"
                          ],
                          [
                            0.7777777777777778,
                            "#fb9f3a"
                          ],
                          [
                            0.8888888888888888,
                            "#fdca26"
                          ],
                          [
                            1,
                            "#f0f921"
                          ]
                        ],
                        "type": "contour"
                      }
                    ],
                    "contourcarpet": [
                      {
                        "colorbar": {
                          "outlinewidth": 0,
                          "ticks": ""
                        },
                        "type": "contourcarpet"
                      }
                    ],
                    "heatmap": [
                      {
                        "colorbar": {
                          "outlinewidth": 0,
                          "ticks": ""
                        },
                        "colorscale": [
                          [
                            0,
                            "#0d0887"
                          ],
                          [
                            0.1111111111111111,
                            "#46039f"
                          ],
                          [
                            0.2222222222222222,
                            "#7201a8"
                          ],
                          [
                            0.3333333333333333,
                            "#9c179e"
                          ],
                          [
                            0.4444444444444444,
                            "#bd3786"
                          ],
                          [
                            0.5555555555555556,
                            "#d8576b"
                          ],
                          [
                            0.6666666666666666,
                            "#ed7953"
                          ],
                          [
                            0.7777777777777778,
                            "#fb9f3a"
                          ],
                          [
                            0.8888888888888888,
                            "#fdca26"
                          ],
                          [
                            1,
                            "#f0f921"
                          ]
                        ],
                        "type": "heatmap"
                      }
                    ],
                    "heatmapgl": [
                      {
                        "colorbar": {
                          "outlinewidth": 0,
                          "ticks": ""
                        },
                        "colorscale": [
                          [
                            0,
                            "#0d0887"
                          ],
                          [
                            0.1111111111111111,
                            "#46039f"
                          ],
                          [
                            0.2222222222222222,
                            "#7201a8"
                          ],
                          [
                            0.3333333333333333,
                            "#9c179e"
                          ],
                          [
                            0.4444444444444444,
                            "#bd3786"
                          ],
                          [
                            0.5555555555555556,
                            "#d8576b"
                          ],
                          [
                            0.6666666666666666,
                            "#ed7953"
                          ],
                          [
                            0.7777777777777778,
                            "#fb9f3a"
                          ],
                          [
                            0.8888888888888888,
                            "#fdca26"
                          ],
                          [
                            1,
                            "#f0f921"
                          ]
                        ],
                        "type": "heatmapgl"
                      }
                    ],
                    "histogram": [
                      {
                        "marker": {
                          "pattern": {
                            "fillmode": "overlay",
                            "size": 10,
                            "solidity": 0.2
                          }
                        },
                        "type": "histogram"
                      }
                    ],
                    "histogram2d": [
                      {
                        "colorbar": {
                          "outlinewidth": 0,
                          "ticks": ""
                        },
                        "colorscale": [
                          [
                            0,
                            "#0d0887"
                          ],
                          [
                            0.1111111111111111,
                            "#46039f"
                          ],
                          [
                            0.2222222222222222,
                            "#7201a8"
                          ],
                          [
                            0.3333333333333333,
                            "#9c179e"
                          ],
                          [
                            0.4444444444444444,
                            "#bd3786"
                          ],
                          [
                            0.5555555555555556,
                            "#d8576b"
                          ],
                          [
                            0.6666666666666666,
                            "#ed7953"
                          ],
                          [
                            0.7777777777777778,
                            "#fb9f3a"
                          ],
                          [
                            0.8888888888888888,
                            "#fdca26"
                          ],
                          [
                            1,
                            "#f0f921"
                          ]
                        ],
                        "type": "histogram2d"
                      }
                    ],
                    "histogram2dcontour": [
                      {
                        "colorbar": {
                          "outlinewidth": 0,
                          "ticks": ""
                        },
                        "colorscale": [
                          [
                            0,
                            "#0d0887"
                          ],
                          [
                            0.1111111111111111,
                            "#46039f"
                          ],
                          [
                            0.2222222222222222,
                            "#7201a8"
                          ],
                          [
                            0.3333333333333333,
                            "#9c179e"
                          ],
                          [
                            0.4444444444444444,
                            "#bd3786"
                          ],
                          [
                            0.5555555555555556,
                            "#d8576b"
                          ],
                          [
                            0.6666666666666666,
                            "#ed7953"
                          ],
                          [
                            0.7777777777777778,
                            "#fb9f3a"
                          ],
                          [
                            0.8888888888888888,
                            "#fdca26"
                          ],
                          [
                            1,
                            "#f0f921"
                          ]
                        ],
                        "type": "histogram2dcontour"
                      }
                    ],
                    "mesh3d": [
                      {
                        "colorbar": {
                          "outlinewidth": 0,
                          "ticks": ""
                        },
                        "type": "mesh3d"
                      }
                    ],
                    "parcoords": [
                      {
                        "line": {
                          "colorbar": {
                            "outlinewidth": 0,
                            "ticks": ""
                          }
                        },
                        "type": "parcoords"
                      }
                    ],
                    "pie": [
                      {
                        "automargin": true,
                        "type": "pie"
                      }
                    ],
                    "scatter": [
                      {
                        "marker": {
                          "colorbar": {
                            "outlinewidth": 0,
                            "ticks": ""
                          }
                        },
                        "type": "scatter"
                      }
                    ],
                    "scatter3d": [
                      {
                        "line": {
                          "colorbar": {
                            "outlinewidth": 0,
                            "ticks": ""
                          }
                        },
                        "marker": {
                          "colorbar": {
                            "outlinewidth": 0,
                            "ticks": ""
                          }
                        },
                        "type": "scatter3d"
                      }
                    ],
                    "scattercarpet": [
                      {
                        "marker": {
                          "colorbar": {
                            "outlinewidth": 0,
                            "ticks": ""
                          }
                        },
                        "type": "scattercarpet"
                      }
                    ],
                    "scattergeo": [
                      {
                        "marker": {
                          "colorbar": {
                            "outlinewidth": 0,
                            "ticks": ""
                          }
                        },
                        "type": "scattergeo"
                      }
                    ],
                    "scattergl": [
                      {
                        "marker": {
                          "colorbar": {
                            "outlinewidth": 0,
                            "ticks": ""
                          }
                        },
                        "type": "scattergl"
                      }
                    ],
                    "scattermapbox": [
                      {
                        "marker": {
                          "colorbar": {
                            "outlinewidth": 0,
                            "ticks": ""
                          }
                        },
                        "type": "scattermapbox"
                      }
                    ],
                    "scatterpolar": [
                      {
                        "marker": {
                          "colorbar": {
                            "outlinewidth": 0,
                            "ticks": ""
                          }
                        },
                        "type": "scatterpolar"
                      }
                    ],
                    "scatterpolargl": [
                      {
                        "marker": {
                          "colorbar": {
                            "outlinewidth": 0,
                            "ticks": ""
                          }
                        },
                        "type": "scatterpolargl"
                      }
                    ],
                    "scatterternary": [
                      {
                        "marker": {
                          "colorbar": {
                            "outlinewidth": 0,
                            "ticks": ""
                          }
                        },
                        "type": "scatterternary"
                      }
                    ],
                    "surface": [
                      {
                        "colorbar": {
                          "outlinewidth": 0,
                          "ticks": ""
                        },
                        "colorscale": [
                          [
                            0,
                            "#0d0887"
                          ],
                          [
                            0.1111111111111111,
                            "#46039f"
                          ],
                          [
                            0.2222222222222222,
                            "#7201a8"
                          ],
                          [
                            0.3333333333333333,
                            "#9c179e"
                          ],
                          [
                            0.4444444444444444,
                            "#bd3786"
                          ],
                          [
                            0.5555555555555556,
                            "#d8576b"
                          ],
                          [
                            0.6666666666666666,
                            "#ed7953"
                          ],
                          [
                            0.7777777777777778,
                            "#fb9f3a"
                          ],
                          [
                            0.8888888888888888,
                            "#fdca26"
                          ],
                          [
                            1,
                            "#f0f921"
                          ]
                        ],
                        "type": "surface"
                      }
                    ],
                    "table": [
                      {
                        "cells": {
                          "fill": {
                            "color": "#EBF0F8"
                          },
                          "line": {
                            "color": "white"
                          }
                        },
                        "header": {
                          "fill": {
                            "color": "#C8D4E3"
                          },
                          "line": {
                            "color": "white"
                          }
                        },
                        "type": "table"
                      }
                    ]
                  },
                  "layout": {
                    "annotationdefaults": {
                      "arrowcolor": "#2a3f5f",
                      "arrowhead": 0,
                      "arrowwidth": 1
                    },
                    "autotypenumbers": "strict",
                    "coloraxis": {
                      "colorbar": {
                        "outlinewidth": 0,
                        "ticks": ""
                      }
                    },
                    "colorscale": {
                      "diverging": [
                        [
                          0,
                          "#8e0152"
                        ],
                        [
                          0.1,
                          "#c51b7d"
                        ],
                        [
                          0.2,
                          "#de77ae"
                        ],
                        [
                          0.3,
                          "#f1b6da"
                        ],
                        [
                          0.4,
                          "#fde0ef"
                        ],
                        [
                          0.5,
                          "#f7f7f7"
                        ],
                        [
                          0.6,
                          "#e6f5d0"
                        ],
                        [
                          0.7,
                          "#b8e186"
                        ],
                        [
                          0.8,
                          "#7fbc41"
                        ],
                        [
                          0.9,
                          "#4d9221"
                        ],
                        [
                          1,
                          "#276419"
                        ]
                      ],
                      "sequential": [
                        [
                          0,
                          "#0d0887"
                        ],
                        [
                          0.1111111111111111,
                          "#46039f"
                        ],
                        [
                          0.2222222222222222,
                          "#7201a8"
                        ],
                        [
                          0.3333333333333333,
                          "#9c179e"
                        ],
                        [
                          0.4444444444444444,
                          "#bd3786"
                        ],
                        [
                          0.5555555555555556,
                          "#d8576b"
                        ],
                        [
                          0.6666666666666666,
                          "#ed7953"
                        ],
                        [
                          0.7777777777777778,
                          "#fb9f3a"
                        ],
                        [
                          0.8888888888888888,
                          "#fdca26"
                        ],
                        [
                          1,
                          "#f0f921"
                        ]
                      ],
                      "sequentialminus": [
                        [
                          0,
                          "#0d0887"
                        ],
                        [
                          0.1111111111111111,
                          "#46039f"
                        ],
                        [
                          0.2222222222222222,
                          "#7201a8"
                        ],
                        [
                          0.3333333333333333,
                          "#9c179e"
                        ],
                        [
                          0.4444444444444444,
                          "#bd3786"
                        ],
                        [
                          0.5555555555555556,
                          "#d8576b"
                        ],
                        [
                          0.6666666666666666,
                          "#ed7953"
                        ],
                        [
                          0.7777777777777778,
                          "#fb9f3a"
                        ],
                        [
                          0.8888888888888888,
                          "#fdca26"
                        ],
                        [
                          1,
                          "#f0f921"
                        ]
                      ]
                    },
                    "colorway": [
                      "#636efa",
                      "#EF553B",
                      "#00cc96",
                      "#ab63fa",
                      "#FFA15A",
                      "#19d3f3",
                      "#FF6692",
                      "#B6E880",
                      "#FF97FF",
                      "#FECB52"
                    ],
                    "font": {
                      "color": "#2a3f5f"
                    },
                    "geo": {
                      "bgcolor": "white",
                      "lakecolor": "white",
                      "landcolor": "#E5ECF6",
                      "showlakes": true,
                      "showland": true,
                      "subunitcolor": "white"
                    },
                    "hoverlabel": {
                      "align": "left"
                    },
                    "hovermode": "closest",
                    "mapbox": {
                      "style": "light"
                    },
                    "paper_bgcolor": "white",
                    "plot_bgcolor": "#E5ECF6",
                    "polar": {
                      "angularaxis": {
                        "gridcolor": "white",
                        "linecolor": "white",
                        "ticks": ""
                      },
                      "bgcolor": "#E5ECF6",
                      "radialaxis": {
                        "gridcolor": "white",
                        "linecolor": "white",
                        "ticks": ""
                      }
                    },
                    "scene": {
                      "xaxis": {
                        "backgroundcolor": "#E5ECF6",
                        "gridcolor": "white",
                        "gridwidth": 2,
                        "linecolor": "white",
                        "showbackground": true,
                        "ticks": "",
                        "zerolinecolor": "white"
                      },
                      "yaxis": {
                        "backgroundcolor": "#E5ECF6",
                        "gridcolor": "white",
                        "gridwidth": 2,
                        "linecolor": "white",
                        "showbackground": true,
                        "ticks": "",
                        "zerolinecolor": "white"
                      },
                      "zaxis": {
                        "backgroundcolor": "#E5ECF6",
                        "gridcolor": "white",
                        "gridwidth": 2,
                        "linecolor": "white",
                        "showbackground": true,
                        "ticks": "",
                        "zerolinecolor": "white"
                      }
                    },
                    "shapedefaults": {
                      "line": {
                        "color": "#2a3f5f"
                      }
                    },
                    "ternary": {
                      "aaxis": {
                        "gridcolor": "white",
                        "linecolor": "white",
                        "ticks": ""
                      },
                      "baxis": {
                        "gridcolor": "white",
                        "linecolor": "white",
                        "ticks": ""
                      },
                      "bgcolor": "#E5ECF6",
                      "caxis": {
                        "gridcolor": "white",
                        "linecolor": "white",
                        "ticks": ""
                      }
                    },
                    "title": {
                      "x": 0.05
                    },
                    "xaxis": {
                      "automargin": true,
                      "gridcolor": "white",
                      "linecolor": "white",
                      "ticks": "",
                      "title": {
                        "standoff": 15
                      },
                      "zerolinecolor": "white",
                      "zerolinewidth": 2
                    },
                    "yaxis": {
                      "automargin": true,
                      "gridcolor": "white",
                      "linecolor": "white",
                      "ticks": "",
                      "title": {
                        "standoff": 15
                      },
                      "zerolinecolor": "white",
                      "zerolinewidth": 2
                    }
                  }
                },
                "title": {
                  "text": "Top 10 Illegally traded animals"
                }
              }
            },
            "text/html": [
              "<div>                            <div id=\"ee1d8e60-d8dc-429a-af89-f22c7be1c0a3\" class=\"plotly-graph-div\" style=\"height:525px; width:100%;\"></div>            <script type=\"text/javascript\">                require([\"plotly\"], function(Plotly) {                    window.PLOTLYENV=window.PLOTLYENV || {};                                    if (document.getElementById(\"ee1d8e60-d8dc-429a-af89-f22c7be1c0a3\")) {                    Plotly.newPlot(                        \"ee1d8e60-d8dc-429a-af89-f22c7be1c0a3\",                        [{\"domain\":{\"x\":[0.0,1.0],\"y\":[0.0,1.0]},\"hovertemplate\":\"endangered_species=%{label}<br>count=%{value}<extra></extra>\",\"labels\":[\"great white shark\",\"ostrich\",\"wolf\",\"nile crocodile\",\"sand tiger shark\",\"halibut\",\"struthio camelus\",\"silky shark\",\"crocodylus niloticus\",\"redfish\"],\"legendgroup\":\"\",\"name\":\"\",\"showlegend\":true,\"values\":[1343,1320,821,479,161,109,73,67,59,46],\"type\":\"pie\"}],                        {\"template\":{\"data\":{\"bar\":[{\"error_x\":{\"color\":\"#2a3f5f\"},\"error_y\":{\"color\":\"#2a3f5f\"},\"marker\":{\"line\":{\"color\":\"#E5ECF6\",\"width\":0.5},\"pattern\":{\"fillmode\":\"overlay\",\"size\":10,\"solidity\":0.2}},\"type\":\"bar\"}],\"barpolar\":[{\"marker\":{\"line\":{\"color\":\"#E5ECF6\",\"width\":0.5},\"pattern\":{\"fillmode\":\"overlay\",\"size\":10,\"solidity\":0.2}},\"type\":\"barpolar\"}],\"carpet\":[{\"aaxis\":{\"endlinecolor\":\"#2a3f5f\",\"gridcolor\":\"white\",\"linecolor\":\"white\",\"minorgridcolor\":\"white\",\"startlinecolor\":\"#2a3f5f\"},\"baxis\":{\"endlinecolor\":\"#2a3f5f\",\"gridcolor\":\"white\",\"linecolor\":\"white\",\"minorgridcolor\":\"white\",\"startlinecolor\":\"#2a3f5f\"},\"type\":\"carpet\"}],\"choropleth\":[{\"colorbar\":{\"outlinewidth\":0,\"ticks\":\"\"},\"type\":\"choropleth\"}],\"contour\":[{\"colorbar\":{\"outlinewidth\":0,\"ticks\":\"\"},\"colorscale\":[[0.0,\"#0d0887\"],[0.1111111111111111,\"#46039f\"],[0.2222222222222222,\"#7201a8\"],[0.3333333333333333,\"#9c179e\"],[0.4444444444444444,\"#bd3786\"],[0.5555555555555556,\"#d8576b\"],[0.6666666666666666,\"#ed7953\"],[0.7777777777777778,\"#fb9f3a\"],[0.8888888888888888,\"#fdca26\"],[1.0,\"#f0f921\"]],\"type\":\"contour\"}],\"contourcarpet\":[{\"colorbar\":{\"outlinewidth\":0,\"ticks\":\"\"},\"type\":\"contourcarpet\"}],\"heatmap\":[{\"colorbar\":{\"outlinewidth\":0,\"ticks\":\"\"},\"colorscale\":[[0.0,\"#0d0887\"],[0.1111111111111111,\"#46039f\"],[0.2222222222222222,\"#7201a8\"],[0.3333333333333333,\"#9c179e\"],[0.4444444444444444,\"#bd3786\"],[0.5555555555555556,\"#d8576b\"],[0.6666666666666666,\"#ed7953\"],[0.7777777777777778,\"#fb9f3a\"],[0.8888888888888888,\"#fdca26\"],[1.0,\"#f0f921\"]],\"type\":\"heatmap\"}],\"heatmapgl\":[{\"colorbar\":{\"outlinewidth\":0,\"ticks\":\"\"},\"colorscale\":[[0.0,\"#0d0887\"],[0.1111111111111111,\"#46039f\"],[0.2222222222222222,\"#7201a8\"],[0.3333333333333333,\"#9c179e\"],[0.4444444444444444,\"#bd3786\"],[0.5555555555555556,\"#d8576b\"],[0.6666666666666666,\"#ed7953\"],[0.7777777777777778,\"#fb9f3a\"],[0.8888888888888888,\"#fdca26\"],[1.0,\"#f0f921\"]],\"type\":\"heatmapgl\"}],\"histogram\":[{\"marker\":{\"pattern\":{\"fillmode\":\"overlay\",\"size\":10,\"solidity\":0.2}},\"type\":\"histogram\"}],\"histogram2d\":[{\"colorbar\":{\"outlinewidth\":0,\"ticks\":\"\"},\"colorscale\":[[0.0,\"#0d0887\"],[0.1111111111111111,\"#46039f\"],[0.2222222222222222,\"#7201a8\"],[0.3333333333333333,\"#9c179e\"],[0.4444444444444444,\"#bd3786\"],[0.5555555555555556,\"#d8576b\"],[0.6666666666666666,\"#ed7953\"],[0.7777777777777778,\"#fb9f3a\"],[0.8888888888888888,\"#fdca26\"],[1.0,\"#f0f921\"]],\"type\":\"histogram2d\"}],\"histogram2dcontour\":[{\"colorbar\":{\"outlinewidth\":0,\"ticks\":\"\"},\"colorscale\":[[0.0,\"#0d0887\"],[0.1111111111111111,\"#46039f\"],[0.2222222222222222,\"#7201a8\"],[0.3333333333333333,\"#9c179e\"],[0.4444444444444444,\"#bd3786\"],[0.5555555555555556,\"#d8576b\"],[0.6666666666666666,\"#ed7953\"],[0.7777777777777778,\"#fb9f3a\"],[0.8888888888888888,\"#fdca26\"],[1.0,\"#f0f921\"]],\"type\":\"histogram2dcontour\"}],\"mesh3d\":[{\"colorbar\":{\"outlinewidth\":0,\"ticks\":\"\"},\"type\":\"mesh3d\"}],\"parcoords\":[{\"line\":{\"colorbar\":{\"outlinewidth\":0,\"ticks\":\"\"}},\"type\":\"parcoords\"}],\"pie\":[{\"automargin\":true,\"type\":\"pie\"}],\"scatter\":[{\"marker\":{\"colorbar\":{\"outlinewidth\":0,\"ticks\":\"\"}},\"type\":\"scatter\"}],\"scatter3d\":[{\"line\":{\"colorbar\":{\"outlinewidth\":0,\"ticks\":\"\"}},\"marker\":{\"colorbar\":{\"outlinewidth\":0,\"ticks\":\"\"}},\"type\":\"scatter3d\"}],\"scattercarpet\":[{\"marker\":{\"colorbar\":{\"outlinewidth\":0,\"ticks\":\"\"}},\"type\":\"scattercarpet\"}],\"scattergeo\":[{\"marker\":{\"colorbar\":{\"outlinewidth\":0,\"ticks\":\"\"}},\"type\":\"scattergeo\"}],\"scattergl\":[{\"marker\":{\"colorbar\":{\"outlinewidth\":0,\"ticks\":\"\"}},\"type\":\"scattergl\"}],\"scattermapbox\":[{\"marker\":{\"colorbar\":{\"outlinewidth\":0,\"ticks\":\"\"}},\"type\":\"scattermapbox\"}],\"scatterpolar\":[{\"marker\":{\"colorbar\":{\"outlinewidth\":0,\"ticks\":\"\"}},\"type\":\"scatterpolar\"}],\"scatterpolargl\":[{\"marker\":{\"colorbar\":{\"outlinewidth\":0,\"ticks\":\"\"}},\"type\":\"scatterpolargl\"}],\"scatterternary\":[{\"marker\":{\"colorbar\":{\"outlinewidth\":0,\"ticks\":\"\"}},\"type\":\"scatterternary\"}],\"surface\":[{\"colorbar\":{\"outlinewidth\":0,\"ticks\":\"\"},\"colorscale\":[[0.0,\"#0d0887\"],[0.1111111111111111,\"#46039f\"],[0.2222222222222222,\"#7201a8\"],[0.3333333333333333,\"#9c179e\"],[0.4444444444444444,\"#bd3786\"],[0.5555555555555556,\"#d8576b\"],[0.6666666666666666,\"#ed7953\"],[0.7777777777777778,\"#fb9f3a\"],[0.8888888888888888,\"#fdca26\"],[1.0,\"#f0f921\"]],\"type\":\"surface\"}],\"table\":[{\"cells\":{\"fill\":{\"color\":\"#EBF0F8\"},\"line\":{\"color\":\"white\"}},\"header\":{\"fill\":{\"color\":\"#C8D4E3\"},\"line\":{\"color\":\"white\"}},\"type\":\"table\"}]},\"layout\":{\"annotationdefaults\":{\"arrowcolor\":\"#2a3f5f\",\"arrowhead\":0,\"arrowwidth\":1},\"autotypenumbers\":\"strict\",\"coloraxis\":{\"colorbar\":{\"outlinewidth\":0,\"ticks\":\"\"}},\"colorscale\":{\"diverging\":[[0,\"#8e0152\"],[0.1,\"#c51b7d\"],[0.2,\"#de77ae\"],[0.3,\"#f1b6da\"],[0.4,\"#fde0ef\"],[0.5,\"#f7f7f7\"],[0.6,\"#e6f5d0\"],[0.7,\"#b8e186\"],[0.8,\"#7fbc41\"],[0.9,\"#4d9221\"],[1,\"#276419\"]],\"sequential\":[[0.0,\"#0d0887\"],[0.1111111111111111,\"#46039f\"],[0.2222222222222222,\"#7201a8\"],[0.3333333333333333,\"#9c179e\"],[0.4444444444444444,\"#bd3786\"],[0.5555555555555556,\"#d8576b\"],[0.6666666666666666,\"#ed7953\"],[0.7777777777777778,\"#fb9f3a\"],[0.8888888888888888,\"#fdca26\"],[1.0,\"#f0f921\"]],\"sequentialminus\":[[0.0,\"#0d0887\"],[0.1111111111111111,\"#46039f\"],[0.2222222222222222,\"#7201a8\"],[0.3333333333333333,\"#9c179e\"],[0.4444444444444444,\"#bd3786\"],[0.5555555555555556,\"#d8576b\"],[0.6666666666666666,\"#ed7953\"],[0.7777777777777778,\"#fb9f3a\"],[0.8888888888888888,\"#fdca26\"],[1.0,\"#f0f921\"]]},\"colorway\":[\"#636efa\",\"#EF553B\",\"#00cc96\",\"#ab63fa\",\"#FFA15A\",\"#19d3f3\",\"#FF6692\",\"#B6E880\",\"#FF97FF\",\"#FECB52\"],\"font\":{\"color\":\"#2a3f5f\"},\"geo\":{\"bgcolor\":\"white\",\"lakecolor\":\"white\",\"landcolor\":\"#E5ECF6\",\"showlakes\":true,\"showland\":true,\"subunitcolor\":\"white\"},\"hoverlabel\":{\"align\":\"left\"},\"hovermode\":\"closest\",\"mapbox\":{\"style\":\"light\"},\"paper_bgcolor\":\"white\",\"plot_bgcolor\":\"#E5ECF6\",\"polar\":{\"angularaxis\":{\"gridcolor\":\"white\",\"linecolor\":\"white\",\"ticks\":\"\"},\"bgcolor\":\"#E5ECF6\",\"radialaxis\":{\"gridcolor\":\"white\",\"linecolor\":\"white\",\"ticks\":\"\"}},\"scene\":{\"xaxis\":{\"backgroundcolor\":\"#E5ECF6\",\"gridcolor\":\"white\",\"gridwidth\":2,\"linecolor\":\"white\",\"showbackground\":true,\"ticks\":\"\",\"zerolinecolor\":\"white\"},\"yaxis\":{\"backgroundcolor\":\"#E5ECF6\",\"gridcolor\":\"white\",\"gridwidth\":2,\"linecolor\":\"white\",\"showbackground\":true,\"ticks\":\"\",\"zerolinecolor\":\"white\"},\"zaxis\":{\"backgroundcolor\":\"#E5ECF6\",\"gridcolor\":\"white\",\"gridwidth\":2,\"linecolor\":\"white\",\"showbackground\":true,\"ticks\":\"\",\"zerolinecolor\":\"white\"}},\"shapedefaults\":{\"line\":{\"color\":\"#2a3f5f\"}},\"ternary\":{\"aaxis\":{\"gridcolor\":\"white\",\"linecolor\":\"white\",\"ticks\":\"\"},\"baxis\":{\"gridcolor\":\"white\",\"linecolor\":\"white\",\"ticks\":\"\"},\"bgcolor\":\"#E5ECF6\",\"caxis\":{\"gridcolor\":\"white\",\"linecolor\":\"white\",\"ticks\":\"\"}},\"title\":{\"x\":0.05},\"xaxis\":{\"automargin\":true,\"gridcolor\":\"white\",\"linecolor\":\"white\",\"ticks\":\"\",\"title\":{\"standoff\":15},\"zerolinecolor\":\"white\",\"zerolinewidth\":2},\"yaxis\":{\"automargin\":true,\"gridcolor\":\"white\",\"linecolor\":\"white\",\"ticks\":\"\",\"title\":{\"standoff\":15},\"zerolinecolor\":\"white\",\"zerolinewidth\":2}}},\"legend\":{\"tracegroupgap\":0},\"title\":{\"text\":\"Top 10 Illegally traded animals\"}},                        {\"responsive\": true}                    ).then(function(){\n",
              "                            \n",
              "var gd = document.getElementById('ee1d8e60-d8dc-429a-af89-f22c7be1c0a3');\n",
              "var x = new MutationObserver(function (mutations, observer) {{\n",
              "        var display = window.getComputedStyle(gd).display;\n",
              "        if (!display || display === 'none') {{\n",
              "            console.log([gd, 'removed!']);\n",
              "            Plotly.purge(gd);\n",
              "            observer.disconnect();\n",
              "        }}\n",
              "}});\n",
              "\n",
              "// Listen for the removal of the full notebook cells\n",
              "var notebookContainer = gd.closest('#notebook-container');\n",
              "if (notebookContainer) {{\n",
              "    x.observe(notebookContainer, {childList: true});\n",
              "}}\n",
              "\n",
              "// Listen for the clearing of the current output cell\n",
              "var outputEl = gd.closest('.output');\n",
              "if (outputEl) {{\n",
              "    x.observe(outputEl, {childList: true});\n",
              "}}\n",
              "\n",
              "                        })                };                });            </script>        </div>"
            ]
          },
          "metadata": {},
          "output_type": "display_data"
        }
      ],
      "source": [
        "fig = px.pie(top_10_illegally_traded_wildlife, values='count', names='endangered_species',\n",
        "             title='Top 10 Illegally traded animals')\n",
        "fig.show()"
      ]
    },
    {
      "cell_type": "code",
      "execution_count": null,
      "id": "6237f4af",
      "metadata": {
        "id": "6237f4af",
        "outputId": "2b34fc5c-9a1e-47a6-fcdf-3f4d1149055c"
      },
      "outputs": [
        {
          "data": {
            "application/vnd.plotly.v1+json": {
              "config": {
                "plotlyServerURL": "https://plot.ly"
              },
              "data": [
                {
                  "alignmentgroup": "True",
                  "hovertemplate": "endangered_species=%{x}<br>count=%{y}<br>text=%{text}<extra></extra>",
                  "legendgroup": "caiman latirostris",
                  "marker": {
                    "color": "#636efa",
                    "pattern": {
                      "shape": ""
                    }
                  },
                  "name": "caiman latirostris",
                  "offsetgroup": "caiman latirostris",
                  "orientation": "v",
                  "showlegend": true,
                  "text": [
                    "32"
                  ],
                  "textposition": "auto",
                  "type": "bar",
                  "x": [
                    "caiman latirostris"
                  ],
                  "xaxis": "x",
                  "y": [
                    32
                  ],
                  "yaxis": "y"
                },
                {
                  "alignmentgroup": "True",
                  "hovertemplate": "endangered_species=%{x}<br>count=%{y}<br>text=%{text}<extra></extra>",
                  "legendgroup": "great white shark",
                  "marker": {
                    "color": "#EF553B",
                    "pattern": {
                      "shape": ""
                    }
                  },
                  "name": "great white shark",
                  "offsetgroup": "great white shark",
                  "orientation": "v",
                  "showlegend": true,
                  "text": [
                    "1346"
                  ],
                  "textposition": "auto",
                  "type": "bar",
                  "x": [
                    "great white shark"
                  ],
                  "xaxis": "x",
                  "y": [
                    1346
                  ],
                  "yaxis": "y"
                },
                {
                  "alignmentgroup": "True",
                  "hovertemplate": "endangered_species=%{x}<br>count=%{y}<br>text=%{text}<extra></extra>",
                  "legendgroup": "ground beetle",
                  "marker": {
                    "color": "#00cc96",
                    "pattern": {
                      "shape": ""
                    }
                  },
                  "name": "ground beetle",
                  "offsetgroup": "ground beetle",
                  "orientation": "v",
                  "showlegend": true,
                  "text": [
                    "27"
                  ],
                  "textposition": "auto",
                  "type": "bar",
                  "x": [
                    "ground beetle"
                  ],
                  "xaxis": "x",
                  "y": [
                    27
                  ],
                  "yaxis": "y"
                },
                {
                  "alignmentgroup": "True",
                  "hovertemplate": "endangered_species=%{x}<br>count=%{y}<br>text=%{text}<extra></extra>",
                  "legendgroup": "halibut",
                  "marker": {
                    "color": "#ab63fa",
                    "pattern": {
                      "shape": ""
                    }
                  },
                  "name": "halibut",
                  "offsetgroup": "halibut",
                  "orientation": "v",
                  "showlegend": true,
                  "text": [
                    "113"
                  ],
                  "textposition": "auto",
                  "type": "bar",
                  "x": [
                    "halibut"
                  ],
                  "xaxis": "x",
                  "y": [
                    113
                  ],
                  "yaxis": "y"
                },
                {
                  "alignmentgroup": "True",
                  "hovertemplate": "endangered_species=%{x}<br>count=%{y}<br>text=%{text}<extra></extra>",
                  "legendgroup": "nile crocodile",
                  "marker": {
                    "color": "#FFA15A",
                    "pattern": {
                      "shape": ""
                    }
                  },
                  "name": "nile crocodile",
                  "offsetgroup": "nile crocodile",
                  "orientation": "v",
                  "showlegend": true,
                  "text": [
                    "538"
                  ],
                  "textposition": "auto",
                  "type": "bar",
                  "x": [
                    "nile crocodile"
                  ],
                  "xaxis": "x",
                  "y": [
                    538
                  ],
                  "yaxis": "y"
                },
                {
                  "alignmentgroup": "True",
                  "hovertemplate": "endangered_species=%{x}<br>count=%{y}<br>text=%{text}<extra></extra>",
                  "legendgroup": "ostrich",
                  "marker": {
                    "color": "#19d3f3",
                    "pattern": {
                      "shape": ""
                    }
                  },
                  "name": "ostrich",
                  "offsetgroup": "ostrich",
                  "orientation": "v",
                  "showlegend": true,
                  "text": [
                    "1393"
                  ],
                  "textposition": "auto",
                  "type": "bar",
                  "x": [
                    "ostrich"
                  ],
                  "xaxis": "x",
                  "y": [
                    1393
                  ],
                  "yaxis": "y"
                },
                {
                  "alignmentgroup": "True",
                  "hovertemplate": "endangered_species=%{x}<br>count=%{y}<br>text=%{text}<extra></extra>",
                  "legendgroup": "redfish",
                  "marker": {
                    "color": "#FF6692",
                    "pattern": {
                      "shape": ""
                    }
                  },
                  "name": "redfish",
                  "offsetgroup": "redfish",
                  "orientation": "v",
                  "showlegend": true,
                  "text": [
                    "47"
                  ],
                  "textposition": "auto",
                  "type": "bar",
                  "x": [
                    "redfish"
                  ],
                  "xaxis": "x",
                  "y": [
                    47
                  ],
                  "yaxis": "y"
                },
                {
                  "alignmentgroup": "True",
                  "hovertemplate": "endangered_species=%{x}<br>count=%{y}<br>text=%{text}<extra></extra>",
                  "legendgroup": "sand tiger shark",
                  "marker": {
                    "color": "#B6E880",
                    "pattern": {
                      "shape": ""
                    }
                  },
                  "name": "sand tiger shark",
                  "offsetgroup": "sand tiger shark",
                  "orientation": "v",
                  "showlegend": true,
                  "text": [
                    "168"
                  ],
                  "textposition": "auto",
                  "type": "bar",
                  "x": [
                    "sand tiger shark"
                  ],
                  "xaxis": "x",
                  "y": [
                    168
                  ],
                  "yaxis": "y"
                },
                {
                  "alignmentgroup": "True",
                  "hovertemplate": "endangered_species=%{x}<br>count=%{y}<br>text=%{text}<extra></extra>",
                  "legendgroup": "silky shark",
                  "marker": {
                    "color": "#FF97FF",
                    "pattern": {
                      "shape": ""
                    }
                  },
                  "name": "silky shark",
                  "offsetgroup": "silky shark",
                  "orientation": "v",
                  "showlegend": true,
                  "text": [
                    "68"
                  ],
                  "textposition": "auto",
                  "type": "bar",
                  "x": [
                    "silky shark"
                  ],
                  "xaxis": "x",
                  "y": [
                    68
                  ],
                  "yaxis": "y"
                },
                {
                  "alignmentgroup": "True",
                  "hovertemplate": "endangered_species=%{x}<br>count=%{y}<br>text=%{text}<extra></extra>",
                  "legendgroup": "wolf",
                  "marker": {
                    "color": "#FECB52",
                    "pattern": {
                      "shape": ""
                    }
                  },
                  "name": "wolf",
                  "offsetgroup": "wolf",
                  "orientation": "v",
                  "showlegend": true,
                  "text": [
                    "860"
                  ],
                  "textposition": "auto",
                  "type": "bar",
                  "x": [
                    "wolf"
                  ],
                  "xaxis": "x",
                  "y": [
                    860
                  ],
                  "yaxis": "y"
                }
              ],
              "layout": {
                "barmode": "relative",
                "legend": {
                  "title": {
                    "text": "endangered_species"
                  },
                  "tracegroupgap": 0
                },
                "template": {
                  "data": {
                    "bar": [
                      {
                        "error_x": {
                          "color": "#2a3f5f"
                        },
                        "error_y": {
                          "color": "#2a3f5f"
                        },
                        "marker": {
                          "line": {
                            "color": "#E5ECF6",
                            "width": 0.5
                          },
                          "pattern": {
                            "fillmode": "overlay",
                            "size": 10,
                            "solidity": 0.2
                          }
                        },
                        "type": "bar"
                      }
                    ],
                    "barpolar": [
                      {
                        "marker": {
                          "line": {
                            "color": "#E5ECF6",
                            "width": 0.5
                          },
                          "pattern": {
                            "fillmode": "overlay",
                            "size": 10,
                            "solidity": 0.2
                          }
                        },
                        "type": "barpolar"
                      }
                    ],
                    "carpet": [
                      {
                        "aaxis": {
                          "endlinecolor": "#2a3f5f",
                          "gridcolor": "white",
                          "linecolor": "white",
                          "minorgridcolor": "white",
                          "startlinecolor": "#2a3f5f"
                        },
                        "baxis": {
                          "endlinecolor": "#2a3f5f",
                          "gridcolor": "white",
                          "linecolor": "white",
                          "minorgridcolor": "white",
                          "startlinecolor": "#2a3f5f"
                        },
                        "type": "carpet"
                      }
                    ],
                    "choropleth": [
                      {
                        "colorbar": {
                          "outlinewidth": 0,
                          "ticks": ""
                        },
                        "type": "choropleth"
                      }
                    ],
                    "contour": [
                      {
                        "colorbar": {
                          "outlinewidth": 0,
                          "ticks": ""
                        },
                        "colorscale": [
                          [
                            0,
                            "#0d0887"
                          ],
                          [
                            0.1111111111111111,
                            "#46039f"
                          ],
                          [
                            0.2222222222222222,
                            "#7201a8"
                          ],
                          [
                            0.3333333333333333,
                            "#9c179e"
                          ],
                          [
                            0.4444444444444444,
                            "#bd3786"
                          ],
                          [
                            0.5555555555555556,
                            "#d8576b"
                          ],
                          [
                            0.6666666666666666,
                            "#ed7953"
                          ],
                          [
                            0.7777777777777778,
                            "#fb9f3a"
                          ],
                          [
                            0.8888888888888888,
                            "#fdca26"
                          ],
                          [
                            1,
                            "#f0f921"
                          ]
                        ],
                        "type": "contour"
                      }
                    ],
                    "contourcarpet": [
                      {
                        "colorbar": {
                          "outlinewidth": 0,
                          "ticks": ""
                        },
                        "type": "contourcarpet"
                      }
                    ],
                    "heatmap": [
                      {
                        "colorbar": {
                          "outlinewidth": 0,
                          "ticks": ""
                        },
                        "colorscale": [
                          [
                            0,
                            "#0d0887"
                          ],
                          [
                            0.1111111111111111,
                            "#46039f"
                          ],
                          [
                            0.2222222222222222,
                            "#7201a8"
                          ],
                          [
                            0.3333333333333333,
                            "#9c179e"
                          ],
                          [
                            0.4444444444444444,
                            "#bd3786"
                          ],
                          [
                            0.5555555555555556,
                            "#d8576b"
                          ],
                          [
                            0.6666666666666666,
                            "#ed7953"
                          ],
                          [
                            0.7777777777777778,
                            "#fb9f3a"
                          ],
                          [
                            0.8888888888888888,
                            "#fdca26"
                          ],
                          [
                            1,
                            "#f0f921"
                          ]
                        ],
                        "type": "heatmap"
                      }
                    ],
                    "heatmapgl": [
                      {
                        "colorbar": {
                          "outlinewidth": 0,
                          "ticks": ""
                        },
                        "colorscale": [
                          [
                            0,
                            "#0d0887"
                          ],
                          [
                            0.1111111111111111,
                            "#46039f"
                          ],
                          [
                            0.2222222222222222,
                            "#7201a8"
                          ],
                          [
                            0.3333333333333333,
                            "#9c179e"
                          ],
                          [
                            0.4444444444444444,
                            "#bd3786"
                          ],
                          [
                            0.5555555555555556,
                            "#d8576b"
                          ],
                          [
                            0.6666666666666666,
                            "#ed7953"
                          ],
                          [
                            0.7777777777777778,
                            "#fb9f3a"
                          ],
                          [
                            0.8888888888888888,
                            "#fdca26"
                          ],
                          [
                            1,
                            "#f0f921"
                          ]
                        ],
                        "type": "heatmapgl"
                      }
                    ],
                    "histogram": [
                      {
                        "marker": {
                          "pattern": {
                            "fillmode": "overlay",
                            "size": 10,
                            "solidity": 0.2
                          }
                        },
                        "type": "histogram"
                      }
                    ],
                    "histogram2d": [
                      {
                        "colorbar": {
                          "outlinewidth": 0,
                          "ticks": ""
                        },
                        "colorscale": [
                          [
                            0,
                            "#0d0887"
                          ],
                          [
                            0.1111111111111111,
                            "#46039f"
                          ],
                          [
                            0.2222222222222222,
                            "#7201a8"
                          ],
                          [
                            0.3333333333333333,
                            "#9c179e"
                          ],
                          [
                            0.4444444444444444,
                            "#bd3786"
                          ],
                          [
                            0.5555555555555556,
                            "#d8576b"
                          ],
                          [
                            0.6666666666666666,
                            "#ed7953"
                          ],
                          [
                            0.7777777777777778,
                            "#fb9f3a"
                          ],
                          [
                            0.8888888888888888,
                            "#fdca26"
                          ],
                          [
                            1,
                            "#f0f921"
                          ]
                        ],
                        "type": "histogram2d"
                      }
                    ],
                    "histogram2dcontour": [
                      {
                        "colorbar": {
                          "outlinewidth": 0,
                          "ticks": ""
                        },
                        "colorscale": [
                          [
                            0,
                            "#0d0887"
                          ],
                          [
                            0.1111111111111111,
                            "#46039f"
                          ],
                          [
                            0.2222222222222222,
                            "#7201a8"
                          ],
                          [
                            0.3333333333333333,
                            "#9c179e"
                          ],
                          [
                            0.4444444444444444,
                            "#bd3786"
                          ],
                          [
                            0.5555555555555556,
                            "#d8576b"
                          ],
                          [
                            0.6666666666666666,
                            "#ed7953"
                          ],
                          [
                            0.7777777777777778,
                            "#fb9f3a"
                          ],
                          [
                            0.8888888888888888,
                            "#fdca26"
                          ],
                          [
                            1,
                            "#f0f921"
                          ]
                        ],
                        "type": "histogram2dcontour"
                      }
                    ],
                    "mesh3d": [
                      {
                        "colorbar": {
                          "outlinewidth": 0,
                          "ticks": ""
                        },
                        "type": "mesh3d"
                      }
                    ],
                    "parcoords": [
                      {
                        "line": {
                          "colorbar": {
                            "outlinewidth": 0,
                            "ticks": ""
                          }
                        },
                        "type": "parcoords"
                      }
                    ],
                    "pie": [
                      {
                        "automargin": true,
                        "type": "pie"
                      }
                    ],
                    "scatter": [
                      {
                        "marker": {
                          "colorbar": {
                            "outlinewidth": 0,
                            "ticks": ""
                          }
                        },
                        "type": "scatter"
                      }
                    ],
                    "scatter3d": [
                      {
                        "line": {
                          "colorbar": {
                            "outlinewidth": 0,
                            "ticks": ""
                          }
                        },
                        "marker": {
                          "colorbar": {
                            "outlinewidth": 0,
                            "ticks": ""
                          }
                        },
                        "type": "scatter3d"
                      }
                    ],
                    "scattercarpet": [
                      {
                        "marker": {
                          "colorbar": {
                            "outlinewidth": 0,
                            "ticks": ""
                          }
                        },
                        "type": "scattercarpet"
                      }
                    ],
                    "scattergeo": [
                      {
                        "marker": {
                          "colorbar": {
                            "outlinewidth": 0,
                            "ticks": ""
                          }
                        },
                        "type": "scattergeo"
                      }
                    ],
                    "scattergl": [
                      {
                        "marker": {
                          "colorbar": {
                            "outlinewidth": 0,
                            "ticks": ""
                          }
                        },
                        "type": "scattergl"
                      }
                    ],
                    "scattermapbox": [
                      {
                        "marker": {
                          "colorbar": {
                            "outlinewidth": 0,
                            "ticks": ""
                          }
                        },
                        "type": "scattermapbox"
                      }
                    ],
                    "scatterpolar": [
                      {
                        "marker": {
                          "colorbar": {
                            "outlinewidth": 0,
                            "ticks": ""
                          }
                        },
                        "type": "scatterpolar"
                      }
                    ],
                    "scatterpolargl": [
                      {
                        "marker": {
                          "colorbar": {
                            "outlinewidth": 0,
                            "ticks": ""
                          }
                        },
                        "type": "scatterpolargl"
                      }
                    ],
                    "scatterternary": [
                      {
                        "marker": {
                          "colorbar": {
                            "outlinewidth": 0,
                            "ticks": ""
                          }
                        },
                        "type": "scatterternary"
                      }
                    ],
                    "surface": [
                      {
                        "colorbar": {
                          "outlinewidth": 0,
                          "ticks": ""
                        },
                        "colorscale": [
                          [
                            0,
                            "#0d0887"
                          ],
                          [
                            0.1111111111111111,
                            "#46039f"
                          ],
                          [
                            0.2222222222222222,
                            "#7201a8"
                          ],
                          [
                            0.3333333333333333,
                            "#9c179e"
                          ],
                          [
                            0.4444444444444444,
                            "#bd3786"
                          ],
                          [
                            0.5555555555555556,
                            "#d8576b"
                          ],
                          [
                            0.6666666666666666,
                            "#ed7953"
                          ],
                          [
                            0.7777777777777778,
                            "#fb9f3a"
                          ],
                          [
                            0.8888888888888888,
                            "#fdca26"
                          ],
                          [
                            1,
                            "#f0f921"
                          ]
                        ],
                        "type": "surface"
                      }
                    ],
                    "table": [
                      {
                        "cells": {
                          "fill": {
                            "color": "#EBF0F8"
                          },
                          "line": {
                            "color": "white"
                          }
                        },
                        "header": {
                          "fill": {
                            "color": "#C8D4E3"
                          },
                          "line": {
                            "color": "white"
                          }
                        },
                        "type": "table"
                      }
                    ]
                  },
                  "layout": {
                    "annotationdefaults": {
                      "arrowcolor": "#2a3f5f",
                      "arrowhead": 0,
                      "arrowwidth": 1
                    },
                    "autotypenumbers": "strict",
                    "coloraxis": {
                      "colorbar": {
                        "outlinewidth": 0,
                        "ticks": ""
                      }
                    },
                    "colorscale": {
                      "diverging": [
                        [
                          0,
                          "#8e0152"
                        ],
                        [
                          0.1,
                          "#c51b7d"
                        ],
                        [
                          0.2,
                          "#de77ae"
                        ],
                        [
                          0.3,
                          "#f1b6da"
                        ],
                        [
                          0.4,
                          "#fde0ef"
                        ],
                        [
                          0.5,
                          "#f7f7f7"
                        ],
                        [
                          0.6,
                          "#e6f5d0"
                        ],
                        [
                          0.7,
                          "#b8e186"
                        ],
                        [
                          0.8,
                          "#7fbc41"
                        ],
                        [
                          0.9,
                          "#4d9221"
                        ],
                        [
                          1,
                          "#276419"
                        ]
                      ],
                      "sequential": [
                        [
                          0,
                          "#0d0887"
                        ],
                        [
                          0.1111111111111111,
                          "#46039f"
                        ],
                        [
                          0.2222222222222222,
                          "#7201a8"
                        ],
                        [
                          0.3333333333333333,
                          "#9c179e"
                        ],
                        [
                          0.4444444444444444,
                          "#bd3786"
                        ],
                        [
                          0.5555555555555556,
                          "#d8576b"
                        ],
                        [
                          0.6666666666666666,
                          "#ed7953"
                        ],
                        [
                          0.7777777777777778,
                          "#fb9f3a"
                        ],
                        [
                          0.8888888888888888,
                          "#fdca26"
                        ],
                        [
                          1,
                          "#f0f921"
                        ]
                      ],
                      "sequentialminus": [
                        [
                          0,
                          "#0d0887"
                        ],
                        [
                          0.1111111111111111,
                          "#46039f"
                        ],
                        [
                          0.2222222222222222,
                          "#7201a8"
                        ],
                        [
                          0.3333333333333333,
                          "#9c179e"
                        ],
                        [
                          0.4444444444444444,
                          "#bd3786"
                        ],
                        [
                          0.5555555555555556,
                          "#d8576b"
                        ],
                        [
                          0.6666666666666666,
                          "#ed7953"
                        ],
                        [
                          0.7777777777777778,
                          "#fb9f3a"
                        ],
                        [
                          0.8888888888888888,
                          "#fdca26"
                        ],
                        [
                          1,
                          "#f0f921"
                        ]
                      ]
                    },
                    "colorway": [
                      "#636efa",
                      "#EF553B",
                      "#00cc96",
                      "#ab63fa",
                      "#FFA15A",
                      "#19d3f3",
                      "#FF6692",
                      "#B6E880",
                      "#FF97FF",
                      "#FECB52"
                    ],
                    "font": {
                      "color": "#2a3f5f"
                    },
                    "geo": {
                      "bgcolor": "white",
                      "lakecolor": "white",
                      "landcolor": "#E5ECF6",
                      "showlakes": true,
                      "showland": true,
                      "subunitcolor": "white"
                    },
                    "hoverlabel": {
                      "align": "left"
                    },
                    "hovermode": "closest",
                    "mapbox": {
                      "style": "light"
                    },
                    "paper_bgcolor": "white",
                    "plot_bgcolor": "#E5ECF6",
                    "polar": {
                      "angularaxis": {
                        "gridcolor": "white",
                        "linecolor": "white",
                        "ticks": ""
                      },
                      "bgcolor": "#E5ECF6",
                      "radialaxis": {
                        "gridcolor": "white",
                        "linecolor": "white",
                        "ticks": ""
                      }
                    },
                    "scene": {
                      "xaxis": {
                        "backgroundcolor": "#E5ECF6",
                        "gridcolor": "white",
                        "gridwidth": 2,
                        "linecolor": "white",
                        "showbackground": true,
                        "ticks": "",
                        "zerolinecolor": "white"
                      },
                      "yaxis": {
                        "backgroundcolor": "#E5ECF6",
                        "gridcolor": "white",
                        "gridwidth": 2,
                        "linecolor": "white",
                        "showbackground": true,
                        "ticks": "",
                        "zerolinecolor": "white"
                      },
                      "zaxis": {
                        "backgroundcolor": "#E5ECF6",
                        "gridcolor": "white",
                        "gridwidth": 2,
                        "linecolor": "white",
                        "showbackground": true,
                        "ticks": "",
                        "zerolinecolor": "white"
                      }
                    },
                    "shapedefaults": {
                      "line": {
                        "color": "#2a3f5f"
                      }
                    },
                    "ternary": {
                      "aaxis": {
                        "gridcolor": "white",
                        "linecolor": "white",
                        "ticks": ""
                      },
                      "baxis": {
                        "gridcolor": "white",
                        "linecolor": "white",
                        "ticks": ""
                      },
                      "bgcolor": "#E5ECF6",
                      "caxis": {
                        "gridcolor": "white",
                        "linecolor": "white",
                        "ticks": ""
                      }
                    },
                    "title": {
                      "x": 0.05
                    },
                    "xaxis": {
                      "automargin": true,
                      "gridcolor": "white",
                      "linecolor": "white",
                      "ticks": "",
                      "title": {
                        "standoff": 15
                      },
                      "zerolinecolor": "white",
                      "zerolinewidth": 2
                    },
                    "yaxis": {
                      "automargin": true,
                      "gridcolor": "white",
                      "linecolor": "white",
                      "ticks": "",
                      "title": {
                        "standoff": 15
                      },
                      "zerolinecolor": "white",
                      "zerolinewidth": 2
                    }
                  }
                },
                "title": {
                  "text": "Top 10 Illegally traded animals"
                },
                "xaxis": {
                  "anchor": "y",
                  "categoryarray": [
                    "caiman latirostris",
                    "great white shark",
                    "ground beetle",
                    "halibut",
                    "nile crocodile",
                    "ostrich",
                    "redfish",
                    "sand tiger shark",
                    "silky shark",
                    "wolf"
                  ],
                  "categoryorder": "array",
                  "domain": [
                    0,
                    1
                  ],
                  "title": {
                    "text": "endangered_species"
                  }
                },
                "yaxis": {
                  "anchor": "x",
                  "domain": [
                    0,
                    1
                  ],
                  "title": {
                    "text": "count"
                  }
                }
              }
            },
            "text/html": [
              "<div>                            <div id=\"05f6aef8-c58d-42cd-bcf7-7a4f221d5bd8\" class=\"plotly-graph-div\" style=\"height:525px; width:100%;\"></div>            <script type=\"text/javascript\">                require([\"plotly\"], function(Plotly) {                    window.PLOTLYENV=window.PLOTLYENV || {};                                    if (document.getElementById(\"05f6aef8-c58d-42cd-bcf7-7a4f221d5bd8\")) {                    Plotly.newPlot(                        \"05f6aef8-c58d-42cd-bcf7-7a4f221d5bd8\",                        [{\"alignmentgroup\":\"True\",\"hovertemplate\":\"endangered_species=%{x}<br>count=%{y}<br>text=%{text}<extra></extra>\",\"legendgroup\":\"caiman latirostris\",\"marker\":{\"color\":\"#636efa\",\"pattern\":{\"shape\":\"\"}},\"name\":\"caiman latirostris\",\"offsetgroup\":\"caiman latirostris\",\"orientation\":\"v\",\"showlegend\":true,\"text\":[\"32\"],\"textposition\":\"auto\",\"x\":[\"caiman latirostris\"],\"xaxis\":\"x\",\"y\":[32],\"yaxis\":\"y\",\"type\":\"bar\"},{\"alignmentgroup\":\"True\",\"hovertemplate\":\"endangered_species=%{x}<br>count=%{y}<br>text=%{text}<extra></extra>\",\"legendgroup\":\"great white shark\",\"marker\":{\"color\":\"#EF553B\",\"pattern\":{\"shape\":\"\"}},\"name\":\"great white shark\",\"offsetgroup\":\"great white shark\",\"orientation\":\"v\",\"showlegend\":true,\"text\":[\"1346\"],\"textposition\":\"auto\",\"x\":[\"great white shark\"],\"xaxis\":\"x\",\"y\":[1346],\"yaxis\":\"y\",\"type\":\"bar\"},{\"alignmentgroup\":\"True\",\"hovertemplate\":\"endangered_species=%{x}<br>count=%{y}<br>text=%{text}<extra></extra>\",\"legendgroup\":\"ground beetle\",\"marker\":{\"color\":\"#00cc96\",\"pattern\":{\"shape\":\"\"}},\"name\":\"ground beetle\",\"offsetgroup\":\"ground beetle\",\"orientation\":\"v\",\"showlegend\":true,\"text\":[\"27\"],\"textposition\":\"auto\",\"x\":[\"ground beetle\"],\"xaxis\":\"x\",\"y\":[27],\"yaxis\":\"y\",\"type\":\"bar\"},{\"alignmentgroup\":\"True\",\"hovertemplate\":\"endangered_species=%{x}<br>count=%{y}<br>text=%{text}<extra></extra>\",\"legendgroup\":\"halibut\",\"marker\":{\"color\":\"#ab63fa\",\"pattern\":{\"shape\":\"\"}},\"name\":\"halibut\",\"offsetgroup\":\"halibut\",\"orientation\":\"v\",\"showlegend\":true,\"text\":[\"113\"],\"textposition\":\"auto\",\"x\":[\"halibut\"],\"xaxis\":\"x\",\"y\":[113],\"yaxis\":\"y\",\"type\":\"bar\"},{\"alignmentgroup\":\"True\",\"hovertemplate\":\"endangered_species=%{x}<br>count=%{y}<br>text=%{text}<extra></extra>\",\"legendgroup\":\"nile crocodile\",\"marker\":{\"color\":\"#FFA15A\",\"pattern\":{\"shape\":\"\"}},\"name\":\"nile crocodile\",\"offsetgroup\":\"nile crocodile\",\"orientation\":\"v\",\"showlegend\":true,\"text\":[\"538\"],\"textposition\":\"auto\",\"x\":[\"nile crocodile\"],\"xaxis\":\"x\",\"y\":[538],\"yaxis\":\"y\",\"type\":\"bar\"},{\"alignmentgroup\":\"True\",\"hovertemplate\":\"endangered_species=%{x}<br>count=%{y}<br>text=%{text}<extra></extra>\",\"legendgroup\":\"ostrich\",\"marker\":{\"color\":\"#19d3f3\",\"pattern\":{\"shape\":\"\"}},\"name\":\"ostrich\",\"offsetgroup\":\"ostrich\",\"orientation\":\"v\",\"showlegend\":true,\"text\":[\"1393\"],\"textposition\":\"auto\",\"x\":[\"ostrich\"],\"xaxis\":\"x\",\"y\":[1393],\"yaxis\":\"y\",\"type\":\"bar\"},{\"alignmentgroup\":\"True\",\"hovertemplate\":\"endangered_species=%{x}<br>count=%{y}<br>text=%{text}<extra></extra>\",\"legendgroup\":\"redfish\",\"marker\":{\"color\":\"#FF6692\",\"pattern\":{\"shape\":\"\"}},\"name\":\"redfish\",\"offsetgroup\":\"redfish\",\"orientation\":\"v\",\"showlegend\":true,\"text\":[\"47\"],\"textposition\":\"auto\",\"x\":[\"redfish\"],\"xaxis\":\"x\",\"y\":[47],\"yaxis\":\"y\",\"type\":\"bar\"},{\"alignmentgroup\":\"True\",\"hovertemplate\":\"endangered_species=%{x}<br>count=%{y}<br>text=%{text}<extra></extra>\",\"legendgroup\":\"sand tiger shark\",\"marker\":{\"color\":\"#B6E880\",\"pattern\":{\"shape\":\"\"}},\"name\":\"sand tiger shark\",\"offsetgroup\":\"sand tiger shark\",\"orientation\":\"v\",\"showlegend\":true,\"text\":[\"168\"],\"textposition\":\"auto\",\"x\":[\"sand tiger shark\"],\"xaxis\":\"x\",\"y\":[168],\"yaxis\":\"y\",\"type\":\"bar\"},{\"alignmentgroup\":\"True\",\"hovertemplate\":\"endangered_species=%{x}<br>count=%{y}<br>text=%{text}<extra></extra>\",\"legendgroup\":\"silky shark\",\"marker\":{\"color\":\"#FF97FF\",\"pattern\":{\"shape\":\"\"}},\"name\":\"silky shark\",\"offsetgroup\":\"silky shark\",\"orientation\":\"v\",\"showlegend\":true,\"text\":[\"68\"],\"textposition\":\"auto\",\"x\":[\"silky shark\"],\"xaxis\":\"x\",\"y\":[68],\"yaxis\":\"y\",\"type\":\"bar\"},{\"alignmentgroup\":\"True\",\"hovertemplate\":\"endangered_species=%{x}<br>count=%{y}<br>text=%{text}<extra></extra>\",\"legendgroup\":\"wolf\",\"marker\":{\"color\":\"#FECB52\",\"pattern\":{\"shape\":\"\"}},\"name\":\"wolf\",\"offsetgroup\":\"wolf\",\"orientation\":\"v\",\"showlegend\":true,\"text\":[\"860\"],\"textposition\":\"auto\",\"x\":[\"wolf\"],\"xaxis\":\"x\",\"y\":[860],\"yaxis\":\"y\",\"type\":\"bar\"}],                        {\"template\":{\"data\":{\"bar\":[{\"error_x\":{\"color\":\"#2a3f5f\"},\"error_y\":{\"color\":\"#2a3f5f\"},\"marker\":{\"line\":{\"color\":\"#E5ECF6\",\"width\":0.5},\"pattern\":{\"fillmode\":\"overlay\",\"size\":10,\"solidity\":0.2}},\"type\":\"bar\"}],\"barpolar\":[{\"marker\":{\"line\":{\"color\":\"#E5ECF6\",\"width\":0.5},\"pattern\":{\"fillmode\":\"overlay\",\"size\":10,\"solidity\":0.2}},\"type\":\"barpolar\"}],\"carpet\":[{\"aaxis\":{\"endlinecolor\":\"#2a3f5f\",\"gridcolor\":\"white\",\"linecolor\":\"white\",\"minorgridcolor\":\"white\",\"startlinecolor\":\"#2a3f5f\"},\"baxis\":{\"endlinecolor\":\"#2a3f5f\",\"gridcolor\":\"white\",\"linecolor\":\"white\",\"minorgridcolor\":\"white\",\"startlinecolor\":\"#2a3f5f\"},\"type\":\"carpet\"}],\"choropleth\":[{\"colorbar\":{\"outlinewidth\":0,\"ticks\":\"\"},\"type\":\"choropleth\"}],\"contour\":[{\"colorbar\":{\"outlinewidth\":0,\"ticks\":\"\"},\"colorscale\":[[0.0,\"#0d0887\"],[0.1111111111111111,\"#46039f\"],[0.2222222222222222,\"#7201a8\"],[0.3333333333333333,\"#9c179e\"],[0.4444444444444444,\"#bd3786\"],[0.5555555555555556,\"#d8576b\"],[0.6666666666666666,\"#ed7953\"],[0.7777777777777778,\"#fb9f3a\"],[0.8888888888888888,\"#fdca26\"],[1.0,\"#f0f921\"]],\"type\":\"contour\"}],\"contourcarpet\":[{\"colorbar\":{\"outlinewidth\":0,\"ticks\":\"\"},\"type\":\"contourcarpet\"}],\"heatmap\":[{\"colorbar\":{\"outlinewidth\":0,\"ticks\":\"\"},\"colorscale\":[[0.0,\"#0d0887\"],[0.1111111111111111,\"#46039f\"],[0.2222222222222222,\"#7201a8\"],[0.3333333333333333,\"#9c179e\"],[0.4444444444444444,\"#bd3786\"],[0.5555555555555556,\"#d8576b\"],[0.6666666666666666,\"#ed7953\"],[0.7777777777777778,\"#fb9f3a\"],[0.8888888888888888,\"#fdca26\"],[1.0,\"#f0f921\"]],\"type\":\"heatmap\"}],\"heatmapgl\":[{\"colorbar\":{\"outlinewidth\":0,\"ticks\":\"\"},\"colorscale\":[[0.0,\"#0d0887\"],[0.1111111111111111,\"#46039f\"],[0.2222222222222222,\"#7201a8\"],[0.3333333333333333,\"#9c179e\"],[0.4444444444444444,\"#bd3786\"],[0.5555555555555556,\"#d8576b\"],[0.6666666666666666,\"#ed7953\"],[0.7777777777777778,\"#fb9f3a\"],[0.8888888888888888,\"#fdca26\"],[1.0,\"#f0f921\"]],\"type\":\"heatmapgl\"}],\"histogram\":[{\"marker\":{\"pattern\":{\"fillmode\":\"overlay\",\"size\":10,\"solidity\":0.2}},\"type\":\"histogram\"}],\"histogram2d\":[{\"colorbar\":{\"outlinewidth\":0,\"ticks\":\"\"},\"colorscale\":[[0.0,\"#0d0887\"],[0.1111111111111111,\"#46039f\"],[0.2222222222222222,\"#7201a8\"],[0.3333333333333333,\"#9c179e\"],[0.4444444444444444,\"#bd3786\"],[0.5555555555555556,\"#d8576b\"],[0.6666666666666666,\"#ed7953\"],[0.7777777777777778,\"#fb9f3a\"],[0.8888888888888888,\"#fdca26\"],[1.0,\"#f0f921\"]],\"type\":\"histogram2d\"}],\"histogram2dcontour\":[{\"colorbar\":{\"outlinewidth\":0,\"ticks\":\"\"},\"colorscale\":[[0.0,\"#0d0887\"],[0.1111111111111111,\"#46039f\"],[0.2222222222222222,\"#7201a8\"],[0.3333333333333333,\"#9c179e\"],[0.4444444444444444,\"#bd3786\"],[0.5555555555555556,\"#d8576b\"],[0.6666666666666666,\"#ed7953\"],[0.7777777777777778,\"#fb9f3a\"],[0.8888888888888888,\"#fdca26\"],[1.0,\"#f0f921\"]],\"type\":\"histogram2dcontour\"}],\"mesh3d\":[{\"colorbar\":{\"outlinewidth\":0,\"ticks\":\"\"},\"type\":\"mesh3d\"}],\"parcoords\":[{\"line\":{\"colorbar\":{\"outlinewidth\":0,\"ticks\":\"\"}},\"type\":\"parcoords\"}],\"pie\":[{\"automargin\":true,\"type\":\"pie\"}],\"scatter\":[{\"marker\":{\"colorbar\":{\"outlinewidth\":0,\"ticks\":\"\"}},\"type\":\"scatter\"}],\"scatter3d\":[{\"line\":{\"colorbar\":{\"outlinewidth\":0,\"ticks\":\"\"}},\"marker\":{\"colorbar\":{\"outlinewidth\":0,\"ticks\":\"\"}},\"type\":\"scatter3d\"}],\"scattercarpet\":[{\"marker\":{\"colorbar\":{\"outlinewidth\":0,\"ticks\":\"\"}},\"type\":\"scattercarpet\"}],\"scattergeo\":[{\"marker\":{\"colorbar\":{\"outlinewidth\":0,\"ticks\":\"\"}},\"type\":\"scattergeo\"}],\"scattergl\":[{\"marker\":{\"colorbar\":{\"outlinewidth\":0,\"ticks\":\"\"}},\"type\":\"scattergl\"}],\"scattermapbox\":[{\"marker\":{\"colorbar\":{\"outlinewidth\":0,\"ticks\":\"\"}},\"type\":\"scattermapbox\"}],\"scatterpolar\":[{\"marker\":{\"colorbar\":{\"outlinewidth\":0,\"ticks\":\"\"}},\"type\":\"scatterpolar\"}],\"scatterpolargl\":[{\"marker\":{\"colorbar\":{\"outlinewidth\":0,\"ticks\":\"\"}},\"type\":\"scatterpolargl\"}],\"scatterternary\":[{\"marker\":{\"colorbar\":{\"outlinewidth\":0,\"ticks\":\"\"}},\"type\":\"scatterternary\"}],\"surface\":[{\"colorbar\":{\"outlinewidth\":0,\"ticks\":\"\"},\"colorscale\":[[0.0,\"#0d0887\"],[0.1111111111111111,\"#46039f\"],[0.2222222222222222,\"#7201a8\"],[0.3333333333333333,\"#9c179e\"],[0.4444444444444444,\"#bd3786\"],[0.5555555555555556,\"#d8576b\"],[0.6666666666666666,\"#ed7953\"],[0.7777777777777778,\"#fb9f3a\"],[0.8888888888888888,\"#fdca26\"],[1.0,\"#f0f921\"]],\"type\":\"surface\"}],\"table\":[{\"cells\":{\"fill\":{\"color\":\"#EBF0F8\"},\"line\":{\"color\":\"white\"}},\"header\":{\"fill\":{\"color\":\"#C8D4E3\"},\"line\":{\"color\":\"white\"}},\"type\":\"table\"}]},\"layout\":{\"annotationdefaults\":{\"arrowcolor\":\"#2a3f5f\",\"arrowhead\":0,\"arrowwidth\":1},\"autotypenumbers\":\"strict\",\"coloraxis\":{\"colorbar\":{\"outlinewidth\":0,\"ticks\":\"\"}},\"colorscale\":{\"diverging\":[[0,\"#8e0152\"],[0.1,\"#c51b7d\"],[0.2,\"#de77ae\"],[0.3,\"#f1b6da\"],[0.4,\"#fde0ef\"],[0.5,\"#f7f7f7\"],[0.6,\"#e6f5d0\"],[0.7,\"#b8e186\"],[0.8,\"#7fbc41\"],[0.9,\"#4d9221\"],[1,\"#276419\"]],\"sequential\":[[0.0,\"#0d0887\"],[0.1111111111111111,\"#46039f\"],[0.2222222222222222,\"#7201a8\"],[0.3333333333333333,\"#9c179e\"],[0.4444444444444444,\"#bd3786\"],[0.5555555555555556,\"#d8576b\"],[0.6666666666666666,\"#ed7953\"],[0.7777777777777778,\"#fb9f3a\"],[0.8888888888888888,\"#fdca26\"],[1.0,\"#f0f921\"]],\"sequentialminus\":[[0.0,\"#0d0887\"],[0.1111111111111111,\"#46039f\"],[0.2222222222222222,\"#7201a8\"],[0.3333333333333333,\"#9c179e\"],[0.4444444444444444,\"#bd3786\"],[0.5555555555555556,\"#d8576b\"],[0.6666666666666666,\"#ed7953\"],[0.7777777777777778,\"#fb9f3a\"],[0.8888888888888888,\"#fdca26\"],[1.0,\"#f0f921\"]]},\"colorway\":[\"#636efa\",\"#EF553B\",\"#00cc96\",\"#ab63fa\",\"#FFA15A\",\"#19d3f3\",\"#FF6692\",\"#B6E880\",\"#FF97FF\",\"#FECB52\"],\"font\":{\"color\":\"#2a3f5f\"},\"geo\":{\"bgcolor\":\"white\",\"lakecolor\":\"white\",\"landcolor\":\"#E5ECF6\",\"showlakes\":true,\"showland\":true,\"subunitcolor\":\"white\"},\"hoverlabel\":{\"align\":\"left\"},\"hovermode\":\"closest\",\"mapbox\":{\"style\":\"light\"},\"paper_bgcolor\":\"white\",\"plot_bgcolor\":\"#E5ECF6\",\"polar\":{\"angularaxis\":{\"gridcolor\":\"white\",\"linecolor\":\"white\",\"ticks\":\"\"},\"bgcolor\":\"#E5ECF6\",\"radialaxis\":{\"gridcolor\":\"white\",\"linecolor\":\"white\",\"ticks\":\"\"}},\"scene\":{\"xaxis\":{\"backgroundcolor\":\"#E5ECF6\",\"gridcolor\":\"white\",\"gridwidth\":2,\"linecolor\":\"white\",\"showbackground\":true,\"ticks\":\"\",\"zerolinecolor\":\"white\"},\"yaxis\":{\"backgroundcolor\":\"#E5ECF6\",\"gridcolor\":\"white\",\"gridwidth\":2,\"linecolor\":\"white\",\"showbackground\":true,\"ticks\":\"\",\"zerolinecolor\":\"white\"},\"zaxis\":{\"backgroundcolor\":\"#E5ECF6\",\"gridcolor\":\"white\",\"gridwidth\":2,\"linecolor\":\"white\",\"showbackground\":true,\"ticks\":\"\",\"zerolinecolor\":\"white\"}},\"shapedefaults\":{\"line\":{\"color\":\"#2a3f5f\"}},\"ternary\":{\"aaxis\":{\"gridcolor\":\"white\",\"linecolor\":\"white\",\"ticks\":\"\"},\"baxis\":{\"gridcolor\":\"white\",\"linecolor\":\"white\",\"ticks\":\"\"},\"bgcolor\":\"#E5ECF6\",\"caxis\":{\"gridcolor\":\"white\",\"linecolor\":\"white\",\"ticks\":\"\"}},\"title\":{\"x\":0.05},\"xaxis\":{\"automargin\":true,\"gridcolor\":\"white\",\"linecolor\":\"white\",\"ticks\":\"\",\"title\":{\"standoff\":15},\"zerolinecolor\":\"white\",\"zerolinewidth\":2},\"yaxis\":{\"automargin\":true,\"gridcolor\":\"white\",\"linecolor\":\"white\",\"ticks\":\"\",\"title\":{\"standoff\":15},\"zerolinecolor\":\"white\",\"zerolinewidth\":2}}},\"xaxis\":{\"anchor\":\"y\",\"domain\":[0.0,1.0],\"title\":{\"text\":\"endangered_species\"},\"categoryorder\":\"array\",\"categoryarray\":[\"caiman latirostris\",\"great white shark\",\"ground beetle\",\"halibut\",\"nile crocodile\",\"ostrich\",\"redfish\",\"sand tiger shark\",\"silky shark\",\"wolf\"]},\"yaxis\":{\"anchor\":\"x\",\"domain\":[0.0,1.0],\"title\":{\"text\":\"count\"}},\"legend\":{\"title\":{\"text\":\"endangered_species\"},\"tracegroupgap\":0},\"title\":{\"text\":\"Top 10 Illegally traded animals\"},\"barmode\":\"relative\"},                        {\"responsive\": true}                    ).then(function(){\n",
              "                            \n",
              "var gd = document.getElementById('05f6aef8-c58d-42cd-bcf7-7a4f221d5bd8');\n",
              "var x = new MutationObserver(function (mutations, observer) {{\n",
              "        var display = window.getComputedStyle(gd).display;\n",
              "        if (!display || display === 'none') {{\n",
              "            console.log([gd, 'removed!']);\n",
              "            Plotly.purge(gd);\n",
              "            observer.disconnect();\n",
              "        }}\n",
              "}});\n",
              "\n",
              "// Listen for the removal of the full notebook cells\n",
              "var notebookContainer = gd.closest('#notebook-container');\n",
              "if (notebookContainer) {{\n",
              "    x.observe(notebookContainer, {childList: true});\n",
              "}}\n",
              "\n",
              "// Listen for the clearing of the current output cell\n",
              "var outputEl = gd.closest('.output');\n",
              "if (outputEl) {{\n",
              "    x.observe(outputEl, {childList: true});\n",
              "}}\n",
              "\n",
              "                        })                };                });            </script>        </div>"
            ]
          },
          "metadata": {},
          "output_type": "display_data"
        }
      ],
      "source": [
        "fig = px.bar(top_10_illegally_traded_wildlife, y='count', x='endangered_species', color='endangered_species',\n",
        "             title=\"Top 10 Illegally traded animals\", text=top_10_illegally_traded_wildlife['count'].astype(str))\n",
        "fig.show()"
      ]
    },
    {
      "cell_type": "code",
      "execution_count": null,
      "id": "f8d95fd0",
      "metadata": {
        "id": "f8d95fd0"
      },
      "outputs": [],
      "source": [
        "illegal_trade_country_count = illegal_trade_df['country'].value_counts().reset_index()\n",
        "illegal_trade_country_count.columns = ['country', 'count']"
      ]
    },
    {
      "cell_type": "code",
      "execution_count": null,
      "id": "a11fd4c2",
      "metadata": {
        "id": "a11fd4c2",
        "outputId": "2991157b-6cad-4270-ae69-0a570064f7a8"
      },
      "outputs": [
        {
          "data": {
            "text/html": [
              "<div>\n",
              "<style scoped>\n",
              "    .dataframe tbody tr th:only-of-type {\n",
              "        vertical-align: middle;\n",
              "    }\n",
              "\n",
              "    .dataframe tbody tr th {\n",
              "        vertical-align: top;\n",
              "    }\n",
              "\n",
              "    .dataframe thead th {\n",
              "        text-align: right;\n",
              "    }\n",
              "</style>\n",
              "<table border=\"1\" class=\"dataframe\">\n",
              "  <thead>\n",
              "    <tr style=\"text-align: right;\">\n",
              "      <th></th>\n",
              "      <th>country</th>\n",
              "      <th>count</th>\n",
              "    </tr>\n",
              "  </thead>\n",
              "  <tbody>\n",
              "    <tr>\n",
              "      <th>0</th>\n",
              "      <td>United States</td>\n",
              "      <td>1064</td>\n",
              "    </tr>\n",
              "    <tr>\n",
              "      <th>1</th>\n",
              "      <td>Canada</td>\n",
              "      <td>562</td>\n",
              "    </tr>\n",
              "    <tr>\n",
              "      <th>2</th>\n",
              "      <td>United Kingdom</td>\n",
              "      <td>560</td>\n",
              "    </tr>\n",
              "    <tr>\n",
              "      <th>3</th>\n",
              "      <td>Australia</td>\n",
              "      <td>455</td>\n",
              "    </tr>\n",
              "    <tr>\n",
              "      <th>4</th>\n",
              "      <td>France</td>\n",
              "      <td>180</td>\n",
              "    </tr>\n",
              "    <tr>\n",
              "      <th>5</th>\n",
              "      <td>Singapore</td>\n",
              "      <td>154</td>\n",
              "    </tr>\n",
              "    <tr>\n",
              "      <th>6</th>\n",
              "      <td>Germany</td>\n",
              "      <td>111</td>\n",
              "    </tr>\n",
              "    <tr>\n",
              "      <th>7</th>\n",
              "      <td>Ireland</td>\n",
              "      <td>104</td>\n",
              "    </tr>\n",
              "    <tr>\n",
              "      <th>8</th>\n",
              "      <td>Italy</td>\n",
              "      <td>93</td>\n",
              "    </tr>\n",
              "    <tr>\n",
              "      <th>9</th>\n",
              "      <td>New Zealand</td>\n",
              "      <td>80</td>\n",
              "    </tr>\n",
              "  </tbody>\n",
              "</table>\n",
              "</div>"
            ],
            "text/plain": [
              "          country  count\n",
              "0   United States   1064\n",
              "1          Canada    562\n",
              "2  United Kingdom    560\n",
              "3       Australia    455\n",
              "4          France    180\n",
              "5       Singapore    154\n",
              "6         Germany    111\n",
              "7         Ireland    104\n",
              "8           Italy     93\n",
              "9     New Zealand     80"
            ]
          },
          "execution_count": 281,
          "metadata": {},
          "output_type": "execute_result"
        }
      ],
      "source": [
        "illegal_trade_country_count.head(10)"
      ]
    },
    {
      "cell_type": "code",
      "execution_count": null,
      "id": "7ae7ef01",
      "metadata": {
        "id": "7ae7ef01",
        "outputId": "649c1a6d-19a0-4afa-bd8b-8366a14b3136"
      },
      "outputs": [
        {
          "data": {
            "application/vnd.plotly.v1+json": {
              "config": {
                "plotlyServerURL": "https://plot.ly"
              },
              "data": [
                {
                  "coloraxis": "coloraxis",
                  "geo": "geo",
                  "hovertemplate": "<b>%{hovertext}</b><br><br>country=%{location}<br>count=%{z}<extra></extra>",
                  "hovertext": [
                    "United States",
                    "Canada",
                    "United Kingdom",
                    "Australia",
                    "France",
                    "Singapore",
                    "Germany",
                    "Ireland",
                    "Italy",
                    "New Zealand",
                    "Hong Kong",
                    "Malaysia",
                    "Netherlands",
                    "China",
                    "Spain",
                    "Switzerland",
                    "Austria",
                    "Vietnam",
                    "Japan",
                    "Thailand",
                    "Sri Lanka",
                    "Indonesia",
                    "Ukraine",
                    "India",
                    "Cyprus",
                    "Morocco",
                    "Egypt",
                    "Portugal",
                    "Belarus",
                    "Belgium",
                    "Hungary",
                    "Romania",
                    "Kenya",
                    "Lithuania",
                    "Poland",
                    "Czech Republic",
                    "Moldavia"
                  ],
                  "locationmode": "country names",
                  "locations": [
                    "United States",
                    "Canada",
                    "United Kingdom",
                    "Australia",
                    "France",
                    "Singapore",
                    "Germany",
                    "Ireland",
                    "Italy",
                    "New Zealand",
                    "Hong Kong",
                    "Malaysia",
                    "Netherlands",
                    "China",
                    "Spain",
                    "Switzerland",
                    "Austria",
                    "Vietnam",
                    "Japan",
                    "Thailand",
                    "Sri Lanka",
                    "Indonesia",
                    "Ukraine",
                    "India",
                    "Cyprus",
                    "Morocco",
                    "Egypt",
                    "Portugal",
                    "Belarus",
                    "Belgium",
                    "Hungary",
                    "Romania",
                    "Kenya",
                    "Lithuania",
                    "Poland",
                    "Czech Republic",
                    "Moldavia"
                  ],
                  "name": "",
                  "type": "choropleth",
                  "z": [
                    1064,
                    562,
                    560,
                    455,
                    180,
                    154,
                    111,
                    104,
                    93,
                    80,
                    61,
                    61,
                    60,
                    57,
                    55,
                    52,
                    47,
                    14,
                    6,
                    5,
                    4,
                    3,
                    3,
                    3,
                    2,
                    2,
                    1,
                    1,
                    1,
                    1,
                    1,
                    1,
                    1,
                    1,
                    1,
                    1,
                    1
                  ]
                }
              ],
              "layout": {
                "coloraxis": {
                  "colorbar": {
                    "title": {
                      "text": "count"
                    }
                  },
                  "colorscale": [
                    [
                      0,
                      "#0d0887"
                    ],
                    [
                      0.1111111111111111,
                      "#46039f"
                    ],
                    [
                      0.2222222222222222,
                      "#7201a8"
                    ],
                    [
                      0.3333333333333333,
                      "#9c179e"
                    ],
                    [
                      0.4444444444444444,
                      "#bd3786"
                    ],
                    [
                      0.5555555555555556,
                      "#d8576b"
                    ],
                    [
                      0.6666666666666666,
                      "#ed7953"
                    ],
                    [
                      0.7777777777777778,
                      "#fb9f3a"
                    ],
                    [
                      0.8888888888888888,
                      "#fdca26"
                    ],
                    [
                      1,
                      "#f0f921"
                    ]
                  ]
                },
                "geo": {
                  "center": {},
                  "domain": {
                    "x": [
                      0,
                      1
                    ],
                    "y": [
                      0,
                      1
                    ]
                  },
                  "projection": {
                    "type": "natural earth"
                  }
                },
                "legend": {
                  "tracegroupgap": 0
                },
                "template": {
                  "data": {
                    "bar": [
                      {
                        "error_x": {
                          "color": "#2a3f5f"
                        },
                        "error_y": {
                          "color": "#2a3f5f"
                        },
                        "marker": {
                          "line": {
                            "color": "#E5ECF6",
                            "width": 0.5
                          },
                          "pattern": {
                            "fillmode": "overlay",
                            "size": 10,
                            "solidity": 0.2
                          }
                        },
                        "type": "bar"
                      }
                    ],
                    "barpolar": [
                      {
                        "marker": {
                          "line": {
                            "color": "#E5ECF6",
                            "width": 0.5
                          },
                          "pattern": {
                            "fillmode": "overlay",
                            "size": 10,
                            "solidity": 0.2
                          }
                        },
                        "type": "barpolar"
                      }
                    ],
                    "carpet": [
                      {
                        "aaxis": {
                          "endlinecolor": "#2a3f5f",
                          "gridcolor": "white",
                          "linecolor": "white",
                          "minorgridcolor": "white",
                          "startlinecolor": "#2a3f5f"
                        },
                        "baxis": {
                          "endlinecolor": "#2a3f5f",
                          "gridcolor": "white",
                          "linecolor": "white",
                          "minorgridcolor": "white",
                          "startlinecolor": "#2a3f5f"
                        },
                        "type": "carpet"
                      }
                    ],
                    "choropleth": [
                      {
                        "colorbar": {
                          "outlinewidth": 0,
                          "ticks": ""
                        },
                        "type": "choropleth"
                      }
                    ],
                    "contour": [
                      {
                        "colorbar": {
                          "outlinewidth": 0,
                          "ticks": ""
                        },
                        "colorscale": [
                          [
                            0,
                            "#0d0887"
                          ],
                          [
                            0.1111111111111111,
                            "#46039f"
                          ],
                          [
                            0.2222222222222222,
                            "#7201a8"
                          ],
                          [
                            0.3333333333333333,
                            "#9c179e"
                          ],
                          [
                            0.4444444444444444,
                            "#bd3786"
                          ],
                          [
                            0.5555555555555556,
                            "#d8576b"
                          ],
                          [
                            0.6666666666666666,
                            "#ed7953"
                          ],
                          [
                            0.7777777777777778,
                            "#fb9f3a"
                          ],
                          [
                            0.8888888888888888,
                            "#fdca26"
                          ],
                          [
                            1,
                            "#f0f921"
                          ]
                        ],
                        "type": "contour"
                      }
                    ],
                    "contourcarpet": [
                      {
                        "colorbar": {
                          "outlinewidth": 0,
                          "ticks": ""
                        },
                        "type": "contourcarpet"
                      }
                    ],
                    "heatmap": [
                      {
                        "colorbar": {
                          "outlinewidth": 0,
                          "ticks": ""
                        },
                        "colorscale": [
                          [
                            0,
                            "#0d0887"
                          ],
                          [
                            0.1111111111111111,
                            "#46039f"
                          ],
                          [
                            0.2222222222222222,
                            "#7201a8"
                          ],
                          [
                            0.3333333333333333,
                            "#9c179e"
                          ],
                          [
                            0.4444444444444444,
                            "#bd3786"
                          ],
                          [
                            0.5555555555555556,
                            "#d8576b"
                          ],
                          [
                            0.6666666666666666,
                            "#ed7953"
                          ],
                          [
                            0.7777777777777778,
                            "#fb9f3a"
                          ],
                          [
                            0.8888888888888888,
                            "#fdca26"
                          ],
                          [
                            1,
                            "#f0f921"
                          ]
                        ],
                        "type": "heatmap"
                      }
                    ],
                    "heatmapgl": [
                      {
                        "colorbar": {
                          "outlinewidth": 0,
                          "ticks": ""
                        },
                        "colorscale": [
                          [
                            0,
                            "#0d0887"
                          ],
                          [
                            0.1111111111111111,
                            "#46039f"
                          ],
                          [
                            0.2222222222222222,
                            "#7201a8"
                          ],
                          [
                            0.3333333333333333,
                            "#9c179e"
                          ],
                          [
                            0.4444444444444444,
                            "#bd3786"
                          ],
                          [
                            0.5555555555555556,
                            "#d8576b"
                          ],
                          [
                            0.6666666666666666,
                            "#ed7953"
                          ],
                          [
                            0.7777777777777778,
                            "#fb9f3a"
                          ],
                          [
                            0.8888888888888888,
                            "#fdca26"
                          ],
                          [
                            1,
                            "#f0f921"
                          ]
                        ],
                        "type": "heatmapgl"
                      }
                    ],
                    "histogram": [
                      {
                        "marker": {
                          "pattern": {
                            "fillmode": "overlay",
                            "size": 10,
                            "solidity": 0.2
                          }
                        },
                        "type": "histogram"
                      }
                    ],
                    "histogram2d": [
                      {
                        "colorbar": {
                          "outlinewidth": 0,
                          "ticks": ""
                        },
                        "colorscale": [
                          [
                            0,
                            "#0d0887"
                          ],
                          [
                            0.1111111111111111,
                            "#46039f"
                          ],
                          [
                            0.2222222222222222,
                            "#7201a8"
                          ],
                          [
                            0.3333333333333333,
                            "#9c179e"
                          ],
                          [
                            0.4444444444444444,
                            "#bd3786"
                          ],
                          [
                            0.5555555555555556,
                            "#d8576b"
                          ],
                          [
                            0.6666666666666666,
                            "#ed7953"
                          ],
                          [
                            0.7777777777777778,
                            "#fb9f3a"
                          ],
                          [
                            0.8888888888888888,
                            "#fdca26"
                          ],
                          [
                            1,
                            "#f0f921"
                          ]
                        ],
                        "type": "histogram2d"
                      }
                    ],
                    "histogram2dcontour": [
                      {
                        "colorbar": {
                          "outlinewidth": 0,
                          "ticks": ""
                        },
                        "colorscale": [
                          [
                            0,
                            "#0d0887"
                          ],
                          [
                            0.1111111111111111,
                            "#46039f"
                          ],
                          [
                            0.2222222222222222,
                            "#7201a8"
                          ],
                          [
                            0.3333333333333333,
                            "#9c179e"
                          ],
                          [
                            0.4444444444444444,
                            "#bd3786"
                          ],
                          [
                            0.5555555555555556,
                            "#d8576b"
                          ],
                          [
                            0.6666666666666666,
                            "#ed7953"
                          ],
                          [
                            0.7777777777777778,
                            "#fb9f3a"
                          ],
                          [
                            0.8888888888888888,
                            "#fdca26"
                          ],
                          [
                            1,
                            "#f0f921"
                          ]
                        ],
                        "type": "histogram2dcontour"
                      }
                    ],
                    "mesh3d": [
                      {
                        "colorbar": {
                          "outlinewidth": 0,
                          "ticks": ""
                        },
                        "type": "mesh3d"
                      }
                    ],
                    "parcoords": [
                      {
                        "line": {
                          "colorbar": {
                            "outlinewidth": 0,
                            "ticks": ""
                          }
                        },
                        "type": "parcoords"
                      }
                    ],
                    "pie": [
                      {
                        "automargin": true,
                        "type": "pie"
                      }
                    ],
                    "scatter": [
                      {
                        "marker": {
                          "colorbar": {
                            "outlinewidth": 0,
                            "ticks": ""
                          }
                        },
                        "type": "scatter"
                      }
                    ],
                    "scatter3d": [
                      {
                        "line": {
                          "colorbar": {
                            "outlinewidth": 0,
                            "ticks": ""
                          }
                        },
                        "marker": {
                          "colorbar": {
                            "outlinewidth": 0,
                            "ticks": ""
                          }
                        },
                        "type": "scatter3d"
                      }
                    ],
                    "scattercarpet": [
                      {
                        "marker": {
                          "colorbar": {
                            "outlinewidth": 0,
                            "ticks": ""
                          }
                        },
                        "type": "scattercarpet"
                      }
                    ],
                    "scattergeo": [
                      {
                        "marker": {
                          "colorbar": {
                            "outlinewidth": 0,
                            "ticks": ""
                          }
                        },
                        "type": "scattergeo"
                      }
                    ],
                    "scattergl": [
                      {
                        "marker": {
                          "colorbar": {
                            "outlinewidth": 0,
                            "ticks": ""
                          }
                        },
                        "type": "scattergl"
                      }
                    ],
                    "scattermapbox": [
                      {
                        "marker": {
                          "colorbar": {
                            "outlinewidth": 0,
                            "ticks": ""
                          }
                        },
                        "type": "scattermapbox"
                      }
                    ],
                    "scatterpolar": [
                      {
                        "marker": {
                          "colorbar": {
                            "outlinewidth": 0,
                            "ticks": ""
                          }
                        },
                        "type": "scatterpolar"
                      }
                    ],
                    "scatterpolargl": [
                      {
                        "marker": {
                          "colorbar": {
                            "outlinewidth": 0,
                            "ticks": ""
                          }
                        },
                        "type": "scatterpolargl"
                      }
                    ],
                    "scatterternary": [
                      {
                        "marker": {
                          "colorbar": {
                            "outlinewidth": 0,
                            "ticks": ""
                          }
                        },
                        "type": "scatterternary"
                      }
                    ],
                    "surface": [
                      {
                        "colorbar": {
                          "outlinewidth": 0,
                          "ticks": ""
                        },
                        "colorscale": [
                          [
                            0,
                            "#0d0887"
                          ],
                          [
                            0.1111111111111111,
                            "#46039f"
                          ],
                          [
                            0.2222222222222222,
                            "#7201a8"
                          ],
                          [
                            0.3333333333333333,
                            "#9c179e"
                          ],
                          [
                            0.4444444444444444,
                            "#bd3786"
                          ],
                          [
                            0.5555555555555556,
                            "#d8576b"
                          ],
                          [
                            0.6666666666666666,
                            "#ed7953"
                          ],
                          [
                            0.7777777777777778,
                            "#fb9f3a"
                          ],
                          [
                            0.8888888888888888,
                            "#fdca26"
                          ],
                          [
                            1,
                            "#f0f921"
                          ]
                        ],
                        "type": "surface"
                      }
                    ],
                    "table": [
                      {
                        "cells": {
                          "fill": {
                            "color": "#EBF0F8"
                          },
                          "line": {
                            "color": "white"
                          }
                        },
                        "header": {
                          "fill": {
                            "color": "#C8D4E3"
                          },
                          "line": {
                            "color": "white"
                          }
                        },
                        "type": "table"
                      }
                    ]
                  },
                  "layout": {
                    "annotationdefaults": {
                      "arrowcolor": "#2a3f5f",
                      "arrowhead": 0,
                      "arrowwidth": 1
                    },
                    "autotypenumbers": "strict",
                    "coloraxis": {
                      "colorbar": {
                        "outlinewidth": 0,
                        "ticks": ""
                      }
                    },
                    "colorscale": {
                      "diverging": [
                        [
                          0,
                          "#8e0152"
                        ],
                        [
                          0.1,
                          "#c51b7d"
                        ],
                        [
                          0.2,
                          "#de77ae"
                        ],
                        [
                          0.3,
                          "#f1b6da"
                        ],
                        [
                          0.4,
                          "#fde0ef"
                        ],
                        [
                          0.5,
                          "#f7f7f7"
                        ],
                        [
                          0.6,
                          "#e6f5d0"
                        ],
                        [
                          0.7,
                          "#b8e186"
                        ],
                        [
                          0.8,
                          "#7fbc41"
                        ],
                        [
                          0.9,
                          "#4d9221"
                        ],
                        [
                          1,
                          "#276419"
                        ]
                      ],
                      "sequential": [
                        [
                          0,
                          "#0d0887"
                        ],
                        [
                          0.1111111111111111,
                          "#46039f"
                        ],
                        [
                          0.2222222222222222,
                          "#7201a8"
                        ],
                        [
                          0.3333333333333333,
                          "#9c179e"
                        ],
                        [
                          0.4444444444444444,
                          "#bd3786"
                        ],
                        [
                          0.5555555555555556,
                          "#d8576b"
                        ],
                        [
                          0.6666666666666666,
                          "#ed7953"
                        ],
                        [
                          0.7777777777777778,
                          "#fb9f3a"
                        ],
                        [
                          0.8888888888888888,
                          "#fdca26"
                        ],
                        [
                          1,
                          "#f0f921"
                        ]
                      ],
                      "sequentialminus": [
                        [
                          0,
                          "#0d0887"
                        ],
                        [
                          0.1111111111111111,
                          "#46039f"
                        ],
                        [
                          0.2222222222222222,
                          "#7201a8"
                        ],
                        [
                          0.3333333333333333,
                          "#9c179e"
                        ],
                        [
                          0.4444444444444444,
                          "#bd3786"
                        ],
                        [
                          0.5555555555555556,
                          "#d8576b"
                        ],
                        [
                          0.6666666666666666,
                          "#ed7953"
                        ],
                        [
                          0.7777777777777778,
                          "#fb9f3a"
                        ],
                        [
                          0.8888888888888888,
                          "#fdca26"
                        ],
                        [
                          1,
                          "#f0f921"
                        ]
                      ]
                    },
                    "colorway": [
                      "#636efa",
                      "#EF553B",
                      "#00cc96",
                      "#ab63fa",
                      "#FFA15A",
                      "#19d3f3",
                      "#FF6692",
                      "#B6E880",
                      "#FF97FF",
                      "#FECB52"
                    ],
                    "font": {
                      "color": "#2a3f5f"
                    },
                    "geo": {
                      "bgcolor": "white",
                      "lakecolor": "white",
                      "landcolor": "#E5ECF6",
                      "showlakes": true,
                      "showland": true,
                      "subunitcolor": "white"
                    },
                    "hoverlabel": {
                      "align": "left"
                    },
                    "hovermode": "closest",
                    "mapbox": {
                      "style": "light"
                    },
                    "paper_bgcolor": "white",
                    "plot_bgcolor": "#E5ECF6",
                    "polar": {
                      "angularaxis": {
                        "gridcolor": "white",
                        "linecolor": "white",
                        "ticks": ""
                      },
                      "bgcolor": "#E5ECF6",
                      "radialaxis": {
                        "gridcolor": "white",
                        "linecolor": "white",
                        "ticks": ""
                      }
                    },
                    "scene": {
                      "xaxis": {
                        "backgroundcolor": "#E5ECF6",
                        "gridcolor": "white",
                        "gridwidth": 2,
                        "linecolor": "white",
                        "showbackground": true,
                        "ticks": "",
                        "zerolinecolor": "white"
                      },
                      "yaxis": {
                        "backgroundcolor": "#E5ECF6",
                        "gridcolor": "white",
                        "gridwidth": 2,
                        "linecolor": "white",
                        "showbackground": true,
                        "ticks": "",
                        "zerolinecolor": "white"
                      },
                      "zaxis": {
                        "backgroundcolor": "#E5ECF6",
                        "gridcolor": "white",
                        "gridwidth": 2,
                        "linecolor": "white",
                        "showbackground": true,
                        "ticks": "",
                        "zerolinecolor": "white"
                      }
                    },
                    "shapedefaults": {
                      "line": {
                        "color": "#2a3f5f"
                      }
                    },
                    "ternary": {
                      "aaxis": {
                        "gridcolor": "white",
                        "linecolor": "white",
                        "ticks": ""
                      },
                      "baxis": {
                        "gridcolor": "white",
                        "linecolor": "white",
                        "ticks": ""
                      },
                      "bgcolor": "#E5ECF6",
                      "caxis": {
                        "gridcolor": "white",
                        "linecolor": "white",
                        "ticks": ""
                      }
                    },
                    "title": {
                      "x": 0.05
                    },
                    "xaxis": {
                      "automargin": true,
                      "gridcolor": "white",
                      "linecolor": "white",
                      "ticks": "",
                      "title": {
                        "standoff": 15
                      },
                      "zerolinecolor": "white",
                      "zerolinewidth": 2
                    },
                    "yaxis": {
                      "automargin": true,
                      "gridcolor": "white",
                      "linecolor": "white",
                      "ticks": "",
                      "title": {
                        "standoff": 15
                      },
                      "zerolinecolor": "white",
                      "zerolinewidth": 2
                    }
                  }
                },
                "title": {
                  "text": "Geographical distribution of ad listings that is a potential Illegal wildlife trade"
                }
              }
            },
            "text/html": [
              "<div>                            <div id=\"af255f33-8b02-440c-894e-e79c71b3898a\" class=\"plotly-graph-div\" style=\"height:525px; width:100%;\"></div>            <script type=\"text/javascript\">                require([\"plotly\"], function(Plotly) {                    window.PLOTLYENV=window.PLOTLYENV || {};                                    if (document.getElementById(\"af255f33-8b02-440c-894e-e79c71b3898a\")) {                    Plotly.newPlot(                        \"af255f33-8b02-440c-894e-e79c71b3898a\",                        [{\"coloraxis\":\"coloraxis\",\"geo\":\"geo\",\"hovertemplate\":\"<b>%{hovertext}</b><br><br>country=%{location}<br>count=%{z}<extra></extra>\",\"hovertext\":[\"United States\",\"Canada\",\"United Kingdom\",\"Australia\",\"France\",\"Singapore\",\"Germany\",\"Ireland\",\"Italy\",\"New Zealand\",\"Hong Kong\",\"Malaysia\",\"Netherlands\",\"China\",\"Spain\",\"Switzerland\",\"Austria\",\"Vietnam\",\"Japan\",\"Thailand\",\"Sri Lanka\",\"Indonesia\",\"Ukraine\",\"India\",\"Cyprus\",\"Morocco\",\"Egypt\",\"Portugal\",\"Belarus\",\"Belgium\",\"Hungary\",\"Romania\",\"Kenya\",\"Lithuania\",\"Poland\",\"Czech Republic\",\"Moldavia\"],\"locationmode\":\"country names\",\"locations\":[\"United States\",\"Canada\",\"United Kingdom\",\"Australia\",\"France\",\"Singapore\",\"Germany\",\"Ireland\",\"Italy\",\"New Zealand\",\"Hong Kong\",\"Malaysia\",\"Netherlands\",\"China\",\"Spain\",\"Switzerland\",\"Austria\",\"Vietnam\",\"Japan\",\"Thailand\",\"Sri Lanka\",\"Indonesia\",\"Ukraine\",\"India\",\"Cyprus\",\"Morocco\",\"Egypt\",\"Portugal\",\"Belarus\",\"Belgium\",\"Hungary\",\"Romania\",\"Kenya\",\"Lithuania\",\"Poland\",\"Czech Republic\",\"Moldavia\"],\"name\":\"\",\"z\":[1064,562,560,455,180,154,111,104,93,80,61,61,60,57,55,52,47,14,6,5,4,3,3,3,2,2,1,1,1,1,1,1,1,1,1,1,1],\"type\":\"choropleth\"}],                        {\"template\":{\"data\":{\"bar\":[{\"error_x\":{\"color\":\"#2a3f5f\"},\"error_y\":{\"color\":\"#2a3f5f\"},\"marker\":{\"line\":{\"color\":\"#E5ECF6\",\"width\":0.5},\"pattern\":{\"fillmode\":\"overlay\",\"size\":10,\"solidity\":0.2}},\"type\":\"bar\"}],\"barpolar\":[{\"marker\":{\"line\":{\"color\":\"#E5ECF6\",\"width\":0.5},\"pattern\":{\"fillmode\":\"overlay\",\"size\":10,\"solidity\":0.2}},\"type\":\"barpolar\"}],\"carpet\":[{\"aaxis\":{\"endlinecolor\":\"#2a3f5f\",\"gridcolor\":\"white\",\"linecolor\":\"white\",\"minorgridcolor\":\"white\",\"startlinecolor\":\"#2a3f5f\"},\"baxis\":{\"endlinecolor\":\"#2a3f5f\",\"gridcolor\":\"white\",\"linecolor\":\"white\",\"minorgridcolor\":\"white\",\"startlinecolor\":\"#2a3f5f\"},\"type\":\"carpet\"}],\"choropleth\":[{\"colorbar\":{\"outlinewidth\":0,\"ticks\":\"\"},\"type\":\"choropleth\"}],\"contour\":[{\"colorbar\":{\"outlinewidth\":0,\"ticks\":\"\"},\"colorscale\":[[0.0,\"#0d0887\"],[0.1111111111111111,\"#46039f\"],[0.2222222222222222,\"#7201a8\"],[0.3333333333333333,\"#9c179e\"],[0.4444444444444444,\"#bd3786\"],[0.5555555555555556,\"#d8576b\"],[0.6666666666666666,\"#ed7953\"],[0.7777777777777778,\"#fb9f3a\"],[0.8888888888888888,\"#fdca26\"],[1.0,\"#f0f921\"]],\"type\":\"contour\"}],\"contourcarpet\":[{\"colorbar\":{\"outlinewidth\":0,\"ticks\":\"\"},\"type\":\"contourcarpet\"}],\"heatmap\":[{\"colorbar\":{\"outlinewidth\":0,\"ticks\":\"\"},\"colorscale\":[[0.0,\"#0d0887\"],[0.1111111111111111,\"#46039f\"],[0.2222222222222222,\"#7201a8\"],[0.3333333333333333,\"#9c179e\"],[0.4444444444444444,\"#bd3786\"],[0.5555555555555556,\"#d8576b\"],[0.6666666666666666,\"#ed7953\"],[0.7777777777777778,\"#fb9f3a\"],[0.8888888888888888,\"#fdca26\"],[1.0,\"#f0f921\"]],\"type\":\"heatmap\"}],\"heatmapgl\":[{\"colorbar\":{\"outlinewidth\":0,\"ticks\":\"\"},\"colorscale\":[[0.0,\"#0d0887\"],[0.1111111111111111,\"#46039f\"],[0.2222222222222222,\"#7201a8\"],[0.3333333333333333,\"#9c179e\"],[0.4444444444444444,\"#bd3786\"],[0.5555555555555556,\"#d8576b\"],[0.6666666666666666,\"#ed7953\"],[0.7777777777777778,\"#fb9f3a\"],[0.8888888888888888,\"#fdca26\"],[1.0,\"#f0f921\"]],\"type\":\"heatmapgl\"}],\"histogram\":[{\"marker\":{\"pattern\":{\"fillmode\":\"overlay\",\"size\":10,\"solidity\":0.2}},\"type\":\"histogram\"}],\"histogram2d\":[{\"colorbar\":{\"outlinewidth\":0,\"ticks\":\"\"},\"colorscale\":[[0.0,\"#0d0887\"],[0.1111111111111111,\"#46039f\"],[0.2222222222222222,\"#7201a8\"],[0.3333333333333333,\"#9c179e\"],[0.4444444444444444,\"#bd3786\"],[0.5555555555555556,\"#d8576b\"],[0.6666666666666666,\"#ed7953\"],[0.7777777777777778,\"#fb9f3a\"],[0.8888888888888888,\"#fdca26\"],[1.0,\"#f0f921\"]],\"type\":\"histogram2d\"}],\"histogram2dcontour\":[{\"colorbar\":{\"outlinewidth\":0,\"ticks\":\"\"},\"colorscale\":[[0.0,\"#0d0887\"],[0.1111111111111111,\"#46039f\"],[0.2222222222222222,\"#7201a8\"],[0.3333333333333333,\"#9c179e\"],[0.4444444444444444,\"#bd3786\"],[0.5555555555555556,\"#d8576b\"],[0.6666666666666666,\"#ed7953\"],[0.7777777777777778,\"#fb9f3a\"],[0.8888888888888888,\"#fdca26\"],[1.0,\"#f0f921\"]],\"type\":\"histogram2dcontour\"}],\"mesh3d\":[{\"colorbar\":{\"outlinewidth\":0,\"ticks\":\"\"},\"type\":\"mesh3d\"}],\"parcoords\":[{\"line\":{\"colorbar\":{\"outlinewidth\":0,\"ticks\":\"\"}},\"type\":\"parcoords\"}],\"pie\":[{\"automargin\":true,\"type\":\"pie\"}],\"scatter\":[{\"marker\":{\"colorbar\":{\"outlinewidth\":0,\"ticks\":\"\"}},\"type\":\"scatter\"}],\"scatter3d\":[{\"line\":{\"colorbar\":{\"outlinewidth\":0,\"ticks\":\"\"}},\"marker\":{\"colorbar\":{\"outlinewidth\":0,\"ticks\":\"\"}},\"type\":\"scatter3d\"}],\"scattercarpet\":[{\"marker\":{\"colorbar\":{\"outlinewidth\":0,\"ticks\":\"\"}},\"type\":\"scattercarpet\"}],\"scattergeo\":[{\"marker\":{\"colorbar\":{\"outlinewidth\":0,\"ticks\":\"\"}},\"type\":\"scattergeo\"}],\"scattergl\":[{\"marker\":{\"colorbar\":{\"outlinewidth\":0,\"ticks\":\"\"}},\"type\":\"scattergl\"}],\"scattermapbox\":[{\"marker\":{\"colorbar\":{\"outlinewidth\":0,\"ticks\":\"\"}},\"type\":\"scattermapbox\"}],\"scatterpolar\":[{\"marker\":{\"colorbar\":{\"outlinewidth\":0,\"ticks\":\"\"}},\"type\":\"scatterpolar\"}],\"scatterpolargl\":[{\"marker\":{\"colorbar\":{\"outlinewidth\":0,\"ticks\":\"\"}},\"type\":\"scatterpolargl\"}],\"scatterternary\":[{\"marker\":{\"colorbar\":{\"outlinewidth\":0,\"ticks\":\"\"}},\"type\":\"scatterternary\"}],\"surface\":[{\"colorbar\":{\"outlinewidth\":0,\"ticks\":\"\"},\"colorscale\":[[0.0,\"#0d0887\"],[0.1111111111111111,\"#46039f\"],[0.2222222222222222,\"#7201a8\"],[0.3333333333333333,\"#9c179e\"],[0.4444444444444444,\"#bd3786\"],[0.5555555555555556,\"#d8576b\"],[0.6666666666666666,\"#ed7953\"],[0.7777777777777778,\"#fb9f3a\"],[0.8888888888888888,\"#fdca26\"],[1.0,\"#f0f921\"]],\"type\":\"surface\"}],\"table\":[{\"cells\":{\"fill\":{\"color\":\"#EBF0F8\"},\"line\":{\"color\":\"white\"}},\"header\":{\"fill\":{\"color\":\"#C8D4E3\"},\"line\":{\"color\":\"white\"}},\"type\":\"table\"}]},\"layout\":{\"annotationdefaults\":{\"arrowcolor\":\"#2a3f5f\",\"arrowhead\":0,\"arrowwidth\":1},\"autotypenumbers\":\"strict\",\"coloraxis\":{\"colorbar\":{\"outlinewidth\":0,\"ticks\":\"\"}},\"colorscale\":{\"diverging\":[[0,\"#8e0152\"],[0.1,\"#c51b7d\"],[0.2,\"#de77ae\"],[0.3,\"#f1b6da\"],[0.4,\"#fde0ef\"],[0.5,\"#f7f7f7\"],[0.6,\"#e6f5d0\"],[0.7,\"#b8e186\"],[0.8,\"#7fbc41\"],[0.9,\"#4d9221\"],[1,\"#276419\"]],\"sequential\":[[0.0,\"#0d0887\"],[0.1111111111111111,\"#46039f\"],[0.2222222222222222,\"#7201a8\"],[0.3333333333333333,\"#9c179e\"],[0.4444444444444444,\"#bd3786\"],[0.5555555555555556,\"#d8576b\"],[0.6666666666666666,\"#ed7953\"],[0.7777777777777778,\"#fb9f3a\"],[0.8888888888888888,\"#fdca26\"],[1.0,\"#f0f921\"]],\"sequentialminus\":[[0.0,\"#0d0887\"],[0.1111111111111111,\"#46039f\"],[0.2222222222222222,\"#7201a8\"],[0.3333333333333333,\"#9c179e\"],[0.4444444444444444,\"#bd3786\"],[0.5555555555555556,\"#d8576b\"],[0.6666666666666666,\"#ed7953\"],[0.7777777777777778,\"#fb9f3a\"],[0.8888888888888888,\"#fdca26\"],[1.0,\"#f0f921\"]]},\"colorway\":[\"#636efa\",\"#EF553B\",\"#00cc96\",\"#ab63fa\",\"#FFA15A\",\"#19d3f3\",\"#FF6692\",\"#B6E880\",\"#FF97FF\",\"#FECB52\"],\"font\":{\"color\":\"#2a3f5f\"},\"geo\":{\"bgcolor\":\"white\",\"lakecolor\":\"white\",\"landcolor\":\"#E5ECF6\",\"showlakes\":true,\"showland\":true,\"subunitcolor\":\"white\"},\"hoverlabel\":{\"align\":\"left\"},\"hovermode\":\"closest\",\"mapbox\":{\"style\":\"light\"},\"paper_bgcolor\":\"white\",\"plot_bgcolor\":\"#E5ECF6\",\"polar\":{\"angularaxis\":{\"gridcolor\":\"white\",\"linecolor\":\"white\",\"ticks\":\"\"},\"bgcolor\":\"#E5ECF6\",\"radialaxis\":{\"gridcolor\":\"white\",\"linecolor\":\"white\",\"ticks\":\"\"}},\"scene\":{\"xaxis\":{\"backgroundcolor\":\"#E5ECF6\",\"gridcolor\":\"white\",\"gridwidth\":2,\"linecolor\":\"white\",\"showbackground\":true,\"ticks\":\"\",\"zerolinecolor\":\"white\"},\"yaxis\":{\"backgroundcolor\":\"#E5ECF6\",\"gridcolor\":\"white\",\"gridwidth\":2,\"linecolor\":\"white\",\"showbackground\":true,\"ticks\":\"\",\"zerolinecolor\":\"white\"},\"zaxis\":{\"backgroundcolor\":\"#E5ECF6\",\"gridcolor\":\"white\",\"gridwidth\":2,\"linecolor\":\"white\",\"showbackground\":true,\"ticks\":\"\",\"zerolinecolor\":\"white\"}},\"shapedefaults\":{\"line\":{\"color\":\"#2a3f5f\"}},\"ternary\":{\"aaxis\":{\"gridcolor\":\"white\",\"linecolor\":\"white\",\"ticks\":\"\"},\"baxis\":{\"gridcolor\":\"white\",\"linecolor\":\"white\",\"ticks\":\"\"},\"bgcolor\":\"#E5ECF6\",\"caxis\":{\"gridcolor\":\"white\",\"linecolor\":\"white\",\"ticks\":\"\"}},\"title\":{\"x\":0.05},\"xaxis\":{\"automargin\":true,\"gridcolor\":\"white\",\"linecolor\":\"white\",\"ticks\":\"\",\"title\":{\"standoff\":15},\"zerolinecolor\":\"white\",\"zerolinewidth\":2},\"yaxis\":{\"automargin\":true,\"gridcolor\":\"white\",\"linecolor\":\"white\",\"ticks\":\"\",\"title\":{\"standoff\":15},\"zerolinecolor\":\"white\",\"zerolinewidth\":2}}},\"geo\":{\"domain\":{\"x\":[0.0,1.0],\"y\":[0.0,1.0]},\"projection\":{\"type\":\"natural earth\"},\"center\":{}},\"coloraxis\":{\"colorbar\":{\"title\":{\"text\":\"count\"}},\"colorscale\":[[0.0,\"#0d0887\"],[0.1111111111111111,\"#46039f\"],[0.2222222222222222,\"#7201a8\"],[0.3333333333333333,\"#9c179e\"],[0.4444444444444444,\"#bd3786\"],[0.5555555555555556,\"#d8576b\"],[0.6666666666666666,\"#ed7953\"],[0.7777777777777778,\"#fb9f3a\"],[0.8888888888888888,\"#fdca26\"],[1.0,\"#f0f921\"]]},\"legend\":{\"tracegroupgap\":0},\"title\":{\"text\":\"Geographical distribution of ad listings that is a potential Illegal wildlife trade\"}},                        {\"responsive\": true}                    ).then(function(){\n",
              "                            \n",
              "var gd = document.getElementById('af255f33-8b02-440c-894e-e79c71b3898a');\n",
              "var x = new MutationObserver(function (mutations, observer) {{\n",
              "        var display = window.getComputedStyle(gd).display;\n",
              "        if (!display || display === 'none') {{\n",
              "            console.log([gd, 'removed!']);\n",
              "            Plotly.purge(gd);\n",
              "            observer.disconnect();\n",
              "        }}\n",
              "}});\n",
              "\n",
              "// Listen for the removal of the full notebook cells\n",
              "var notebookContainer = gd.closest('#notebook-container');\n",
              "if (notebookContainer) {{\n",
              "    x.observe(notebookContainer, {childList: true});\n",
              "}}\n",
              "\n",
              "// Listen for the clearing of the current output cell\n",
              "var outputEl = gd.closest('.output');\n",
              "if (outputEl) {{\n",
              "    x.observe(outputEl, {childList: true});\n",
              "}}\n",
              "\n",
              "                        })                };                });            </script>        </div>"
            ]
          },
          "metadata": {},
          "output_type": "display_data"
        }
      ],
      "source": [
        "fig = px.choropleth(illegal_trade_country_count, locations=\"country\", locationmode='country names',\n",
        "                    color=\"count\", hover_name=\"country\", projection='natural earth',\n",
        "                    title='Geographical distribution of ad listings that is a potential Illegal wildlife trade')\n",
        "\n",
        "fig.show()"
      ]
    },
    {
      "cell_type": "code",
      "execution_count": null,
      "id": "a11597c2",
      "metadata": {
        "id": "a11597c2"
      },
      "outputs": [],
      "source": []
    },
    {
      "cell_type": "markdown",
      "id": "8a443e47",
      "metadata": {
        "id": "8a443e47"
      },
      "source": [
        "### Remove irrelevant common words.\n",
        "Find the most common words that are irrelevant for species extraction and remove them from the 'product_cleaned' column."
      ]
    },
    {
      "cell_type": "code",
      "execution_count": null,
      "id": "b4473ccc",
      "metadata": {
        "id": "b4473ccc"
      },
      "outputs": [],
      "source": [
        "from collections import Counter"
      ]
    },
    {
      "cell_type": "code",
      "execution_count": null,
      "id": "e222426e",
      "metadata": {
        "id": "e222426e"
      },
      "outputs": [],
      "source": [
        "# The most common 800 words.\n",
        "common_words = [i[0] for i in Counter(\" \".join(df['product_cleaned']).split()).most_common()[:800]]"
      ]
    },
    {
      "cell_type": "markdown",
      "id": "35d3a163",
      "metadata": {
        "id": "35d3a163"
      },
      "source": [
        "These are the most common words in the 'product_cleaned' column. To make species extraction faster and accurate, we will remove some of these words which are not part of the 'common_kws.txt' file"
      ]
    },
    {
      "cell_type": "code",
      "execution_count": null,
      "id": "8cd7f76f",
      "metadata": {
        "id": "8cd7f76f"
      },
      "outputs": [],
      "source": [
        "# From the list of illegal animals, form a set of keywords.\n",
        "split_words = [word for phrase in illegal_animal_list for word in phrase.split()]\n",
        "illegal_animal_kws = set(split_words)"
      ]
    },
    {
      "cell_type": "code",
      "execution_count": null,
      "id": "77a31655",
      "metadata": {
        "id": "77a31655"
      },
      "outputs": [],
      "source": [
        "print(illegal_animal_kws)"
      ]
    },
    {
      "cell_type": "code",
      "execution_count": null,
      "id": "743065aa",
      "metadata": {
        "id": "743065aa"
      },
      "outputs": [],
      "source": [
        "irrelevant_common_words = [word for word in common_words if word not in common_kws and word not in illegal_animal_set]"
      ]
    },
    {
      "cell_type": "code",
      "execution_count": null,
      "id": "67400697",
      "metadata": {
        "id": "67400697",
        "outputId": "b7577280-a431-43db-a0ac-c3f2546061f9"
      },
      "outputs": [
        {
          "name": "stdout",
          "output_type": "stream",
          "text": [
            "['ebay', 'picclick', 'mens', 'black', 'boots', 'size', 'fossil', 'cowboy', 'new', 'brown', 'genuine', 'vintage', 'jaws', 'western', 'megalodon', 'blue', 'animal', 'head', 'real', 'tshirt', 'silver', 'shirt', 'necklace', 'pendant', 'mm', 'sale', 'large', 'trade', 'fish', 'pcs', 'mnh', 'full', 'toe', 'men', 'cm', 'exotic', 'd', 'red', 'inch', 'jaw', 'ebid', 'womens', 'nil', 'wild', 'feathers', 'lot', 't', 'quill', 'bag', 'art', 'rare', 'florida', 'decor', 'xl', 'plush', 'lucchese', 'soft', 'sharks', 'ocean', 'high', 'w', 'coin', 'usa', 'free', 'sea', 'handmade', 'top', 'statue', 'box', 'wallet', 'pack', 'leg', 'mount', 'gift', 'mako', 'hand', 'monster', 'green', 'bull', 'square', 'united', 'card', 'lama', 'quality', 'baby', 'wolves', 'du', 'kingdom', 'shoes', 'figurine', 'l', 'nike', 'ee', 'tony', 'decoration', 'small', 'air', 'collection', 'c', 'crocodiles', 'party', 'gold', 'vinyl', 'de', 'strap', 'christmas', 'women', 'tee', 'dress', 'american', 'belt', 'sz', 'boot', 'diver', 'fishing', 'life', 'stamp', 'proof', 'ss', 'steel', 'sculpture', 'wall', 'costume', 'gray', 'marketplace', 'store', 'era', 'grey', 'vtg', 'wedding', 'home', 'kit', 'long', 'sticker', 'tan', 'dog', 'g', 'dvd', 's', 'shoulder', 'watch', 'beach', 'sheet', 'purse', 'band', 'joe', 'uk', 'hat', 'm', 'shipping', 'resin', 'round', 'handbag', 'chain', 'e', 'wood', 'pink', 'jewelry', 'fossils', 'smooth', 'gi', 'bourke', 'dooney', 'components', 'original', 'graphic', 'hem', 'model', 'force', 'series', 'stamps', 'low', 'golf', 'kids', 'animals', 'case', 'sleeve', 'canada', 'el', 'meg', 'safari', 'mint', 'millinery', 'trim', 'clawdeen', 'nice', 'medium', 'color', 'stainless', 'halloween', 'b', 'tail', 'mini', 'decal', 'movie', 'garden', 'craft', 'print', 'brand', 'oz', 'us', 'x', 'australia', 'los', 'buddy', 'tank', 'sterling', 'scuba', 'week', 'custom', 'brush', 'adult', 'nwt', 'extinct', 'marine', 'sc', 'horror', 'moon', 'belly', 'hyperair', 'big', 'authentic', 'funko', 'gem', 'justin', 'water', 'metal', 'earth', 'wedge', 'bite', 'african', 'beautiful', 'fin', 'nature', 'wwf', 'world', 'valley', 'light', 'mountain', 'rock', 'altos', 'da', 'crystal', 'short', 'specimen', 'cotton', 'ad', 'funny', 'fauna', 'africa', 'jordan', 'yellow', 'gator', 'jacket', 'dark', 'r', 'saltwater', 'mit', 'cafe', 'iq', 'car', 'rh', 'souvenir', 'luxury', 'republic', 'tecovas', 'pin', 'ms', 'hai', 'design', 'man', 'pair', 'neuf', 'grade', 'coaster', 'tigershark', 'south', 'tuvalu', 'attack', 'style', 'scentsy', 'j', 'sg', 'croc', 'krokodil', 'river', 'diy', 'pc', 'k', 'st', 'ltd', 'bracelet', 'auction', 'cd', 'mouth', 'nc', 'neu', 'f', 'kia', 'good', 'unisex', 'cognac', 'neck', 'tigerhai', 'deer', 'ladies', 'antenna', 'fdc', 'fringse', 'roper', 'mi', 'purple', 'hoodie', 'inches', 'mattel', 'hasbro', 'ornament', 'whale', 'fox', 'rubber', 'aquarium', 'cover', 'hornback', 'crookes', 'doll', 'north', 'giant', 'boat', 'ancestral', 'tunic', 'herren', 'ii', 'john', 'yt', 'upaep', 'tie', 'lemon', 'carabidae', 'colours', 'colorful', 'huge', 'patch', 'retro', 'killer', 'diving', 'national', 'cat', 'di', 'octopus', 'premium', 'bass', 'schleich', 'gambia', 'v', 'stdibs', 'orange', 'old', 'wilderness', 'build', 'hdbrn', 'miocene', 'clip', 'hook', 'hammerhead', 'boilies', 'liver', 'bait', 'brass', 'piece', 'navy', 'duster', 'con', 'nocona', 'nanoblock', 'colors', 'hot', 'sweater', 'wooden', 'pop', 'coat', 'horse', 'boys', 'satchel', 'japan', 'von', 'embossed', 'epl', 'michael', 'accessories', 'stickers', 'display', 'ribbon', 'venice', 'silk', 'post', 'zoll', 'quartz', 'set', 'planet', 'classic', 'logo', 'del', 'glass', 'plaschtier', 'classics', 'holder', 'tip', 'plastic', 'single', 'cuir', 'h', 'sp', 'leucas', 'mug', 'wholesale', 'roof', 'cherry', 'wrap', 'coleoptera', 'scent', 'adjustable', 'spirit', 'advert', 'buffalo', 'trout', 'sj', 'paul', 'bar', 'release', 'lure', 'otodus', 'tag', 'coffee', 'thriller', 'image', 'werewolf', 'legend', 'dryer', 'xxl', 'nilo', 'sierra', 'unique', 'gloves', 'fine', 'wolfs', 'button', 'p', 'sweatshirt', 'condition', 'magazine', 'lee', 'carolina', 'morocco', 'vacuum', 'super', 'adventure', 'power', 'edition', 'shape', 'guinea', 'shutterstock', 'blouse', 'david', 'novelty', 'coccodrillo', 'shop', 'eu', 'liguus', 'ring', 'gr', 'fringe', 'food', 'triple', 'predator', 'dan', 'stone', 'et', 'tiburon', 'amazing', 'interesting', 'squalo', 'mexico', 'mask', 'collecta', 'body', 'hayward', 'club', 'double', 'taille', 'strau', 'groe', 'blanket', 'co', 'tth', 'love', 'sandtiger', 'galeocerdo', 'peru', 'anniversary', 'bu', 'hemi', 'phone', 'au', 'nilkrokodil', 'arah', 'king', 'age', 'y', 'backpack', 'swim', 'pattern', 'throw', 'para', 'geographic', 'bandai', 'uomo', 'crafts', 'waterproof', 'pen', 'miniature', 'punk', 'pesca', 'little', 'zman', 'hastalis', 'clothing', 'rwanda', 'sandtigerhai', 'arena', 'ancient', 'creek', 'amulet', 'salmon', 'filter', 'day', 'duck', 'mdf', 'shrimp', 'beige', 'anti', 'native', 'window', 'bonefish', 'insect', 'zoo', 'lace', 'carcharodon', 'chair', 'nbc', 'mezlan', 'west', 'paint', 'wire', 'face', 'pour', 'clear', 'bonus', 'base', 'fashion', 'game', 'jig', 'magnet', 'floral', 'circle', 'i', 'quick', 'plumes', 'cosplay', 'forte', 'ireland', 'park', 'micro', 'flies', 'rodeo', 'casual', 'eye', 'hippopotamus', 'simmons', 'hands', 'postcard', 'cuff', 'littlest', 'oxford', 'buckle', 'main', 'boy', 'curse', 'paperback', 'reptiles', 'tall', 'tone', 'jb', 'landsnail', 'bones', 'brushes', 'acrylic', 'ceramic', 'chicken', 'eggs', 'ania', 'mouse', 'berkley', 'goat', 'requin', 'sport', 'bulk', 'plume', 'skirt', 'ct', 'tanzania', 'beanie', 'wave', 'camo', 'glossy', 'noir', 'crab', 'catfish', 'studio', 'poche', 'o', 'burgundy', 'gumtree', 'n', 'nib', 'crossbody', 'dye', 'crown', 'dinosaur', 'necklaces', 'travel', 'front', 'sleeveless', 'canvas', 'bottle', 'excellent', 'minnow', 'en', 'reef', 'das', 'claws', 'tigre', 'reiki', 'obsidian', 'fluffy', 'cleaner', 'board', 'u', 'coa', 'truck', 'howl', 'ariat', 'pb', 'swamp', 'scary', 'diversity', 'vol', 'plaque', 'bluray', 'side', 'italy', 'cape', 'cool', 'pirotta', 'togo', 'mozambique', 'antler', 'dillon', 'yeehaw', 'table', 'egyptian', 'lobo', 'complete', 'birthday', 'calf', 'larry', 'mustad', 'leder', 'rat', 'dusky', 'euc', 'euro', 'dunk', 'dd', 'tribal', 'farm', 'peter', 'howlin', 'bundle', 'alaska', 'stitch', 'snaggletooth', 'shiny', 'whitetail', 'gym', 'action', 'panatime', 'restorations', 'cowgirl', 'sharp', 'repair', 'crane', 'hard', 'sobek', 'rabbit', 'damen', 'gran', 'nwot', 'gulp', 'timbre', 'kenya', 'pro', 'livre', 'stofftier', 'schnell', 'downs', 'import', 'kieran', 'nicest', 'brinquedo', 'child', 'decorative', 'detail', 'copper', 'pure', 'fang', 'puppet', 'flat', 'perry', 'shoe', 'weier', 'lucky', 'shad', 'limited', 'dr', 'shorts']\n"
          ]
        }
      ],
      "source": [
        "print(irrelevant_common_words)"
      ]
    },
    {
      "cell_type": "code",
      "execution_count": null,
      "id": "20db7147",
      "metadata": {
        "id": "20db7147",
        "outputId": "7f68804a-5370-493a-b09b-a42a7bffeeaa"
      },
      "outputs": [
        {
          "data": {
            "text/plain": [
              "735"
            ]
          },
          "execution_count": 33,
          "metadata": {},
          "output_type": "execute_result"
        }
      ],
      "source": [
        "len(irrelevant_common_words)"
      ]
    },
    {
      "cell_type": "code",
      "execution_count": null,
      "id": "cd00acf1",
      "metadata": {
        "id": "cd00acf1"
      },
      "outputs": [],
      "source": [
        "def remove_irrelevant_words(text):\n",
        "    # Tokenize the text\n",
        "    words = text.split()\n",
        "\n",
        "    # Remove irrelevant words\n",
        "    words = [word for word in words if word.lower() not in irrelevant_common_words]\n",
        "\n",
        "    cleaned_text = ' '.join(words)\n",
        "\n",
        "    return cleaned_text"
      ]
    },
    {
      "cell_type": "code",
      "execution_count": null,
      "id": "e4336996",
      "metadata": {
        "id": "e4336996"
      },
      "outputs": [],
      "source": [
        "df['product_cleaned'] = df['product_cleaned'].apply(remove_irrelevant_words)"
      ]
    },
    {
      "cell_type": "code",
      "execution_count": null,
      "id": "02266d8a",
      "metadata": {
        "id": "02266d8a",
        "outputId": "52b96887-8aac-4376-9d60-45543b8ef42e"
      },
      "outputs": [
        {
          "data": {
            "text/plain": [
              "17399                                                tiger\n",
              "17401                                                teeth\n",
              "17407                             proximus scitulus tachys\n",
              "17418                     merops niloticus nubicus varanus\n",
              "17419                                       mastige proofs\n",
              "17427                              great iuuou shark white\n",
              "17428    crocodile dollars iaia islands nile solomon sp...\n",
              "17429                                    ieatanzania polar\n",
              "17431                              bone iiblue shark tooth\n",
              "17432                                          shark white\n",
              "Name: product_cleaned, dtype: object"
            ]
          },
          "execution_count": 36,
          "metadata": {},
          "output_type": "execute_result"
        }
      ],
      "source": [
        "df['product_cleaned'].tail(10)"
      ]
    },
    {
      "cell_type": "markdown",
      "id": "c36f1e5d",
      "metadata": {
        "id": "c36f1e5d"
      },
      "source": [
        "After removing irrelevant words from the 'product_cleaned' column, some rows are left empty for this column. So, we will remove them from our dataset."
      ]
    },
    {
      "cell_type": "code",
      "execution_count": null,
      "id": "41cf1efc",
      "metadata": {
        "id": "41cf1efc"
      },
      "outputs": [],
      "source": [
        "df = df[~(df['product_cleaned'] == '')]"
      ]
    },
    {
      "cell_type": "code",
      "execution_count": null,
      "id": "c2efa170",
      "metadata": {
        "id": "c2efa170",
        "outputId": "19f1bc9e-9532-4062-fc45-129e47e67434"
      },
      "outputs": [
        {
          "data": {
            "text/plain": [
              "8628"
            ]
          },
          "execution_count": 38,
          "metadata": {},
          "output_type": "execute_result"
        }
      ],
      "source": [
        "df.shape[0]"
      ]
    },
    {
      "cell_type": "markdown",
      "id": "11f47fd2",
      "metadata": {
        "id": "11f47fd2"
      },
      "source": [
        "We removed around 50 rows."
      ]
    },
    {
      "cell_type": "markdown",
      "id": "c0a4ba50",
      "metadata": {
        "id": "c0a4ba50"
      },
      "source": [
        "# Species extraction using TaxoNERD\n",
        "TaxoNERD is a domain-specific tool for recognizing taxon mentions in the biodiversity literature.\n",
        "We will use the 'en_core_eco_biobert' model to extract species name from the text in the pre-processed 'product' column."
      ]
    },
    {
      "cell_type": "code",
      "execution_count": null,
      "id": "1bdeb001",
      "metadata": {
        "id": "1bdeb001"
      },
      "outputs": [],
      "source": [
        "pip install taxonerd"
      ]
    },
    {
      "cell_type": "code",
      "execution_count": null,
      "id": "b9c541fb",
      "metadata": {
        "id": "b9c541fb"
      },
      "outputs": [],
      "source": [
        "pip install https://github.com/nleguillarme/taxonerd/releases/download/v1.5.0/en_core_eco_biobert-1.0.2.tar.gz"
      ]
    },
    {
      "cell_type": "code",
      "execution_count": null,
      "id": "ed80ea45",
      "metadata": {
        "id": "ed80ea45"
      },
      "outputs": [],
      "source": [
        "from taxonerd import TaxoNERD"
      ]
    },
    {
      "cell_type": "code",
      "execution_count": null,
      "id": "bd41b5b1",
      "metadata": {
        "id": "bd41b5b1"
      },
      "outputs": [],
      "source": [
        "taxonerd = TaxoNERD(prefer_gpu=False)"
      ]
    },
    {
      "cell_type": "code",
      "execution_count": null,
      "id": "823e6297",
      "metadata": {
        "id": "823e6297"
      },
      "outputs": [],
      "source": [
        "# Load taxonerd model\n",
        "nlp = taxonerd.load(model=\"en_core_eco_biobert\")"
      ]
    },
    {
      "cell_type": "code",
      "execution_count": null,
      "id": "b5d89d90",
      "metadata": {
        "id": "b5d89d90",
        "outputId": "bbe55f95-bebb-45f3-ba38-03d5dea6dcf1"
      },
      "outputs": [
        {
          "data": {
            "text/html": [
              "<div>\n",
              "<style scoped>\n",
              "    .dataframe tbody tr th:only-of-type {\n",
              "        vertical-align: middle;\n",
              "    }\n",
              "\n",
              "    .dataframe tbody tr th {\n",
              "        vertical-align: top;\n",
              "    }\n",
              "\n",
              "    .dataframe thead th {\n",
              "        text-align: right;\n",
              "    }\n",
              "</style>\n",
              "<table border=\"1\" class=\"dataframe\">\n",
              "  <thead>\n",
              "    <tr style=\"text-align: right;\">\n",
              "      <th></th>\n",
              "      <th>offsets</th>\n",
              "      <th>text</th>\n",
              "      <th>sent</th>\n",
              "    </tr>\n",
              "  </thead>\n",
              "  <tbody>\n",
              "    <tr>\n",
              "      <th>T0</th>\n",
              "      <td>LIVB 0 18</td>\n",
              "      <td>shark white tshirt</td>\n",
              "      <td>0</td>\n",
              "    </tr>\n",
              "  </tbody>\n",
              "</table>\n",
              "</div>"
            ],
            "text/plain": [
              "      offsets                text  sent\n",
              "T0  LIVB 0 18  shark white tshirt     0"
            ]
          },
          "execution_count": 323,
          "metadata": {},
          "output_type": "execute_result"
        }
      ],
      "source": [
        "# Example of using taxonerd to extract species from text.\n",
        "taxonerd.find_in_text(\"shark white tshirt\")"
      ]
    },
    {
      "cell_type": "code",
      "execution_count": null,
      "id": "d7576900",
      "metadata": {
        "id": "d7576900"
      },
      "outputs": [],
      "source": [
        "def get_species(name):\n",
        "    try:\n",
        "        doc = nlp(name)\n",
        "        return doc.ents[0]\n",
        "    except:\n",
        "        return None"
      ]
    },
    {
      "cell_type": "code",
      "execution_count": null,
      "id": "97958195",
      "metadata": {
        "id": "97958195"
      },
      "outputs": [],
      "source": [
        "df['species'] = df['product_cleaned'].apply(get_species)"
      ]
    },
    {
      "cell_type": "code",
      "execution_count": null,
      "id": "f28bb40d",
      "metadata": {
        "id": "f28bb40d",
        "outputId": "35416414-dccc-4c21-d3ff-a3f2f589ea61"
      },
      "outputs": [
        {
          "data": {
            "text/html": [
              "<div>\n",
              "<style scoped>\n",
              "    .dataframe tbody tr th:only-of-type {\n",
              "        vertical-align: middle;\n",
              "    }\n",
              "\n",
              "    .dataframe tbody tr th {\n",
              "        vertical-align: top;\n",
              "    }\n",
              "\n",
              "    .dataframe thead th {\n",
              "        text-align: right;\n",
              "    }\n",
              "</style>\n",
              "<table border=\"1\" class=\"dataframe\">\n",
              "  <thead>\n",
              "    <tr style=\"text-align: right;\">\n",
              "      <th></th>\n",
              "      <th>name</th>\n",
              "      <th>title</th>\n",
              "      <th>product</th>\n",
              "      <th>description</th>\n",
              "      <th>domain</th>\n",
              "      <th>country</th>\n",
              "      <th>label_product</th>\n",
              "      <th>price</th>\n",
              "      <th>currency</th>\n",
              "      <th>production_date</th>\n",
              "      <th>image</th>\n",
              "      <th>url</th>\n",
              "      <th>location</th>\n",
              "      <th>domain_country_code</th>\n",
              "      <th>domain_country</th>\n",
              "      <th>normalized_price_usd</th>\n",
              "      <th>product_cleaned</th>\n",
              "      <th>species</th>\n",
              "    </tr>\n",
              "  </thead>\n",
              "  <tbody>\n",
              "    <tr>\n",
              "      <th>0</th>\n",
              "      <td>adventures and bones color ebay hailstones hal...</td>\n",
              "      <td>adventures and bones color ebay hailstones hal...</td>\n",
              "      <td>adventures and bones color ebay hailstones hal...</td>\n",
              "      <td>adventures and at best bones color deals ebay ...</td>\n",
              "      <td>ebay.com.au</td>\n",
              "      <td>Australia</td>\n",
              "      <td>an animal body part</td>\n",
              "      <td>22.25</td>\n",
              "      <td>AUD</td>\n",
              "      <td>NaN</td>\n",
              "      <td>https://images.awesomebooks.com/images/books/r...</td>\n",
              "      <td>https://www.ebay.com.au/itm/384104329587?amdat...</td>\n",
              "      <td>NaN</td>\n",
              "      <td>au</td>\n",
              "      <td>Australia</td>\n",
              "      <td>34</td>\n",
              "      <td>adventures hailstones mary oneill</td>\n",
              "      <td>None</td>\n",
              "    </tr>\n",
              "    <tr>\n",
              "      <th>1</th>\n",
              "      <td>contortus ebay hill miocene physogaleus shark ...</td>\n",
              "      <td>contortus ebay hill miocene physogaleus shark ...</td>\n",
              "      <td>contortus ebay hill miocene physogaleus shark ...</td>\n",
              "      <td>and at best contortus deals delivery ebay find...</td>\n",
              "      <td>ebay.co.uk</td>\n",
              "      <td>United Kingdom</td>\n",
              "      <td>an animal body part</td>\n",
              "      <td>12.63</td>\n",
              "      <td>GBP</td>\n",
              "      <td>NaN</td>\n",
              "      <td>https://i.ebayimg.com/images/g/x~gAAOSwtsVZkch...</td>\n",
              "      <td>https://www.ebay.co.uk/itm/222613331802</td>\n",
              "      <td>NaN</td>\n",
              "      <td>uk</td>\n",
              "      <td>United Kingdom</td>\n",
              "      <td>10</td>\n",
              "      <td>contortus hill physogaleus shark sharktooth ti...</td>\n",
              "      <td>(contortus)</td>\n",
              "    </tr>\n",
              "    <tr>\n",
              "      <th>2</th>\n",
              "      <td>azaz contortus ebay hill physogaleus sharktooth</td>\n",
              "      <td>azaz contortus ebay hill physogaleus sharktooth</td>\n",
              "      <td>azaz contortus ebay hill physogaleus sharktooth</td>\n",
              "      <td>and at azaz best contortus deals ebay find for...</td>\n",
              "      <td>ebay.com</td>\n",
              "      <td>NaN</td>\n",
              "      <td>an animal body part</td>\n",
              "      <td>111.39</td>\n",
              "      <td>CNY</td>\n",
              "      <td>NaN</td>\n",
              "      <td>https://i.ebayimg.com/images/g/x~gAAOSwtsVZkch...</td>\n",
              "      <td>https://www.ebay.com/itm/222613331802?_ul=CN</td>\n",
              "      <td>NaN</td>\n",
              "      <td>com</td>\n",
              "      <td>NaN</td>\n",
              "      <td>790</td>\n",
              "      <td>azaz contortus hill physogaleus sharktooth</td>\n",
              "      <td>(azaz, contortus)</td>\n",
              "    </tr>\n",
              "    <tr>\n",
              "      <th>5</th>\n",
              "      <td>almofada brinquedo d de ebay estereo gato peca...</td>\n",
              "      <td>almofada brinquedo d de ebay estereo gato peca...</td>\n",
              "      <td>almofada brinquedo d de ebay estereo gato peca...</td>\n",
              "      <td>almofada and at best brinquedo d de deals ebay...</td>\n",
              "      <td>ebay.com</td>\n",
              "      <td>NaN</td>\n",
              "      <td>an animal body part</td>\n",
              "      <td>74.43</td>\n",
              "      <td>EUR</td>\n",
              "      <td>NaN</td>\n",
              "      <td>https://i.ebayimg.com/images/g/CQkAAOSwbtFlGxO...</td>\n",
              "      <td>https://www.ebay.com/itm/155807567987?_ul=PT</td>\n",
              "      <td>NaN</td>\n",
              "      <td>com</td>\n",
              "      <td>NaN</td>\n",
              "      <td>68</td>\n",
              "      <td>almofada estereo gato peca pelucia simulado tr...</td>\n",
              "      <td>None</td>\n",
              "    </tr>\n",
              "    <tr>\n",
              "      <th>7</th>\n",
              "      <td>black crafts decorations dining ebay feathers ...</td>\n",
              "      <td>black crafts decorations dining ebay feathers ...</td>\n",
              "      <td>black crafts decorations dining ebay feathers ...</td>\n",
              "      <td>and at best black crafts deals decorations del...</td>\n",
              "      <td>ebay.co.uk</td>\n",
              "      <td>United Kingdom</td>\n",
              "      <td>an animal body part</td>\n",
              "      <td>9.58</td>\n",
              "      <td>GBP</td>\n",
              "      <td>NaN</td>\n",
              "      <td>https://i.ebayimg.com/images/g/Q1IAAOSws29lGwl...</td>\n",
              "      <td>https://www.ebay.co.uk/itm/314864391496?amdata...</td>\n",
              "      <td>NaN</td>\n",
              "      <td>uk</td>\n",
              "      <td>United Kingdom</td>\n",
              "      <td>8</td>\n",
              "      <td>decorations federn kanstliche ostrich</td>\n",
              "      <td>None</td>\n",
              "    </tr>\n",
              "  </tbody>\n",
              "</table>\n",
              "</div>"
            ],
            "text/plain": [
              "                                                name  \\\n",
              "0  adventures and bones color ebay hailstones hal...   \n",
              "1  contortus ebay hill miocene physogaleus shark ...   \n",
              "2    azaz contortus ebay hill physogaleus sharktooth   \n",
              "5  almofada brinquedo d de ebay estereo gato peca...   \n",
              "7  black crafts decorations dining ebay feathers ...   \n",
              "\n",
              "                                               title  \\\n",
              "0  adventures and bones color ebay hailstones hal...   \n",
              "1  contortus ebay hill miocene physogaleus shark ...   \n",
              "2    azaz contortus ebay hill physogaleus sharktooth   \n",
              "5  almofada brinquedo d de ebay estereo gato peca...   \n",
              "7  black crafts decorations dining ebay feathers ...   \n",
              "\n",
              "                                             product  \\\n",
              "0  adventures and bones color ebay hailstones hal...   \n",
              "1  contortus ebay hill miocene physogaleus shark ...   \n",
              "2    azaz contortus ebay hill physogaleus sharktooth   \n",
              "5  almofada brinquedo d de ebay estereo gato peca...   \n",
              "7  black crafts decorations dining ebay feathers ...   \n",
              "\n",
              "                                         description       domain  \\\n",
              "0  adventures and at best bones color deals ebay ...  ebay.com.au   \n",
              "1  and at best contortus deals delivery ebay find...   ebay.co.uk   \n",
              "2  and at azaz best contortus deals ebay find for...     ebay.com   \n",
              "5  almofada and at best brinquedo d de deals ebay...     ebay.com   \n",
              "7  and at best black crafts deals decorations del...   ebay.co.uk   \n",
              "\n",
              "          country        label_product   price currency production_date  \\\n",
              "0       Australia  an animal body part   22.25      AUD             NaN   \n",
              "1  United Kingdom  an animal body part   12.63      GBP             NaN   \n",
              "2             NaN  an animal body part  111.39      CNY             NaN   \n",
              "5             NaN  an animal body part   74.43      EUR             NaN   \n",
              "7  United Kingdom  an animal body part    9.58      GBP             NaN   \n",
              "\n",
              "                                               image  \\\n",
              "0  https://images.awesomebooks.com/images/books/r...   \n",
              "1  https://i.ebayimg.com/images/g/x~gAAOSwtsVZkch...   \n",
              "2  https://i.ebayimg.com/images/g/x~gAAOSwtsVZkch...   \n",
              "5  https://i.ebayimg.com/images/g/CQkAAOSwbtFlGxO...   \n",
              "7  https://i.ebayimg.com/images/g/Q1IAAOSws29lGwl...   \n",
              "\n",
              "                                                 url location  \\\n",
              "0  https://www.ebay.com.au/itm/384104329587?amdat...      NaN   \n",
              "1            https://www.ebay.co.uk/itm/222613331802      NaN   \n",
              "2       https://www.ebay.com/itm/222613331802?_ul=CN      NaN   \n",
              "5       https://www.ebay.com/itm/155807567987?_ul=PT      NaN   \n",
              "7  https://www.ebay.co.uk/itm/314864391496?amdata...      NaN   \n",
              "\n",
              "  domain_country_code  domain_country  normalized_price_usd  \\\n",
              "0                  au       Australia                    34   \n",
              "1                  uk  United Kingdom                    10   \n",
              "2                 com             NaN                   790   \n",
              "5                 com             NaN                    68   \n",
              "7                  uk  United Kingdom                     8   \n",
              "\n",
              "                                     product_cleaned            species  \n",
              "0                  adventures hailstones mary oneill               None  \n",
              "1  contortus hill physogaleus shark sharktooth ti...        (contortus)  \n",
              "2         azaz contortus hill physogaleus sharktooth  (azaz, contortus)  \n",
              "5  almofada estereo gato peca pelucia simulado tr...               None  \n",
              "7              decorations federn kanstliche ostrich               None  "
            ]
          },
          "execution_count": 51,
          "metadata": {},
          "output_type": "execute_result"
        }
      ],
      "source": [
        "df.head(5)"
      ]
    },
    {
      "cell_type": "code",
      "execution_count": null,
      "id": "0949b82f",
      "metadata": {
        "id": "0949b82f",
        "outputId": "239d5669-712a-4534-9d2f-07f7788121b2"
      },
      "outputs": [
        {
          "data": {
            "text/plain": [
              "3666"
            ]
          },
          "execution_count": 81,
          "metadata": {},
          "output_type": "execute_result"
        }
      ],
      "source": [
        "df['species'].notna().sum()"
      ]
    },
    {
      "cell_type": "code",
      "execution_count": null,
      "id": "98325ae7",
      "metadata": {
        "id": "98325ae7"
      },
      "outputs": [],
      "source": [
        "df2 = df[df['species'].notna()]"
      ]
    },
    {
      "cell_type": "code",
      "execution_count": null,
      "id": "168475f2",
      "metadata": {
        "id": "168475f2",
        "outputId": "1bf49fdb-2753-4e28-bcf2-2a3499d8bac2"
      },
      "outputs": [
        {
          "data": {
            "text/html": [
              "<div>\n",
              "<style scoped>\n",
              "    .dataframe tbody tr th:only-of-type {\n",
              "        vertical-align: middle;\n",
              "    }\n",
              "\n",
              "    .dataframe tbody tr th {\n",
              "        vertical-align: top;\n",
              "    }\n",
              "\n",
              "    .dataframe thead th {\n",
              "        text-align: right;\n",
              "    }\n",
              "</style>\n",
              "<table border=\"1\" class=\"dataframe\">\n",
              "  <thead>\n",
              "    <tr style=\"text-align: right;\">\n",
              "      <th></th>\n",
              "      <th>name</th>\n",
              "      <th>title</th>\n",
              "      <th>product</th>\n",
              "      <th>description</th>\n",
              "      <th>domain</th>\n",
              "      <th>country</th>\n",
              "      <th>label_product</th>\n",
              "      <th>price</th>\n",
              "      <th>currency</th>\n",
              "      <th>production_date</th>\n",
              "      <th>image</th>\n",
              "      <th>url</th>\n",
              "      <th>location</th>\n",
              "      <th>domain_country_code</th>\n",
              "      <th>domain_country</th>\n",
              "      <th>normalized_price_usd</th>\n",
              "      <th>product_cleaned</th>\n",
              "      <th>species</th>\n",
              "      <th>illegal_trade</th>\n",
              "    </tr>\n",
              "  </thead>\n",
              "  <tbody>\n",
              "    <tr>\n",
              "      <th>17399</th>\n",
              "      <td>ebay gi joe tiger</td>\n",
              "      <td>ebay gi joe tiger</td>\n",
              "      <td>ebay gi joe tiger</td>\n",
              "      <td>and at best deals ebay find for free get gi gr...</td>\n",
              "      <td>ebay.com</td>\n",
              "      <td>NaN</td>\n",
              "      <td>an animal body part</td>\n",
              "      <td>146.01</td>\n",
              "      <td>CNY</td>\n",
              "      <td>NaN</td>\n",
              "      <td>https://i.ebayimg.com/images/g/4tAAAOSwz~5lCHl...</td>\n",
              "      <td>https://www.ebay.com/itm/285479518791?_ul=CN</td>\n",
              "      <td>NaN</td>\n",
              "      <td>com</td>\n",
              "      <td>NaN</td>\n",
              "      <td>1036</td>\n",
              "      <td>tiger</td>\n",
              "      <td>(tiger)</td>\n",
              "      <td>[sand tiger shark]</td>\n",
              "    </tr>\n",
              "    <tr>\n",
              "      <th>17418</th>\n",
              "      <td>ebay merops niloticus nubicus ss varanus</td>\n",
              "      <td>ebay merops niloticus nubicus ss varanus</td>\n",
              "      <td>ebay merops niloticus nubicus ss varanus</td>\n",
              "      <td>and at best deals ebay find for free get great...</td>\n",
              "      <td>ebay.com</td>\n",
              "      <td>NaN</td>\n",
              "      <td>an animal body part</td>\n",
              "      <td>135.27</td>\n",
              "      <td>CNY</td>\n",
              "      <td>NaN</td>\n",
              "      <td>https://i.ebayimg.com/images/g/3LUAAOSwg81k0hQ...</td>\n",
              "      <td>https://www.ebay.com/itm/126037313863?_ul=CN</td>\n",
              "      <td>NaN</td>\n",
              "      <td>com</td>\n",
              "      <td>NaN</td>\n",
              "      <td>959</td>\n",
              "      <td>merops niloticus nubicus varanus</td>\n",
              "      <td>(merops, niloticus, nubicus, varanus)</td>\n",
              "      <td>None</td>\n",
              "    </tr>\n",
              "    <tr>\n",
              "      <th>17427</th>\n",
              "      <td>adventure ebay great iuuou planet plush shark ...</td>\n",
              "      <td>adventure ebay great iuuou planet plush shark ...</td>\n",
              "      <td>adventure ebay great iuuou planet plush shark ...</td>\n",
              "      <td>adventure animals ebay great hobbies iuuou oth...</td>\n",
              "      <td>ebay.com.my</td>\n",
              "      <td>Malaysia</td>\n",
              "      <td>an animal body part</td>\n",
              "      <td>14.10</td>\n",
              "      <td>MYR</td>\n",
              "      <td>NaN</td>\n",
              "      <td>https://i.ebayimg.com/images/g/c~MAAOSwnwNlCIc...</td>\n",
              "      <td>https://www.ebay.com.my/itm/374938087872?amdat...</td>\n",
              "      <td>NaN</td>\n",
              "      <td>my</td>\n",
              "      <td>Malaysia</td>\n",
              "      <td>66</td>\n",
              "      <td>great iuuou shark white</td>\n",
              "      <td>(great, iuuou, shark)</td>\n",
              "      <td>None</td>\n",
              "    </tr>\n",
              "    <tr>\n",
              "      <th>17429</th>\n",
              "      <td>fish ieatanzania life marine mnh neuf polar sh...</td>\n",
              "      <td>fish ieatanzania life marine mnh neuf picclick...</td>\n",
              "      <td>fish ieatanzania life marine mnh neuf picclick...</td>\n",
              "      <td>TMee a aa accepted altrove america at attentio...</td>\n",
              "      <td>picclick.com</td>\n",
              "      <td>United States</td>\n",
              "      <td>an animal body part</td>\n",
              "      <td>4.00</td>\n",
              "      <td>USD</td>\n",
              "      <td>NaN</td>\n",
              "      <td>https://www.picclickimg.com/qOIAAOSwMa5lEyWz/T...</td>\n",
              "      <td>http://picclick.com/%F0%9F%91%89TANZANIA-2000-...</td>\n",
              "      <td>Long Beach, New York, US</td>\n",
              "      <td>com</td>\n",
              "      <td>NaN</td>\n",
              "      <td>4</td>\n",
              "      <td>ieatanzania polar</td>\n",
              "      <td>(ieatanzania)</td>\n",
              "      <td>None</td>\n",
              "    </tr>\n",
              "    <tr>\n",
              "      <th>17432</th>\n",
              "      <td>ebay funnyauiiii iiiigreat large shark size ts...</td>\n",
              "      <td>ebay funnyauiiii iiiigreat large shark size ts...</td>\n",
              "      <td>ebay funnyauiiii iiiigreat large shark size ts...</td>\n",
              "      <td>and at best deals ebay find for free funnyauii...</td>\n",
              "      <td>ebay.ca</td>\n",
              "      <td>Canada</td>\n",
              "      <td>an animal body part</td>\n",
              "      <td>13.67</td>\n",
              "      <td>CAD</td>\n",
              "      <td>NaN</td>\n",
              "      <td>https://i.ebayimg.com/images/g/8tgAAOSwD7ljYZm...</td>\n",
              "      <td>https://www.ebay.ca/itm/115927314157?amdata=en...</td>\n",
              "      <td>NaN</td>\n",
              "      <td>ca</td>\n",
              "      <td>Canada</td>\n",
              "      <td>19</td>\n",
              "      <td>shark white</td>\n",
              "      <td>(shark, white)</td>\n",
              "      <td>None</td>\n",
              "    </tr>\n",
              "  </tbody>\n",
              "</table>\n",
              "</div>"
            ],
            "text/plain": [
              "                                                    name  \\\n",
              "17399                                  ebay gi joe tiger   \n",
              "17418           ebay merops niloticus nubicus ss varanus   \n",
              "17427  adventure ebay great iuuou planet plush shark ...   \n",
              "17429  fish ieatanzania life marine mnh neuf polar sh...   \n",
              "17432  ebay funnyauiiii iiiigreat large shark size ts...   \n",
              "\n",
              "                                                   title  \\\n",
              "17399                                  ebay gi joe tiger   \n",
              "17418           ebay merops niloticus nubicus ss varanus   \n",
              "17427  adventure ebay great iuuou planet plush shark ...   \n",
              "17429  fish ieatanzania life marine mnh neuf picclick...   \n",
              "17432  ebay funnyauiiii iiiigreat large shark size ts...   \n",
              "\n",
              "                                                 product  \\\n",
              "17399                                  ebay gi joe tiger   \n",
              "17418           ebay merops niloticus nubicus ss varanus   \n",
              "17427  adventure ebay great iuuou planet plush shark ...   \n",
              "17429  fish ieatanzania life marine mnh neuf picclick...   \n",
              "17432  ebay funnyauiiii iiiigreat large shark size ts...   \n",
              "\n",
              "                                             description        domain  \\\n",
              "17399  and at best deals ebay find for free get gi gr...      ebay.com   \n",
              "17418  and at best deals ebay find for free get great...      ebay.com   \n",
              "17427  adventure animals ebay great hobbies iuuou oth...   ebay.com.my   \n",
              "17429  TMee a aa accepted altrove america at attentio...  picclick.com   \n",
              "17432  and at best deals ebay find for free funnyauii...       ebay.ca   \n",
              "\n",
              "             country        label_product   price currency production_date  \\\n",
              "17399            NaN  an animal body part  146.01      CNY             NaN   \n",
              "17418            NaN  an animal body part  135.27      CNY             NaN   \n",
              "17427       Malaysia  an animal body part   14.10      MYR             NaN   \n",
              "17429  United States  an animal body part    4.00      USD             NaN   \n",
              "17432         Canada  an animal body part   13.67      CAD             NaN   \n",
              "\n",
              "                                                   image  \\\n",
              "17399  https://i.ebayimg.com/images/g/4tAAAOSwz~5lCHl...   \n",
              "17418  https://i.ebayimg.com/images/g/3LUAAOSwg81k0hQ...   \n",
              "17427  https://i.ebayimg.com/images/g/c~MAAOSwnwNlCIc...   \n",
              "17429  https://www.picclickimg.com/qOIAAOSwMa5lEyWz/T...   \n",
              "17432  https://i.ebayimg.com/images/g/8tgAAOSwD7ljYZm...   \n",
              "\n",
              "                                                     url  \\\n",
              "17399       https://www.ebay.com/itm/285479518791?_ul=CN   \n",
              "17418       https://www.ebay.com/itm/126037313863?_ul=CN   \n",
              "17427  https://www.ebay.com.my/itm/374938087872?amdat...   \n",
              "17429  http://picclick.com/%F0%9F%91%89TANZANIA-2000-...   \n",
              "17432  https://www.ebay.ca/itm/115927314157?amdata=en...   \n",
              "\n",
              "                       location domain_country_code domain_country  \\\n",
              "17399                       NaN                 com            NaN   \n",
              "17418                       NaN                 com            NaN   \n",
              "17427                       NaN                  my       Malaysia   \n",
              "17429  Long Beach, New York, US                 com            NaN   \n",
              "17432                       NaN                  ca         Canada   \n",
              "\n",
              "       normalized_price_usd                   product_cleaned  \\\n",
              "17399                  1036                             tiger   \n",
              "17418                   959  merops niloticus nubicus varanus   \n",
              "17427                    66           great iuuou shark white   \n",
              "17429                     4                 ieatanzania polar   \n",
              "17432                    19                       shark white   \n",
              "\n",
              "                                     species       illegal_trade  \n",
              "17399                                (tiger)  [sand tiger shark]  \n",
              "17418  (merops, niloticus, nubicus, varanus)                None  \n",
              "17427                  (great, iuuou, shark)                None  \n",
              "17429                          (ieatanzania)                None  \n",
              "17432                         (shark, white)                None  "
            ]
          },
          "execution_count": 85,
          "metadata": {},
          "output_type": "execute_result"
        }
      ],
      "source": [
        "df2.head(5)"
      ]
    },
    {
      "cell_type": "code",
      "execution_count": null,
      "id": "5ebf5ba0",
      "metadata": {
        "id": "5ebf5ba0"
      },
      "outputs": [],
      "source": []
    },
    {
      "cell_type": "markdown",
      "id": "67f95c36",
      "metadata": {
        "id": "67f95c36"
      },
      "source": [
        "# References\n",
        "https://spacy.io/usage/linguistic-features#morphology\n",
        "https://www.analyticsvidhya.com/blog/2022/03/keyword-extraction-methods-from-documents-in-nlp/#h-spacy\n",
        "https://pypi.org/project/taxonerd/\n",
        "https://pypi.org/project/fuzzywuzzy/\n",
        "https://medium.com/mlearning-ai/all-about-rapidfuzz-string-similarity-and-matching-cd26fdc963d8#:~:text=3.,the%20ratio%20will%20be%20100.\n",
        "https://chairnerd.seatgeek.com/fuzzywuzzy-fuzzy-string-matching-in-python/\n",
        "https://www.analyticsvidhya.com/blog/2021/06/fuzzywuzzy-python-library-interesting-tool-for-nlp-and-text-analytics/"
      ]
    },
    {
      "cell_type": "code",
      "source": [],
      "metadata": {
        "id": "O8IZpTCmgIoJ"
      },
      "id": "O8IZpTCmgIoJ",
      "execution_count": null,
      "outputs": []
    }
  ],
  "metadata": {
    "kernelspec": {
      "display_name": "Python 3",
      "language": "python",
      "name": "python3"
    },
    "language_info": {
      "codemirror_mode": {
        "name": "ipython",
        "version": 3
      },
      "file_extension": ".py",
      "mimetype": "text/x-python",
      "name": "python",
      "nbconvert_exporter": "python",
      "pygments_lexer": "ipython3",
      "version": "3.8.8"
    },
    "colab": {
      "provenance": [],
      "collapsed_sections": [
        "tj209jjehaJ3",
        "K5bHelzXh2uZ",
        "eBIdezIMiQ3l"
      ],
      "include_colab_link": true
    }
  },
  "nbformat": 4,
  "nbformat_minor": 5
}